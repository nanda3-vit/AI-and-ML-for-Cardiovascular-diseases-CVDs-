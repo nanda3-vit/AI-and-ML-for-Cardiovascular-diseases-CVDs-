{
  "nbformat": 4,
  "nbformat_minor": 0,
  "metadata": {
    "colab": {
      "name": "Heart Disease Prediction4.ipynb",
      "provenance": [],
      "collapsed_sections": [],
      "authorship_tag": "ABX9TyP32RpYAmGVaxaHDVu4Vaa3",
      "include_colab_link": true
    },
    "kernelspec": {
      "name": "python3",
      "display_name": "Python 3"
    },
    "language_info": {
      "name": "python"
    }
  },
  "cells": [
    {
      "cell_type": "markdown",
      "metadata": {
        "id": "view-in-github",
        "colab_type": "text"
      },
      "source": [
        "<a href=\"https://colab.research.google.com/github/nanda3-vit/AI-and-ML-for-Cardiovascular-diseases-CVDs-/blob/main/Heart_Disease_Prediction4.ipynb\" target=\"_parent\"><img src=\"https://colab.research.google.com/assets/colab-badge.svg\" alt=\"Open In Colab\"/></a>"
      ]
    },
    {
      "cell_type": "markdown",
      "source": [
        "**Predicting Categorical Data (Heart Disease) Using Classification Algorithms**\n",
        "\n",
        "**Dataset - Z-Alizadeh Sani**"
      ],
      "metadata": {
        "id": "cPX3iU2nVRAv"
      }
    },
    {
      "cell_type": "code",
      "source": [
        "#Import required libraries\n",
        "import pandas as pd\n",
        "import numpy as np\n",
        "import matplotlib.pyplot as plt\n",
        " \n",
        "from sklearn.preprocessing import LabelEncoder\n",
        "from sklearn.model_selection import train_test_split\n",
        "from sklearn.model_selection import cross_val_score\n",
        "from sklearn.model_selection import GridSearchCV\n",
        "from sklearn.preprocessing import StandardScaler\n",
        "from sklearn.linear_model import LogisticRegression\n",
        "from sklearn.neighbors import KNeighborsClassifier\n",
        "from sklearn.svm import SVC\n",
        "from sklearn.tree import DecisionTreeClassifier\n",
        "from sklearn.ensemble import RandomForestClassifier\n",
        "from sklearn.naive_bayes import GaussianNB\n",
        "from sklearn.metrics import accuracy_score"
      ],
      "metadata": {
        "id": "jJq0McE3Kv-7"
      },
      "execution_count": 1,
      "outputs": []
    },
    {
      "cell_type": "code",
      "source": [
        "#Read the dataset\n",
        "data=pd.read_csv('/content/sample_data/4.Z-AlizadehsaniHDataset.csv')\n",
        " \n",
        "#Display the first five rows\n",
        "print(data.head())"
      ],
      "metadata": {
        "colab": {
          "base_uri": "https://localhost:8080/"
        },
        "id": "9nWHMY4OVcE9",
        "outputId": "0921223c-64f2-4708-9e7d-8b57d171428f"
      },
      "execution_count": 2,
      "outputs": [
        {
          "output_type": "stream",
          "name": "stdout",
          "text": [
            "   Age  Weight  Length  Sex        BMI  DM  HTN  Current Smoker  EX-Smoker  \\\n",
            "0   53      90     175    1  29.387755   0    1               1          0   \n",
            "1   67      70     157    0  28.398718   0    1               0          0   \n",
            "2   54      54     164    1  20.077335   0    0               1          0   \n",
            "3   66      67     158    0  26.838648   0    1               0          0   \n",
            "4   50      87     153    0  37.165193   0    1               0          0   \n",
            "\n",
            "   FH  ...    K   Na    WBC  Lymph  Neut  PLT  EF-TTE  Region RWMA  VHD  Cath  \n",
            "0   0  ...  4.7  141   5700     39    52  261      50            0    0     1  \n",
            "1   0  ...  4.7  156   7700     38    55  165      40            4    0     1  \n",
            "2   0  ...  4.7  139   7400     38    60  230      40            2    1     1  \n",
            "3   0  ...  4.4  142  13000     18    72  742      55            0    3     0  \n",
            "4   0  ...  4.0  140   9200     55    39  274      50            0    3     0  \n",
            "\n",
            "[5 rows x 56 columns]\n"
          ]
        }
      ]
    },
    {
      "cell_type": "code",
      "source": [
        "data.groupby('Cath').count()"
      ],
      "metadata": {
        "colab": {
          "base_uri": "https://localhost:8080/",
          "height": 217
        },
        "id": "V3_NZ6ZyVgMc",
        "outputId": "c6d6efc5-4c54-4dbe-cf5e-1dc8d1c8379f"
      },
      "execution_count": 3,
      "outputs": [
        {
          "output_type": "execute_result",
          "data": {
            "text/plain": [
              "      Age  Weight  Length  Sex  BMI   DM  HTN  Current Smoker  EX-Smoker   FH  \\\n",
              "Cath                                                                            \n",
              "0      87      87      87   87   87   87   87              87         87   87   \n",
              "1     216     216     216  216  216  216  216             216        216  216   \n",
              "\n",
              "      ...   HB    K   Na  WBC  Lymph  Neut  PLT  EF-TTE  Region RWMA  VHD  \n",
              "Cath  ...                                                                  \n",
              "0     ...   87   87   87   87     87    87   87      87           87   87  \n",
              "1     ...  216  216  216  216    216   216  216     216          216  216  \n",
              "\n",
              "[2 rows x 55 columns]"
            ],
            "text/html": [
              "\n",
              "  <div id=\"df-a688ed73-3de8-4994-ab4f-01b912bd913a\">\n",
              "    <div class=\"colab-df-container\">\n",
              "      <div>\n",
              "<style scoped>\n",
              "    .dataframe tbody tr th:only-of-type {\n",
              "        vertical-align: middle;\n",
              "    }\n",
              "\n",
              "    .dataframe tbody tr th {\n",
              "        vertical-align: top;\n",
              "    }\n",
              "\n",
              "    .dataframe thead th {\n",
              "        text-align: right;\n",
              "    }\n",
              "</style>\n",
              "<table border=\"1\" class=\"dataframe\">\n",
              "  <thead>\n",
              "    <tr style=\"text-align: right;\">\n",
              "      <th></th>\n",
              "      <th>Age</th>\n",
              "      <th>Weight</th>\n",
              "      <th>Length</th>\n",
              "      <th>Sex</th>\n",
              "      <th>BMI</th>\n",
              "      <th>DM</th>\n",
              "      <th>HTN</th>\n",
              "      <th>Current Smoker</th>\n",
              "      <th>EX-Smoker</th>\n",
              "      <th>FH</th>\n",
              "      <th>...</th>\n",
              "      <th>HB</th>\n",
              "      <th>K</th>\n",
              "      <th>Na</th>\n",
              "      <th>WBC</th>\n",
              "      <th>Lymph</th>\n",
              "      <th>Neut</th>\n",
              "      <th>PLT</th>\n",
              "      <th>EF-TTE</th>\n",
              "      <th>Region RWMA</th>\n",
              "      <th>VHD</th>\n",
              "    </tr>\n",
              "    <tr>\n",
              "      <th>Cath</th>\n",
              "      <th></th>\n",
              "      <th></th>\n",
              "      <th></th>\n",
              "      <th></th>\n",
              "      <th></th>\n",
              "      <th></th>\n",
              "      <th></th>\n",
              "      <th></th>\n",
              "      <th></th>\n",
              "      <th></th>\n",
              "      <th></th>\n",
              "      <th></th>\n",
              "      <th></th>\n",
              "      <th></th>\n",
              "      <th></th>\n",
              "      <th></th>\n",
              "      <th></th>\n",
              "      <th></th>\n",
              "      <th></th>\n",
              "      <th></th>\n",
              "      <th></th>\n",
              "    </tr>\n",
              "  </thead>\n",
              "  <tbody>\n",
              "    <tr>\n",
              "      <th>0</th>\n",
              "      <td>87</td>\n",
              "      <td>87</td>\n",
              "      <td>87</td>\n",
              "      <td>87</td>\n",
              "      <td>87</td>\n",
              "      <td>87</td>\n",
              "      <td>87</td>\n",
              "      <td>87</td>\n",
              "      <td>87</td>\n",
              "      <td>87</td>\n",
              "      <td>...</td>\n",
              "      <td>87</td>\n",
              "      <td>87</td>\n",
              "      <td>87</td>\n",
              "      <td>87</td>\n",
              "      <td>87</td>\n",
              "      <td>87</td>\n",
              "      <td>87</td>\n",
              "      <td>87</td>\n",
              "      <td>87</td>\n",
              "      <td>87</td>\n",
              "    </tr>\n",
              "    <tr>\n",
              "      <th>1</th>\n",
              "      <td>216</td>\n",
              "      <td>216</td>\n",
              "      <td>216</td>\n",
              "      <td>216</td>\n",
              "      <td>216</td>\n",
              "      <td>216</td>\n",
              "      <td>216</td>\n",
              "      <td>216</td>\n",
              "      <td>216</td>\n",
              "      <td>216</td>\n",
              "      <td>...</td>\n",
              "      <td>216</td>\n",
              "      <td>216</td>\n",
              "      <td>216</td>\n",
              "      <td>216</td>\n",
              "      <td>216</td>\n",
              "      <td>216</td>\n",
              "      <td>216</td>\n",
              "      <td>216</td>\n",
              "      <td>216</td>\n",
              "      <td>216</td>\n",
              "    </tr>\n",
              "  </tbody>\n",
              "</table>\n",
              "<p>2 rows × 55 columns</p>\n",
              "</div>\n",
              "      <button class=\"colab-df-convert\" onclick=\"convertToInteractive('df-a688ed73-3de8-4994-ab4f-01b912bd913a')\"\n",
              "              title=\"Convert this dataframe to an interactive table.\"\n",
              "              style=\"display:none;\">\n",
              "        \n",
              "  <svg xmlns=\"http://www.w3.org/2000/svg\" height=\"24px\"viewBox=\"0 0 24 24\"\n",
              "       width=\"24px\">\n",
              "    <path d=\"M0 0h24v24H0V0z\" fill=\"none\"/>\n",
              "    <path d=\"M18.56 5.44l.94 2.06.94-2.06 2.06-.94-2.06-.94-.94-2.06-.94 2.06-2.06.94zm-11 1L8.5 8.5l.94-2.06 2.06-.94-2.06-.94L8.5 2.5l-.94 2.06-2.06.94zm10 10l.94 2.06.94-2.06 2.06-.94-2.06-.94-.94-2.06-.94 2.06-2.06.94z\"/><path d=\"M17.41 7.96l-1.37-1.37c-.4-.4-.92-.59-1.43-.59-.52 0-1.04.2-1.43.59L10.3 9.45l-7.72 7.72c-.78.78-.78 2.05 0 2.83L4 21.41c.39.39.9.59 1.41.59.51 0 1.02-.2 1.41-.59l7.78-7.78 2.81-2.81c.8-.78.8-2.07 0-2.86zM5.41 20L4 18.59l7.72-7.72 1.47 1.35L5.41 20z\"/>\n",
              "  </svg>\n",
              "      </button>\n",
              "      \n",
              "  <style>\n",
              "    .colab-df-container {\n",
              "      display:flex;\n",
              "      flex-wrap:wrap;\n",
              "      gap: 12px;\n",
              "    }\n",
              "\n",
              "    .colab-df-convert {\n",
              "      background-color: #E8F0FE;\n",
              "      border: none;\n",
              "      border-radius: 50%;\n",
              "      cursor: pointer;\n",
              "      display: none;\n",
              "      fill: #1967D2;\n",
              "      height: 32px;\n",
              "      padding: 0 0 0 0;\n",
              "      width: 32px;\n",
              "    }\n",
              "\n",
              "    .colab-df-convert:hover {\n",
              "      background-color: #E2EBFA;\n",
              "      box-shadow: 0px 1px 2px rgba(60, 64, 67, 0.3), 0px 1px 3px 1px rgba(60, 64, 67, 0.15);\n",
              "      fill: #174EA6;\n",
              "    }\n",
              "\n",
              "    [theme=dark] .colab-df-convert {\n",
              "      background-color: #3B4455;\n",
              "      fill: #D2E3FC;\n",
              "    }\n",
              "\n",
              "    [theme=dark] .colab-df-convert:hover {\n",
              "      background-color: #434B5C;\n",
              "      box-shadow: 0px 1px 3px 1px rgba(0, 0, 0, 0.15);\n",
              "      filter: drop-shadow(0px 1px 2px rgba(0, 0, 0, 0.3));\n",
              "      fill: #FFFFFF;\n",
              "    }\n",
              "  </style>\n",
              "\n",
              "      <script>\n",
              "        const buttonEl =\n",
              "          document.querySelector('#df-a688ed73-3de8-4994-ab4f-01b912bd913a button.colab-df-convert');\n",
              "        buttonEl.style.display =\n",
              "          google.colab.kernel.accessAllowed ? 'block' : 'none';\n",
              "\n",
              "        async function convertToInteractive(key) {\n",
              "          const element = document.querySelector('#df-a688ed73-3de8-4994-ab4f-01b912bd913a');\n",
              "          const dataTable =\n",
              "            await google.colab.kernel.invokeFunction('convertToInteractive',\n",
              "                                                     [key], {});\n",
              "          if (!dataTable) return;\n",
              "\n",
              "          const docLinkHtml = 'Like what you see? Visit the ' +\n",
              "            '<a target=\"_blank\" href=https://colab.research.google.com/notebooks/data_table.ipynb>data table notebook</a>'\n",
              "            + ' to learn more about interactive tables.';\n",
              "          element.innerHTML = '';\n",
              "          dataTable['output_type'] = 'display_data';\n",
              "          await google.colab.output.renderOutput(dataTable, element);\n",
              "          const docLink = document.createElement('div');\n",
              "          docLink.innerHTML = docLinkHtml;\n",
              "          element.appendChild(docLink);\n",
              "        }\n",
              "      </script>\n",
              "    </div>\n",
              "  </div>\n",
              "  "
            ]
          },
          "metadata": {},
          "execution_count": 3
        }
      ]
    },
    {
      "cell_type": "code",
      "source": [
        "#Check for null values\n",
        "print(data.isnull().sum())"
      ],
      "metadata": {
        "colab": {
          "base_uri": "https://localhost:8080/"
        },
        "id": "dcFycCGgVrd8",
        "outputId": "03861207-7d64-4ad5-cb89-625301ed85e8"
      },
      "execution_count": 4,
      "outputs": [
        {
          "output_type": "stream",
          "name": "stdout",
          "text": [
            "Age                      0\n",
            "Weight                   0\n",
            "Length                   0\n",
            "Sex                      0\n",
            "BMI                      0\n",
            "DM                       0\n",
            "HTN                      0\n",
            "Current Smoker           0\n",
            "EX-Smoker                0\n",
            "FH                       0\n",
            "Obesity                  0\n",
            "CRF                      0\n",
            "CVA                      0\n",
            "Airway disease           0\n",
            "Thyroid Disease          0\n",
            "CHF                      0\n",
            "DLP                      0\n",
            "BP                       0\n",
            "PR                       0\n",
            "Edema                    0\n",
            "Weak Peripheral Pulse    0\n",
            "Lung rales               0\n",
            "Systolic Murmur          0\n",
            "Diastolic Murmur         0\n",
            "Typical Chest Pain       0\n",
            "Dyspnea                  0\n",
            "Function Class           0\n",
            "Atypical                 0\n",
            "Nonanginal               0\n",
            "Exertional CP            0\n",
            "LowTH Ang                0\n",
            "Q Wave                   0\n",
            "St Elevation             0\n",
            "St Depression            0\n",
            "Tinversion               0\n",
            "LVH                      0\n",
            "Poor R Progression       0\n",
            "BBB                      0\n",
            "FBS                      0\n",
            "CR                       0\n",
            "TG                       0\n",
            "LDL                      0\n",
            "HDL                      0\n",
            "BUN                      0\n",
            "ESR                      0\n",
            "HB                       0\n",
            "K                        0\n",
            "Na                       0\n",
            "WBC                      0\n",
            "Lymph                    0\n",
            "Neut                     0\n",
            "PLT                      0\n",
            "EF-TTE                   0\n",
            "Region RWMA              0\n",
            "VHD                      0\n",
            "Cath                     0\n",
            "dtype: int64\n"
          ]
        }
      ]
    },
    {
      "cell_type": "code",
      "source": [
        "#Check data types\n",
        "data.dtypes"
      ],
      "metadata": {
        "colab": {
          "base_uri": "https://localhost:8080/"
        },
        "id": "1qccq98dVtWz",
        "outputId": "073cf034-5d44-4bbf-cbaa-32e6125de234"
      },
      "execution_count": 5,
      "outputs": [
        {
          "output_type": "execute_result",
          "data": {
            "text/plain": [
              "Age                        int64\n",
              "Weight                     int64\n",
              "Length                     int64\n",
              "Sex                        int64\n",
              "BMI                      float64\n",
              "DM                         int64\n",
              "HTN                        int64\n",
              "Current Smoker             int64\n",
              "EX-Smoker                  int64\n",
              "FH                         int64\n",
              "Obesity                    int64\n",
              "CRF                        int64\n",
              "CVA                        int64\n",
              "Airway disease             int64\n",
              "Thyroid Disease            int64\n",
              "CHF                        int64\n",
              "DLP                        int64\n",
              "BP                         int64\n",
              "PR                         int64\n",
              "Edema                      int64\n",
              "Weak Peripheral Pulse      int64\n",
              "Lung rales                 int64\n",
              "Systolic Murmur            int64\n",
              "Diastolic Murmur           int64\n",
              "Typical Chest Pain         int64\n",
              "Dyspnea                    int64\n",
              "Function Class             int64\n",
              "Atypical                   int64\n",
              "Nonanginal                 int64\n",
              "Exertional CP              int64\n",
              "LowTH Ang                  int64\n",
              "Q Wave                     int64\n",
              "St Elevation               int64\n",
              "St Depression              int64\n",
              "Tinversion                 int64\n",
              "LVH                        int64\n",
              "Poor R Progression         int64\n",
              "BBB                        int64\n",
              "FBS                        int64\n",
              "CR                       float64\n",
              "TG                         int64\n",
              "LDL                        int64\n",
              "HDL                      float64\n",
              "BUN                        int64\n",
              "ESR                        int64\n",
              "HB                       float64\n",
              "K                        float64\n",
              "Na                         int64\n",
              "WBC                        int64\n",
              "Lymph                      int64\n",
              "Neut                       int64\n",
              "PLT                        int64\n",
              "EF-TTE                     int64\n",
              "Region RWMA                int64\n",
              "VHD                        int64\n",
              "Cath                       int64\n",
              "dtype: object"
            ]
          },
          "metadata": {},
          "execution_count": 5
        }
      ]
    },
    {
      "cell_type": "code",
      "source": [
        "def label_encoder(y):\n",
        "    le = LabelEncoder()\n",
        "    data[y] = le.fit_transform(data[y])\n",
        " \n",
        "label_list = [\"Sex\",\"BMI\", \"Current Smoker\",\"CR\", \"HDL\",\"HB\",\"K\",\"Cath\"]\n",
        " \n",
        "for l in label_list:\n",
        "    label_encoder(l)\n",
        " \n",
        "#Display transformed data\n",
        "data.head()"
      ],
      "metadata": {
        "colab": {
          "base_uri": "https://localhost:8080/",
          "height": 279
        },
        "id": "i4LThhcyVyHs",
        "outputId": "9660f2d4-1048-4879-cc51-c0f1595fbd6f"
      },
      "execution_count": 6,
      "outputs": [
        {
          "output_type": "execute_result",
          "data": {
            "text/plain": [
              "   Age  Weight  Length  Sex  BMI  DM  HTN  Current Smoker  EX-Smoker  FH  ...  \\\n",
              "0   53      90     175    1  186   0    1               1          0   0  ...   \n",
              "1   67      70     157    0  161   0    1               0          0   0  ...   \n",
              "2   54      54     164    1   10   0    0               1          0   0  ...   \n",
              "3   66      67     158    0  129   0    1               0          0   0  ...   \n",
              "4   50      87     153    0  257   0    1               0          0   0  ...   \n",
              "\n",
              "    K   Na    WBC  Lymph  Neut  PLT  EF-TTE  Region RWMA  VHD  Cath  \n",
              "0  17  141   5700     39    52  261      50            0    0     1  \n",
              "1  17  156   7700     38    55  165      40            4    0     1  \n",
              "2  17  139   7400     38    60  230      40            2    1     1  \n",
              "3  14  142  13000     18    72  742      55            0    3     0  \n",
              "4  10  140   9200     55    39  274      50            0    3     0  \n",
              "\n",
              "[5 rows x 56 columns]"
            ],
            "text/html": [
              "\n",
              "  <div id=\"df-4dce4a54-314d-4549-b2b9-a7425e012ec5\">\n",
              "    <div class=\"colab-df-container\">\n",
              "      <div>\n",
              "<style scoped>\n",
              "    .dataframe tbody tr th:only-of-type {\n",
              "        vertical-align: middle;\n",
              "    }\n",
              "\n",
              "    .dataframe tbody tr th {\n",
              "        vertical-align: top;\n",
              "    }\n",
              "\n",
              "    .dataframe thead th {\n",
              "        text-align: right;\n",
              "    }\n",
              "</style>\n",
              "<table border=\"1\" class=\"dataframe\">\n",
              "  <thead>\n",
              "    <tr style=\"text-align: right;\">\n",
              "      <th></th>\n",
              "      <th>Age</th>\n",
              "      <th>Weight</th>\n",
              "      <th>Length</th>\n",
              "      <th>Sex</th>\n",
              "      <th>BMI</th>\n",
              "      <th>DM</th>\n",
              "      <th>HTN</th>\n",
              "      <th>Current Smoker</th>\n",
              "      <th>EX-Smoker</th>\n",
              "      <th>FH</th>\n",
              "      <th>...</th>\n",
              "      <th>K</th>\n",
              "      <th>Na</th>\n",
              "      <th>WBC</th>\n",
              "      <th>Lymph</th>\n",
              "      <th>Neut</th>\n",
              "      <th>PLT</th>\n",
              "      <th>EF-TTE</th>\n",
              "      <th>Region RWMA</th>\n",
              "      <th>VHD</th>\n",
              "      <th>Cath</th>\n",
              "    </tr>\n",
              "  </thead>\n",
              "  <tbody>\n",
              "    <tr>\n",
              "      <th>0</th>\n",
              "      <td>53</td>\n",
              "      <td>90</td>\n",
              "      <td>175</td>\n",
              "      <td>1</td>\n",
              "      <td>186</td>\n",
              "      <td>0</td>\n",
              "      <td>1</td>\n",
              "      <td>1</td>\n",
              "      <td>0</td>\n",
              "      <td>0</td>\n",
              "      <td>...</td>\n",
              "      <td>17</td>\n",
              "      <td>141</td>\n",
              "      <td>5700</td>\n",
              "      <td>39</td>\n",
              "      <td>52</td>\n",
              "      <td>261</td>\n",
              "      <td>50</td>\n",
              "      <td>0</td>\n",
              "      <td>0</td>\n",
              "      <td>1</td>\n",
              "    </tr>\n",
              "    <tr>\n",
              "      <th>1</th>\n",
              "      <td>67</td>\n",
              "      <td>70</td>\n",
              "      <td>157</td>\n",
              "      <td>0</td>\n",
              "      <td>161</td>\n",
              "      <td>0</td>\n",
              "      <td>1</td>\n",
              "      <td>0</td>\n",
              "      <td>0</td>\n",
              "      <td>0</td>\n",
              "      <td>...</td>\n",
              "      <td>17</td>\n",
              "      <td>156</td>\n",
              "      <td>7700</td>\n",
              "      <td>38</td>\n",
              "      <td>55</td>\n",
              "      <td>165</td>\n",
              "      <td>40</td>\n",
              "      <td>4</td>\n",
              "      <td>0</td>\n",
              "      <td>1</td>\n",
              "    </tr>\n",
              "    <tr>\n",
              "      <th>2</th>\n",
              "      <td>54</td>\n",
              "      <td>54</td>\n",
              "      <td>164</td>\n",
              "      <td>1</td>\n",
              "      <td>10</td>\n",
              "      <td>0</td>\n",
              "      <td>0</td>\n",
              "      <td>1</td>\n",
              "      <td>0</td>\n",
              "      <td>0</td>\n",
              "      <td>...</td>\n",
              "      <td>17</td>\n",
              "      <td>139</td>\n",
              "      <td>7400</td>\n",
              "      <td>38</td>\n",
              "      <td>60</td>\n",
              "      <td>230</td>\n",
              "      <td>40</td>\n",
              "      <td>2</td>\n",
              "      <td>1</td>\n",
              "      <td>1</td>\n",
              "    </tr>\n",
              "    <tr>\n",
              "      <th>3</th>\n",
              "      <td>66</td>\n",
              "      <td>67</td>\n",
              "      <td>158</td>\n",
              "      <td>0</td>\n",
              "      <td>129</td>\n",
              "      <td>0</td>\n",
              "      <td>1</td>\n",
              "      <td>0</td>\n",
              "      <td>0</td>\n",
              "      <td>0</td>\n",
              "      <td>...</td>\n",
              "      <td>14</td>\n",
              "      <td>142</td>\n",
              "      <td>13000</td>\n",
              "      <td>18</td>\n",
              "      <td>72</td>\n",
              "      <td>742</td>\n",
              "      <td>55</td>\n",
              "      <td>0</td>\n",
              "      <td>3</td>\n",
              "      <td>0</td>\n",
              "    </tr>\n",
              "    <tr>\n",
              "      <th>4</th>\n",
              "      <td>50</td>\n",
              "      <td>87</td>\n",
              "      <td>153</td>\n",
              "      <td>0</td>\n",
              "      <td>257</td>\n",
              "      <td>0</td>\n",
              "      <td>1</td>\n",
              "      <td>0</td>\n",
              "      <td>0</td>\n",
              "      <td>0</td>\n",
              "      <td>...</td>\n",
              "      <td>10</td>\n",
              "      <td>140</td>\n",
              "      <td>9200</td>\n",
              "      <td>55</td>\n",
              "      <td>39</td>\n",
              "      <td>274</td>\n",
              "      <td>50</td>\n",
              "      <td>0</td>\n",
              "      <td>3</td>\n",
              "      <td>0</td>\n",
              "    </tr>\n",
              "  </tbody>\n",
              "</table>\n",
              "<p>5 rows × 56 columns</p>\n",
              "</div>\n",
              "      <button class=\"colab-df-convert\" onclick=\"convertToInteractive('df-4dce4a54-314d-4549-b2b9-a7425e012ec5')\"\n",
              "              title=\"Convert this dataframe to an interactive table.\"\n",
              "              style=\"display:none;\">\n",
              "        \n",
              "  <svg xmlns=\"http://www.w3.org/2000/svg\" height=\"24px\"viewBox=\"0 0 24 24\"\n",
              "       width=\"24px\">\n",
              "    <path d=\"M0 0h24v24H0V0z\" fill=\"none\"/>\n",
              "    <path d=\"M18.56 5.44l.94 2.06.94-2.06 2.06-.94-2.06-.94-.94-2.06-.94 2.06-2.06.94zm-11 1L8.5 8.5l.94-2.06 2.06-.94-2.06-.94L8.5 2.5l-.94 2.06-2.06.94zm10 10l.94 2.06.94-2.06 2.06-.94-2.06-.94-.94-2.06-.94 2.06-2.06.94z\"/><path d=\"M17.41 7.96l-1.37-1.37c-.4-.4-.92-.59-1.43-.59-.52 0-1.04.2-1.43.59L10.3 9.45l-7.72 7.72c-.78.78-.78 2.05 0 2.83L4 21.41c.39.39.9.59 1.41.59.51 0 1.02-.2 1.41-.59l7.78-7.78 2.81-2.81c.8-.78.8-2.07 0-2.86zM5.41 20L4 18.59l7.72-7.72 1.47 1.35L5.41 20z\"/>\n",
              "  </svg>\n",
              "      </button>\n",
              "      \n",
              "  <style>\n",
              "    .colab-df-container {\n",
              "      display:flex;\n",
              "      flex-wrap:wrap;\n",
              "      gap: 12px;\n",
              "    }\n",
              "\n",
              "    .colab-df-convert {\n",
              "      background-color: #E8F0FE;\n",
              "      border: none;\n",
              "      border-radius: 50%;\n",
              "      cursor: pointer;\n",
              "      display: none;\n",
              "      fill: #1967D2;\n",
              "      height: 32px;\n",
              "      padding: 0 0 0 0;\n",
              "      width: 32px;\n",
              "    }\n",
              "\n",
              "    .colab-df-convert:hover {\n",
              "      background-color: #E2EBFA;\n",
              "      box-shadow: 0px 1px 2px rgba(60, 64, 67, 0.3), 0px 1px 3px 1px rgba(60, 64, 67, 0.15);\n",
              "      fill: #174EA6;\n",
              "    }\n",
              "\n",
              "    [theme=dark] .colab-df-convert {\n",
              "      background-color: #3B4455;\n",
              "      fill: #D2E3FC;\n",
              "    }\n",
              "\n",
              "    [theme=dark] .colab-df-convert:hover {\n",
              "      background-color: #434B5C;\n",
              "      box-shadow: 0px 1px 3px 1px rgba(0, 0, 0, 0.15);\n",
              "      filter: drop-shadow(0px 1px 2px rgba(0, 0, 0, 0.3));\n",
              "      fill: #FFFFFF;\n",
              "    }\n",
              "  </style>\n",
              "\n",
              "      <script>\n",
              "        const buttonEl =\n",
              "          document.querySelector('#df-4dce4a54-314d-4549-b2b9-a7425e012ec5 button.colab-df-convert');\n",
              "        buttonEl.style.display =\n",
              "          google.colab.kernel.accessAllowed ? 'block' : 'none';\n",
              "\n",
              "        async function convertToInteractive(key) {\n",
              "          const element = document.querySelector('#df-4dce4a54-314d-4549-b2b9-a7425e012ec5');\n",
              "          const dataTable =\n",
              "            await google.colab.kernel.invokeFunction('convertToInteractive',\n",
              "                                                     [key], {});\n",
              "          if (!dataTable) return;\n",
              "\n",
              "          const docLinkHtml = 'Like what you see? Visit the ' +\n",
              "            '<a target=\"_blank\" href=https://colab.research.google.com/notebooks/data_table.ipynb>data table notebook</a>'\n",
              "            + ' to learn more about interactive tables.';\n",
              "          element.innerHTML = '';\n",
              "          dataTable['output_type'] = 'display_data';\n",
              "          await google.colab.output.renderOutput(dataTable, element);\n",
              "          const docLink = document.createElement('div');\n",
              "          docLink.innerHTML = docLinkHtml;\n",
              "          element.appendChild(docLink);\n",
              "        }\n",
              "      </script>\n",
              "    </div>\n",
              "  </div>\n",
              "  "
            ]
          },
          "metadata": {},
          "execution_count": 6
        }
      ]
    },
    {
      "cell_type": "code",
      "source": [
        "#Divide the dataset into independent and dependent variables\n",
        "X = data.drop([\"Cath\"],axis=1)\n",
        "y = data['Cath']\n",
        " \n",
        "#Split the data into training and testing set\n",
        "X_train,X_test,y_train,y_test=train_test_split(X,y,test_size=0.2,\n",
        "                                               random_state=42, shuffle=True) \n",
        " \n",
        "#Data was splitted as 80% train data and 20% test data.\n",
        " \n",
        "y_train = y_train.values.reshape(-1,1)\n",
        "y_test = y_test.values.reshape(-1,1)\n",
        " \n",
        "print(\"X_train shape:\",X_train.shape)\n",
        "print(\"X_test shape:\",X_test.shape)\n",
        "print(\"y_train shape:\",y_train.shape)\n",
        "print(\"y_test shape:\",y_test.shape)"
      ],
      "metadata": {
        "colab": {
          "base_uri": "https://localhost:8080/"
        },
        "id": "eNketzwvWCQc",
        "outputId": "1dcf4a78-e803-4ed6-aa1b-ce9af8b7cbfb"
      },
      "execution_count": 7,
      "outputs": [
        {
          "output_type": "stream",
          "name": "stdout",
          "text": [
            "X_train shape: (242, 55)\n",
            "X_test shape: (61, 55)\n",
            "y_train shape: (242, 1)\n",
            "y_test shape: (61, 1)\n"
          ]
        }
      ]
    },
    {
      "cell_type": "code",
      "source": [
        "#Feature Scaling\n",
        "sc = StandardScaler()\n",
        "X_train = sc.fit_transform(X_train)\n",
        "X_test = sc.fit_transform(X_test)"
      ],
      "metadata": {
        "id": "iYLSFqggWKKD"
      },
      "execution_count": 8,
      "outputs": []
    },
    {
      "cell_type": "code",
      "source": [
        "#To store results of models, we create two dictionaries\n",
        "result_dict_train = {}\n",
        "result_dict_test = {}"
      ],
      "metadata": {
        "id": "Nm4Y_xVmWMwc"
      },
      "execution_count": 9,
      "outputs": []
    },
    {
      "cell_type": "markdown",
      "source": [
        "**Logistic Regression Model**"
      ],
      "metadata": {
        "id": "6LsCoHTQWQ81"
      }
    },
    {
      "cell_type": "code",
      "source": [
        "reg = LogisticRegression(random_state = 42)\n",
        "accuracies = cross_val_score(reg, X_train, y_train, cv=5)\n",
        "reg.fit(X_train,y_train)\n",
        "y_pred = reg.predict(X_test)\n",
        " \n",
        "#Obtain accuracy\n",
        "print(\"Train Score:\",np.mean(accuracies))\n",
        "print(\"Test Score:\",reg.score(X_test,y_test))"
      ],
      "metadata": {
        "colab": {
          "base_uri": "https://localhost:8080/"
        },
        "id": "svNKLD0DWPLs",
        "outputId": "71a1d830-f06a-4144-e1de-b209a77f764f"
      },
      "execution_count": 10,
      "outputs": [
        {
          "output_type": "stream",
          "name": "stdout",
          "text": [
            "Train Score: 0.8471088435374149\n",
            "Test Score: 0.8688524590163934\n"
          ]
        },
        {
          "output_type": "stream",
          "name": "stderr",
          "text": [
            "/usr/local/lib/python3.7/dist-packages/sklearn/utils/validation.py:993: DataConversionWarning: A column-vector y was passed when a 1d array was expected. Please change the shape of y to (n_samples, ), for example using ravel().\n",
            "  y = column_or_1d(y, warn=True)\n",
            "/usr/local/lib/python3.7/dist-packages/sklearn/utils/validation.py:993: DataConversionWarning: A column-vector y was passed when a 1d array was expected. Please change the shape of y to (n_samples, ), for example using ravel().\n",
            "  y = column_or_1d(y, warn=True)\n",
            "/usr/local/lib/python3.7/dist-packages/sklearn/utils/validation.py:993: DataConversionWarning: A column-vector y was passed when a 1d array was expected. Please change the shape of y to (n_samples, ), for example using ravel().\n",
            "  y = column_or_1d(y, warn=True)\n",
            "/usr/local/lib/python3.7/dist-packages/sklearn/utils/validation.py:993: DataConversionWarning: A column-vector y was passed when a 1d array was expected. Please change the shape of y to (n_samples, ), for example using ravel().\n",
            "  y = column_or_1d(y, warn=True)\n",
            "/usr/local/lib/python3.7/dist-packages/sklearn/utils/validation.py:993: DataConversionWarning: A column-vector y was passed when a 1d array was expected. Please change the shape of y to (n_samples, ), for example using ravel().\n",
            "  y = column_or_1d(y, warn=True)\n",
            "/usr/local/lib/python3.7/dist-packages/sklearn/utils/validation.py:993: DataConversionWarning: A column-vector y was passed when a 1d array was expected. Please change the shape of y to (n_samples, ), for example using ravel().\n",
            "  y = column_or_1d(y, warn=True)\n"
          ]
        }
      ]
    },
    {
      "cell_type": "code",
      "source": [
        "#Store results in the dictionaries\n",
        "result_dict_train[\"Logistic Train Score\"] = np.mean(accuracies)\n",
        "result_dict_test[\"Logistic Test Score\"] = reg.score(X_test,y_test)"
      ],
      "metadata": {
        "id": "tHCFmpPiWVn8"
      },
      "execution_count": 11,
      "outputs": []
    },
    {
      "cell_type": "markdown",
      "source": [
        "**K-Nearest Neighbor Model**"
      ],
      "metadata": {
        "id": "2JJIKNwIWZHs"
      }
    },
    {
      "cell_type": "code",
      "source": [
        "knn = KNeighborsClassifier()\n",
        "accuracies = cross_val_score(knn, X_train, y_train, cv=5)\n",
        "knn.fit(X_train,y_train)\n",
        "y_pred = knn.predict(X_test)\n",
        " \n",
        "#Obtain accuracy\n",
        "print(\"Train Score:\",np.mean(accuracies))\n",
        "print(\"Test Score:\",knn.score(X_test,y_test))"
      ],
      "metadata": {
        "colab": {
          "base_uri": "https://localhost:8080/"
        },
        "id": "Vv0yLB_gWbi5",
        "outputId": "b0356bff-1a3f-4e04-bcfc-2d06cfb200f7"
      },
      "execution_count": 12,
      "outputs": [
        {
          "output_type": "stream",
          "name": "stdout",
          "text": [
            "Train Score: 0.8431122448979591\n",
            "Test Score: 0.8360655737704918\n"
          ]
        },
        {
          "output_type": "stream",
          "name": "stderr",
          "text": [
            "/usr/local/lib/python3.7/dist-packages/sklearn/neighbors/_classification.py:198: DataConversionWarning: A column-vector y was passed when a 1d array was expected. Please change the shape of y to (n_samples,), for example using ravel().\n",
            "  return self._fit(X, y)\n",
            "/usr/local/lib/python3.7/dist-packages/sklearn/neighbors/_classification.py:198: DataConversionWarning: A column-vector y was passed when a 1d array was expected. Please change the shape of y to (n_samples,), for example using ravel().\n",
            "  return self._fit(X, y)\n",
            "/usr/local/lib/python3.7/dist-packages/sklearn/neighbors/_classification.py:198: DataConversionWarning: A column-vector y was passed when a 1d array was expected. Please change the shape of y to (n_samples,), for example using ravel().\n",
            "  return self._fit(X, y)\n",
            "/usr/local/lib/python3.7/dist-packages/sklearn/neighbors/_classification.py:198: DataConversionWarning: A column-vector y was passed when a 1d array was expected. Please change the shape of y to (n_samples,), for example using ravel().\n",
            "  return self._fit(X, y)\n",
            "/usr/local/lib/python3.7/dist-packages/sklearn/neighbors/_classification.py:198: DataConversionWarning: A column-vector y was passed when a 1d array was expected. Please change the shape of y to (n_samples,), for example using ravel().\n",
            "  return self._fit(X, y)\n",
            "/usr/local/lib/python3.7/dist-packages/sklearn/neighbors/_classification.py:198: DataConversionWarning: A column-vector y was passed when a 1d array was expected. Please change the shape of y to (n_samples,), for example using ravel().\n",
            "  return self._fit(X, y)\n"
          ]
        }
      ]
    },
    {
      "cell_type": "code",
      "source": [
        "#Store results in the dictionaries\n",
        "result_dict_train[\"KNN Train Score\"] = np.mean(accuracies)\n",
        "result_dict_test[\"KNN Test Score\"] = knn.score(X_test,y_test)"
      ],
      "metadata": {
        "id": "g4Q1j0AuWd_x"
      },
      "execution_count": 13,
      "outputs": []
    },
    {
      "cell_type": "markdown",
      "source": [
        "**Support Vector Machine Model**"
      ],
      "metadata": {
        "id": "jlOxHTWsWjJ5"
      }
    },
    {
      "cell_type": "code",
      "source": [
        "svc = SVC(random_state = 42)\n",
        "accuracies = cross_val_score(svc, X_train, y_train, cv=5)\n",
        "svc.fit(X_train,y_train)\n",
        "y_pred = svc.predict(X_test)\n",
        " \n",
        "#Obtain accuracy\n",
        "print(\"Train Score:\",np.mean(accuracies))\n",
        "print(\"Test Score:\",svc.score(X_test,y_test))"
      ],
      "metadata": {
        "colab": {
          "base_uri": "https://localhost:8080/"
        },
        "id": "n95GYKARWgfQ",
        "outputId": "168f386c-6d8a-4e9c-aecd-da6febb413ea"
      },
      "execution_count": 14,
      "outputs": [
        {
          "output_type": "stream",
          "name": "stdout",
          "text": [
            "Train Score: 0.8472789115646258\n",
            "Test Score: 0.8688524590163934\n"
          ]
        },
        {
          "output_type": "stream",
          "name": "stderr",
          "text": [
            "/usr/local/lib/python3.7/dist-packages/sklearn/utils/validation.py:993: DataConversionWarning: A column-vector y was passed when a 1d array was expected. Please change the shape of y to (n_samples, ), for example using ravel().\n",
            "  y = column_or_1d(y, warn=True)\n",
            "/usr/local/lib/python3.7/dist-packages/sklearn/utils/validation.py:993: DataConversionWarning: A column-vector y was passed when a 1d array was expected. Please change the shape of y to (n_samples, ), for example using ravel().\n",
            "  y = column_or_1d(y, warn=True)\n",
            "/usr/local/lib/python3.7/dist-packages/sklearn/utils/validation.py:993: DataConversionWarning: A column-vector y was passed when a 1d array was expected. Please change the shape of y to (n_samples, ), for example using ravel().\n",
            "  y = column_or_1d(y, warn=True)\n",
            "/usr/local/lib/python3.7/dist-packages/sklearn/utils/validation.py:993: DataConversionWarning: A column-vector y was passed when a 1d array was expected. Please change the shape of y to (n_samples, ), for example using ravel().\n",
            "  y = column_or_1d(y, warn=True)\n",
            "/usr/local/lib/python3.7/dist-packages/sklearn/utils/validation.py:993: DataConversionWarning: A column-vector y was passed when a 1d array was expected. Please change the shape of y to (n_samples, ), for example using ravel().\n",
            "  y = column_or_1d(y, warn=True)\n",
            "/usr/local/lib/python3.7/dist-packages/sklearn/utils/validation.py:993: DataConversionWarning: A column-vector y was passed when a 1d array was expected. Please change the shape of y to (n_samples, ), for example using ravel().\n",
            "  y = column_or_1d(y, warn=True)\n"
          ]
        }
      ]
    },
    {
      "cell_type": "code",
      "source": [
        "#Store results in the dictionaries\n",
        "result_dict_train[\"SVM Train Score\"] = np.mean(accuracies)\n",
        "result_dict_test[\"SVM Test Score\"] = svc.score(X_test,y_test)"
      ],
      "metadata": {
        "id": "3IH_lKLQXBI8"
      },
      "execution_count": 15,
      "outputs": []
    },
    {
      "cell_type": "markdown",
      "source": [
        "**Decision Tree Model**"
      ],
      "metadata": {
        "id": "ZNA4lJr2XEM0"
      }
    },
    {
      "cell_type": "code",
      "source": [
        "dtc = DecisionTreeClassifier(random_state = 42)\n",
        "accuracies = cross_val_score(dtc, X_train, y_train, cv=5)\n",
        "dtc.fit(X_train,y_train)\n",
        "y_pred = dtc.predict(X_test)\n",
        " \n",
        "#Obtain accuracy\n",
        "print(\"Train Score:\",np.mean(accuracies))\n",
        "print(\"Test Score:\",dtc.score(X_test,y_test))"
      ],
      "metadata": {
        "colab": {
          "base_uri": "https://localhost:8080/"
        },
        "id": "vNAuYOvRXHB7",
        "outputId": "794457ab-a2a0-45e3-dea8-f78e574bbab3"
      },
      "execution_count": 16,
      "outputs": [
        {
          "output_type": "stream",
          "name": "stdout",
          "text": [
            "Train Score: 0.7848639455782312\n",
            "Test Score: 0.7868852459016393\n"
          ]
        }
      ]
    },
    {
      "cell_type": "code",
      "source": [
        "#Store results in the dictionaries\n",
        "result_dict_train[\"Decision Tree Train Score\"] = np.mean(accuracies)\n",
        "result_dict_test[\"Decision Tree Test Score\"] = dtc.score(X_test,y_test)"
      ],
      "metadata": {
        "id": "ZQyUktADXKPz"
      },
      "execution_count": 17,
      "outputs": []
    },
    {
      "cell_type": "markdown",
      "source": [
        "**Random Forest Model**"
      ],
      "metadata": {
        "id": "wnlyMI2oXMTV"
      }
    },
    {
      "cell_type": "code",
      "source": [
        "rfc = RandomForestClassifier(random_state = 42)\n",
        "accuracies = cross_val_score(rfc, X_train, y_train, cv=5)\n",
        "rfc.fit(X_train,y_train)\n",
        "y_pred = rfc.predict(X_test)\n",
        " \n",
        "#Obtain accuracy\n",
        "print(\"Train Score:\",np.mean(accuracies))\n",
        "print(\"Test Score:\",rfc.score(X_test,y_test))"
      ],
      "metadata": {
        "colab": {
          "base_uri": "https://localhost:8080/"
        },
        "id": "OcnXbVXCXPpU",
        "outputId": "193fb1ff-c205-4a01-cab5-01fc40daa99b"
      },
      "execution_count": 18,
      "outputs": [
        {
          "output_type": "stream",
          "name": "stderr",
          "text": [
            "/usr/local/lib/python3.7/dist-packages/sklearn/model_selection/_validation.py:680: DataConversionWarning: A column-vector y was passed when a 1d array was expected. Please change the shape of y to (n_samples,), for example using ravel().\n",
            "  estimator.fit(X_train, y_train, **fit_params)\n",
            "/usr/local/lib/python3.7/dist-packages/sklearn/model_selection/_validation.py:680: DataConversionWarning: A column-vector y was passed when a 1d array was expected. Please change the shape of y to (n_samples,), for example using ravel().\n",
            "  estimator.fit(X_train, y_train, **fit_params)\n",
            "/usr/local/lib/python3.7/dist-packages/sklearn/model_selection/_validation.py:680: DataConversionWarning: A column-vector y was passed when a 1d array was expected. Please change the shape of y to (n_samples,), for example using ravel().\n",
            "  estimator.fit(X_train, y_train, **fit_params)\n",
            "/usr/local/lib/python3.7/dist-packages/sklearn/model_selection/_validation.py:680: DataConversionWarning: A column-vector y was passed when a 1d array was expected. Please change the shape of y to (n_samples,), for example using ravel().\n",
            "  estimator.fit(X_train, y_train, **fit_params)\n",
            "/usr/local/lib/python3.7/dist-packages/sklearn/model_selection/_validation.py:680: DataConversionWarning: A column-vector y was passed when a 1d array was expected. Please change the shape of y to (n_samples,), for example using ravel().\n",
            "  estimator.fit(X_train, y_train, **fit_params)\n",
            "/usr/local/lib/python3.7/dist-packages/ipykernel_launcher.py:3: DataConversionWarning: A column-vector y was passed when a 1d array was expected. Please change the shape of y to (n_samples,), for example using ravel().\n",
            "  This is separate from the ipykernel package so we can avoid doing imports until\n"
          ]
        },
        {
          "output_type": "stream",
          "name": "stdout",
          "text": [
            "Train Score: 0.8677721088435373\n",
            "Test Score: 0.8524590163934426\n"
          ]
        }
      ]
    },
    {
      "cell_type": "code",
      "source": [
        "#Store results in the dictionaries\n",
        "result_dict_train[\"Random Forest Train Score\"] = np.mean(accuracies)\n",
        "result_dict_test[\"Random Forest Test Score\"] = rfc.score(X_test,y_test)"
      ],
      "metadata": {
        "id": "QR_YbNszXSAj"
      },
      "execution_count": 19,
      "outputs": []
    },
    {
      "cell_type": "markdown",
      "source": [
        "**Naive Bayes Model**"
      ],
      "metadata": {
        "id": "kMrQ0XmdXUi8"
      }
    },
    {
      "cell_type": "code",
      "source": [
        "gnb = GaussianNB()\n",
        "accuracies = cross_val_score(gnb, X_train, y_train, cv=5)\n",
        "gnb.fit(X_train,y_train)\n",
        "y_pred = gnb.predict(X_test)\n",
        " \n",
        "#Obtain accuracy\n",
        "print(\"Train Score:\",np.mean(accuracies))\n",
        "print(\"Test Score:\",gnb.score(X_test,y_test))"
      ],
      "metadata": {
        "colab": {
          "base_uri": "https://localhost:8080/"
        },
        "id": "r-Z6vKULXXEL",
        "outputId": "e0ae972f-3b2f-4b65-cf34-71f6f75021f4"
      },
      "execution_count": 20,
      "outputs": [
        {
          "output_type": "stream",
          "name": "stdout",
          "text": [
            "Train Score: 0.4584183673469388\n",
            "Test Score: 0.7049180327868853\n"
          ]
        },
        {
          "output_type": "stream",
          "name": "stderr",
          "text": [
            "/usr/local/lib/python3.7/dist-packages/sklearn/utils/validation.py:993: DataConversionWarning: A column-vector y was passed when a 1d array was expected. Please change the shape of y to (n_samples, ), for example using ravel().\n",
            "  y = column_or_1d(y, warn=True)\n",
            "/usr/local/lib/python3.7/dist-packages/sklearn/utils/validation.py:993: DataConversionWarning: A column-vector y was passed when a 1d array was expected. Please change the shape of y to (n_samples, ), for example using ravel().\n",
            "  y = column_or_1d(y, warn=True)\n",
            "/usr/local/lib/python3.7/dist-packages/sklearn/utils/validation.py:993: DataConversionWarning: A column-vector y was passed when a 1d array was expected. Please change the shape of y to (n_samples, ), for example using ravel().\n",
            "  y = column_or_1d(y, warn=True)\n",
            "/usr/local/lib/python3.7/dist-packages/sklearn/utils/validation.py:993: DataConversionWarning: A column-vector y was passed when a 1d array was expected. Please change the shape of y to (n_samples, ), for example using ravel().\n",
            "  y = column_or_1d(y, warn=True)\n",
            "/usr/local/lib/python3.7/dist-packages/sklearn/utils/validation.py:993: DataConversionWarning: A column-vector y was passed when a 1d array was expected. Please change the shape of y to (n_samples, ), for example using ravel().\n",
            "  y = column_or_1d(y, warn=True)\n",
            "/usr/local/lib/python3.7/dist-packages/sklearn/utils/validation.py:993: DataConversionWarning: A column-vector y was passed when a 1d array was expected. Please change the shape of y to (n_samples, ), for example using ravel().\n",
            "  y = column_or_1d(y, warn=True)\n"
          ]
        }
      ]
    },
    {
      "cell_type": "code",
      "source": [
        "#Store results in the dictionaries\n",
        "result_dict_train[\"Gaussian NB Train Score\"] = np.mean(accuracies)\n",
        "result_dict_test[\"Gaussian NB Test Score\"] = gnb.score(X_test,y_test)"
      ],
      "metadata": {
        "id": "_0fl4HNEXakE"
      },
      "execution_count": 21,
      "outputs": []
    },
    {
      "cell_type": "code",
      "source": [
        "df_result_train = pd.DataFrame.from_dict(result_dict_train,orient = \"index\", columns=[\"Score\"])\n",
        "df_result_train"
      ],
      "metadata": {
        "colab": {
          "base_uri": "https://localhost:8080/",
          "height": 237
        },
        "id": "S_AEJYhCXeK-",
        "outputId": "7669286c-163b-40b3-b7eb-b540b721002c"
      },
      "execution_count": 22,
      "outputs": [
        {
          "output_type": "execute_result",
          "data": {
            "text/plain": [
              "                              Score\n",
              "Logistic Train Score       0.847109\n",
              "KNN Train Score            0.843112\n",
              "SVM Train Score            0.847279\n",
              "Decision Tree Train Score  0.784864\n",
              "Random Forest Train Score  0.867772\n",
              "Gaussian NB Train Score    0.458418"
            ],
            "text/html": [
              "\n",
              "  <div id=\"df-38c2fe50-aea4-48a8-ad1a-208b6d8d643c\">\n",
              "    <div class=\"colab-df-container\">\n",
              "      <div>\n",
              "<style scoped>\n",
              "    .dataframe tbody tr th:only-of-type {\n",
              "        vertical-align: middle;\n",
              "    }\n",
              "\n",
              "    .dataframe tbody tr th {\n",
              "        vertical-align: top;\n",
              "    }\n",
              "\n",
              "    .dataframe thead th {\n",
              "        text-align: right;\n",
              "    }\n",
              "</style>\n",
              "<table border=\"1\" class=\"dataframe\">\n",
              "  <thead>\n",
              "    <tr style=\"text-align: right;\">\n",
              "      <th></th>\n",
              "      <th>Score</th>\n",
              "    </tr>\n",
              "  </thead>\n",
              "  <tbody>\n",
              "    <tr>\n",
              "      <th>Logistic Train Score</th>\n",
              "      <td>0.847109</td>\n",
              "    </tr>\n",
              "    <tr>\n",
              "      <th>KNN Train Score</th>\n",
              "      <td>0.843112</td>\n",
              "    </tr>\n",
              "    <tr>\n",
              "      <th>SVM Train Score</th>\n",
              "      <td>0.847279</td>\n",
              "    </tr>\n",
              "    <tr>\n",
              "      <th>Decision Tree Train Score</th>\n",
              "      <td>0.784864</td>\n",
              "    </tr>\n",
              "    <tr>\n",
              "      <th>Random Forest Train Score</th>\n",
              "      <td>0.867772</td>\n",
              "    </tr>\n",
              "    <tr>\n",
              "      <th>Gaussian NB Train Score</th>\n",
              "      <td>0.458418</td>\n",
              "    </tr>\n",
              "  </tbody>\n",
              "</table>\n",
              "</div>\n",
              "      <button class=\"colab-df-convert\" onclick=\"convertToInteractive('df-38c2fe50-aea4-48a8-ad1a-208b6d8d643c')\"\n",
              "              title=\"Convert this dataframe to an interactive table.\"\n",
              "              style=\"display:none;\">\n",
              "        \n",
              "  <svg xmlns=\"http://www.w3.org/2000/svg\" height=\"24px\"viewBox=\"0 0 24 24\"\n",
              "       width=\"24px\">\n",
              "    <path d=\"M0 0h24v24H0V0z\" fill=\"none\"/>\n",
              "    <path d=\"M18.56 5.44l.94 2.06.94-2.06 2.06-.94-2.06-.94-.94-2.06-.94 2.06-2.06.94zm-11 1L8.5 8.5l.94-2.06 2.06-.94-2.06-.94L8.5 2.5l-.94 2.06-2.06.94zm10 10l.94 2.06.94-2.06 2.06-.94-2.06-.94-.94-2.06-.94 2.06-2.06.94z\"/><path d=\"M17.41 7.96l-1.37-1.37c-.4-.4-.92-.59-1.43-.59-.52 0-1.04.2-1.43.59L10.3 9.45l-7.72 7.72c-.78.78-.78 2.05 0 2.83L4 21.41c.39.39.9.59 1.41.59.51 0 1.02-.2 1.41-.59l7.78-7.78 2.81-2.81c.8-.78.8-2.07 0-2.86zM5.41 20L4 18.59l7.72-7.72 1.47 1.35L5.41 20z\"/>\n",
              "  </svg>\n",
              "      </button>\n",
              "      \n",
              "  <style>\n",
              "    .colab-df-container {\n",
              "      display:flex;\n",
              "      flex-wrap:wrap;\n",
              "      gap: 12px;\n",
              "    }\n",
              "\n",
              "    .colab-df-convert {\n",
              "      background-color: #E8F0FE;\n",
              "      border: none;\n",
              "      border-radius: 50%;\n",
              "      cursor: pointer;\n",
              "      display: none;\n",
              "      fill: #1967D2;\n",
              "      height: 32px;\n",
              "      padding: 0 0 0 0;\n",
              "      width: 32px;\n",
              "    }\n",
              "\n",
              "    .colab-df-convert:hover {\n",
              "      background-color: #E2EBFA;\n",
              "      box-shadow: 0px 1px 2px rgba(60, 64, 67, 0.3), 0px 1px 3px 1px rgba(60, 64, 67, 0.15);\n",
              "      fill: #174EA6;\n",
              "    }\n",
              "\n",
              "    [theme=dark] .colab-df-convert {\n",
              "      background-color: #3B4455;\n",
              "      fill: #D2E3FC;\n",
              "    }\n",
              "\n",
              "    [theme=dark] .colab-df-convert:hover {\n",
              "      background-color: #434B5C;\n",
              "      box-shadow: 0px 1px 3px 1px rgba(0, 0, 0, 0.15);\n",
              "      filter: drop-shadow(0px 1px 2px rgba(0, 0, 0, 0.3));\n",
              "      fill: #FFFFFF;\n",
              "    }\n",
              "  </style>\n",
              "\n",
              "      <script>\n",
              "        const buttonEl =\n",
              "          document.querySelector('#df-38c2fe50-aea4-48a8-ad1a-208b6d8d643c button.colab-df-convert');\n",
              "        buttonEl.style.display =\n",
              "          google.colab.kernel.accessAllowed ? 'block' : 'none';\n",
              "\n",
              "        async function convertToInteractive(key) {\n",
              "          const element = document.querySelector('#df-38c2fe50-aea4-48a8-ad1a-208b6d8d643c');\n",
              "          const dataTable =\n",
              "            await google.colab.kernel.invokeFunction('convertToInteractive',\n",
              "                                                     [key], {});\n",
              "          if (!dataTable) return;\n",
              "\n",
              "          const docLinkHtml = 'Like what you see? Visit the ' +\n",
              "            '<a target=\"_blank\" href=https://colab.research.google.com/notebooks/data_table.ipynb>data table notebook</a>'\n",
              "            + ' to learn more about interactive tables.';\n",
              "          element.innerHTML = '';\n",
              "          dataTable['output_type'] = 'display_data';\n",
              "          await google.colab.output.renderOutput(dataTable, element);\n",
              "          const docLink = document.createElement('div');\n",
              "          docLink.innerHTML = docLinkHtml;\n",
              "          element.appendChild(docLink);\n",
              "        }\n",
              "      </script>\n",
              "    </div>\n",
              "  </div>\n",
              "  "
            ]
          },
          "metadata": {},
          "execution_count": 22
        }
      ]
    },
    {
      "cell_type": "code",
      "source": [
        "df_result_test = pd.DataFrame.from_dict(result_dict_test,orient = \"index\",columns=[\"Score\"])\n",
        "df_result_test"
      ],
      "metadata": {
        "colab": {
          "base_uri": "https://localhost:8080/",
          "height": 237
        },
        "id": "0LTz9c5nXgfM",
        "outputId": "4eb46d95-1a2e-4487-8143-21f79bdacd27"
      },
      "execution_count": 23,
      "outputs": [
        {
          "output_type": "execute_result",
          "data": {
            "text/plain": [
              "                             Score\n",
              "Logistic Test Score       0.868852\n",
              "KNN Test Score            0.836066\n",
              "SVM Test Score            0.868852\n",
              "Decision Tree Test Score  0.786885\n",
              "Random Forest Test Score  0.852459\n",
              "Gaussian NB Test Score    0.704918"
            ],
            "text/html": [
              "\n",
              "  <div id=\"df-02e77413-d3cc-4c93-8d24-fb1fc91325b2\">\n",
              "    <div class=\"colab-df-container\">\n",
              "      <div>\n",
              "<style scoped>\n",
              "    .dataframe tbody tr th:only-of-type {\n",
              "        vertical-align: middle;\n",
              "    }\n",
              "\n",
              "    .dataframe tbody tr th {\n",
              "        vertical-align: top;\n",
              "    }\n",
              "\n",
              "    .dataframe thead th {\n",
              "        text-align: right;\n",
              "    }\n",
              "</style>\n",
              "<table border=\"1\" class=\"dataframe\">\n",
              "  <thead>\n",
              "    <tr style=\"text-align: right;\">\n",
              "      <th></th>\n",
              "      <th>Score</th>\n",
              "    </tr>\n",
              "  </thead>\n",
              "  <tbody>\n",
              "    <tr>\n",
              "      <th>Logistic Test Score</th>\n",
              "      <td>0.868852</td>\n",
              "    </tr>\n",
              "    <tr>\n",
              "      <th>KNN Test Score</th>\n",
              "      <td>0.836066</td>\n",
              "    </tr>\n",
              "    <tr>\n",
              "      <th>SVM Test Score</th>\n",
              "      <td>0.868852</td>\n",
              "    </tr>\n",
              "    <tr>\n",
              "      <th>Decision Tree Test Score</th>\n",
              "      <td>0.786885</td>\n",
              "    </tr>\n",
              "    <tr>\n",
              "      <th>Random Forest Test Score</th>\n",
              "      <td>0.852459</td>\n",
              "    </tr>\n",
              "    <tr>\n",
              "      <th>Gaussian NB Test Score</th>\n",
              "      <td>0.704918</td>\n",
              "    </tr>\n",
              "  </tbody>\n",
              "</table>\n",
              "</div>\n",
              "      <button class=\"colab-df-convert\" onclick=\"convertToInteractive('df-02e77413-d3cc-4c93-8d24-fb1fc91325b2')\"\n",
              "              title=\"Convert this dataframe to an interactive table.\"\n",
              "              style=\"display:none;\">\n",
              "        \n",
              "  <svg xmlns=\"http://www.w3.org/2000/svg\" height=\"24px\"viewBox=\"0 0 24 24\"\n",
              "       width=\"24px\">\n",
              "    <path d=\"M0 0h24v24H0V0z\" fill=\"none\"/>\n",
              "    <path d=\"M18.56 5.44l.94 2.06.94-2.06 2.06-.94-2.06-.94-.94-2.06-.94 2.06-2.06.94zm-11 1L8.5 8.5l.94-2.06 2.06-.94-2.06-.94L8.5 2.5l-.94 2.06-2.06.94zm10 10l.94 2.06.94-2.06 2.06-.94-2.06-.94-.94-2.06-.94 2.06-2.06.94z\"/><path d=\"M17.41 7.96l-1.37-1.37c-.4-.4-.92-.59-1.43-.59-.52 0-1.04.2-1.43.59L10.3 9.45l-7.72 7.72c-.78.78-.78 2.05 0 2.83L4 21.41c.39.39.9.59 1.41.59.51 0 1.02-.2 1.41-.59l7.78-7.78 2.81-2.81c.8-.78.8-2.07 0-2.86zM5.41 20L4 18.59l7.72-7.72 1.47 1.35L5.41 20z\"/>\n",
              "  </svg>\n",
              "      </button>\n",
              "      \n",
              "  <style>\n",
              "    .colab-df-container {\n",
              "      display:flex;\n",
              "      flex-wrap:wrap;\n",
              "      gap: 12px;\n",
              "    }\n",
              "\n",
              "    .colab-df-convert {\n",
              "      background-color: #E8F0FE;\n",
              "      border: none;\n",
              "      border-radius: 50%;\n",
              "      cursor: pointer;\n",
              "      display: none;\n",
              "      fill: #1967D2;\n",
              "      height: 32px;\n",
              "      padding: 0 0 0 0;\n",
              "      width: 32px;\n",
              "    }\n",
              "\n",
              "    .colab-df-convert:hover {\n",
              "      background-color: #E2EBFA;\n",
              "      box-shadow: 0px 1px 2px rgba(60, 64, 67, 0.3), 0px 1px 3px 1px rgba(60, 64, 67, 0.15);\n",
              "      fill: #174EA6;\n",
              "    }\n",
              "\n",
              "    [theme=dark] .colab-df-convert {\n",
              "      background-color: #3B4455;\n",
              "      fill: #D2E3FC;\n",
              "    }\n",
              "\n",
              "    [theme=dark] .colab-df-convert:hover {\n",
              "      background-color: #434B5C;\n",
              "      box-shadow: 0px 1px 3px 1px rgba(0, 0, 0, 0.15);\n",
              "      filter: drop-shadow(0px 1px 2px rgba(0, 0, 0, 0.3));\n",
              "      fill: #FFFFFF;\n",
              "    }\n",
              "  </style>\n",
              "\n",
              "      <script>\n",
              "        const buttonEl =\n",
              "          document.querySelector('#df-02e77413-d3cc-4c93-8d24-fb1fc91325b2 button.colab-df-convert');\n",
              "        buttonEl.style.display =\n",
              "          google.colab.kernel.accessAllowed ? 'block' : 'none';\n",
              "\n",
              "        async function convertToInteractive(key) {\n",
              "          const element = document.querySelector('#df-02e77413-d3cc-4c93-8d24-fb1fc91325b2');\n",
              "          const dataTable =\n",
              "            await google.colab.kernel.invokeFunction('convertToInteractive',\n",
              "                                                     [key], {});\n",
              "          if (!dataTable) return;\n",
              "\n",
              "          const docLinkHtml = 'Like what you see? Visit the ' +\n",
              "            '<a target=\"_blank\" href=https://colab.research.google.com/notebooks/data_table.ipynb>data table notebook</a>'\n",
              "            + ' to learn more about interactive tables.';\n",
              "          element.innerHTML = '';\n",
              "          dataTable['output_type'] = 'display_data';\n",
              "          await google.colab.output.renderOutput(dataTable, element);\n",
              "          const docLink = document.createElement('div');\n",
              "          docLink.innerHTML = docLinkHtml;\n",
              "          element.appendChild(docLink);\n",
              "        }\n",
              "      </script>\n",
              "    </div>\n",
              "  </div>\n",
              "  "
            ]
          },
          "metadata": {},
          "execution_count": 23
        }
      ]
    },
    {
      "cell_type": "code",
      "source": [
        "import seaborn as sns\n",
        " \n",
        "fig,ax = plt.subplots(1,2,figsize=(20,5))\n",
        "sns.barplot(x = df_result_train.index,y = df_result_train.Score,ax = ax[0])\n",
        "sns.barplot(x = df_result_test.index,y = df_result_test.Score,ax = ax[1])\n",
        "ax[0].set_xticklabels(df_result_train.index,rotation = 75)\n",
        "ax[1].set_xticklabels(df_result_test.index,rotation = 75)\n",
        "plt.show()"
      ],
      "metadata": {
        "colab": {
          "base_uri": "https://localhost:8080/",
          "height": 422
        },
        "id": "BHxNbvaLXjEj",
        "outputId": "a65db2eb-b836-4287-92c6-45a19d280986"
      },
      "execution_count": 24,
      "outputs": [
        {
          "output_type": "display_data",
          "data": {
            "text/plain": [
              "<Figure size 1440x360 with 2 Axes>"
            ],
            "image/png": "[encoded data removed]"
          },
          "metadata": {
            "needs_background": "light"
          }
        }
      ]
    },
    {
      "cell_type": "markdown",
      "source": [
        "**ROC Curve**"
      ],
      "metadata": {
        "id": "4uTQmKlQXphk"
      }
    },
    {
      "cell_type": "code",
      "source": [
        "from sklearn import metrics\n",
        "from sklearn.model_selection import train_test_split\n",
        "import numpy as np\n",
        "import matplotlib.pyplot as plt\n",
        "\n",
        "#set up plotting area\n",
        "plt.figure(0).clf()\n",
        "\n",
        "#fit logistic regression model and plot ROC curve\n",
        "model = LogisticRegression()\n",
        "model.fit(X_train, y_train)\n",
        "y_pred = model.predict_proba(X_test)[:, 1]\n",
        "fpr, tpr, _ = metrics.roc_curve(y_test, y_pred)\n",
        "auc = round(metrics.roc_auc_score(y_test, y_pred), 4)\n",
        "plt.plot(fpr,tpr,label=\"LR, AUC=\"+str(auc))\n",
        "\n",
        "#fit naive bayes model and plot ROC curve\n",
        "model = GaussianNB()\n",
        "model.fit(X_train, y_train)\n",
        "y_pred = model.predict_proba(X_test)[:, 1]\n",
        "fpr, tpr, _ = metrics.roc_curve(y_test, y_pred)\n",
        "auc = round(metrics.roc_auc_score(y_test, y_pred), 4)\n",
        "plt.plot(fpr,tpr,label=\"NB, AUC=\"+str(auc))\n",
        "\n",
        "model = KNeighborsClassifier()\n",
        "model.fit(X_train, y_train)\n",
        "y_pred = model.predict_proba(X_test)[:, 1]\n",
        "fpr, tpr, _ = metrics.roc_curve(y_test, y_pred)\n",
        "auc = round(metrics.roc_auc_score(y_test, y_pred), 4)\n",
        "plt.plot(fpr,tpr,label=\"KNN, AUC=\"+str(auc))\n",
        "\n",
        "model = DecisionTreeClassifier()\n",
        "model.fit(X_train, y_train)\n",
        "y_pred = model.predict_proba(X_test)[:, 1]\n",
        "fpr, tpr, _ = metrics.roc_curve(y_test, y_pred)\n",
        "auc = round(metrics.roc_auc_score(y_test, y_pred), 4)\n",
        "plt.plot(fpr,tpr,label=\"DT, AUC=\"+str(auc))\n",
        "\n",
        "model = RandomForestClassifier()\n",
        "model.fit(X_train, y_train)\n",
        "y_pred = model.predict_proba(X_test)[:, 1]\n",
        "fpr, tpr, _ = metrics.roc_curve(y_test, y_pred)\n",
        "auc = round(metrics.roc_auc_score(y_test, y_pred), 4)\n",
        "plt.plot(fpr,tpr,label=\"RF, AUC=\"+str(auc))\n",
        "\n",
        "\n",
        "#add legend\n",
        "plt.legend()"
      ],
      "metadata": {
        "colab": {
          "base_uri": "https://localhost:8080/",
          "height": 424
        },
        "id": "5JtgRFRHXm4s",
        "outputId": "4a7261c0-ff4a-4eb1-e559-ee8a61c7ef50"
      },
      "execution_count": 25,
      "outputs": [
        {
          "output_type": "stream",
          "name": "stderr",
          "text": [
            "/usr/local/lib/python3.7/dist-packages/sklearn/utils/validation.py:993: DataConversionWarning: A column-vector y was passed when a 1d array was expected. Please change the shape of y to (n_samples, ), for example using ravel().\n",
            "  y = column_or_1d(y, warn=True)\n",
            "/usr/local/lib/python3.7/dist-packages/sklearn/utils/validation.py:993: DataConversionWarning: A column-vector y was passed when a 1d array was expected. Please change the shape of y to (n_samples, ), for example using ravel().\n",
            "  y = column_or_1d(y, warn=True)\n",
            "/usr/local/lib/python3.7/dist-packages/sklearn/neighbors/_classification.py:198: DataConversionWarning: A column-vector y was passed when a 1d array was expected. Please change the shape of y to (n_samples,), for example using ravel().\n",
            "  return self._fit(X, y)\n",
            "/usr/local/lib/python3.7/dist-packages/ipykernel_launcher.py:40: DataConversionWarning: A column-vector y was passed when a 1d array was expected. Please change the shape of y to (n_samples,), for example using ravel().\n"
          ]
        },
        {
          "output_type": "execute_result",
          "data": {
            "text/plain": [
              "<matplotlib.legend.Legend at 0x7f20210d4ed0>"
            ]
          },
          "metadata": {},
          "execution_count": 25
        },
        {
          "output_type": "display_data",
          "data": {
            "text/plain": [
              "<Figure size 432x288 with 1 Axes>"
            ],
            "image/png": "[encoded data removed]"
          },
          "metadata": {
            "needs_background": "light"
          }
        }
      ]
    }
  ]
}