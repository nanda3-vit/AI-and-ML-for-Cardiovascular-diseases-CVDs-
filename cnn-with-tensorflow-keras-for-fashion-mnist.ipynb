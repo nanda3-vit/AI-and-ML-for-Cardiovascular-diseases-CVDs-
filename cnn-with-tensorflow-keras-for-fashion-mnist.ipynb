{
 "cells": [
  {
   "cell_type": "markdown",
   "metadata": {
    "_uuid": "805a97911f01abb36ff8414d8d6aec9293e4fb85"
   },
   "source": [
    " <h1><center><font size=\"6\">CNN with Tensorflow|Keras for Fashion MNIST</font></center></h1>\n",
    "\n",
    "\n",
    "<center><img src=\"https://research.zalando.com/project/fashion_mnist/fashion_mnist/img/fashion-mnist-sprite.png\" width=\"600\"></img></center>\n",
    "\n",
    "\n",
    "# <a id='0'>Content</a>\n",
    "\n",
    "- <a href='#1'>Introduction</a>  \n",
    "- <a href='#2'>Load packages</a>  \n",
    "- <a href='#3'>Read the data</a>  \n",
    "- <a href='#4'>Data exploration</a>\n",
    "    - <a href='#41'>Class distribution</a>\n",
    "    - <a href='#42'>Images samples</a>\n",
    "- <a href='#5'>Model</a>  \n",
    "    - <a href='#51'>Prepare the model</a>  \n",
    "    - <a href='#52'>Train the model</a>  \n",
    "    - <a href='#53'>Test prediction accuracy</a>   \n",
    "    - <a href='#54'>Validation accuracy and loss</a>   \n",
    "    - <a href='#55'>Add Dropout layers to the model</a>  \n",
    "    - <a href='#56'>Re-train the model</a>   \n",
    "    - <a href='#57'>Check validation accuracy and loss with the new model</a>    \n",
    "    - <a href='#58'>Prediction accuracy with the new model </a>   \n",
    "- <a href='#6'>Visualize the classified images</a>  \n",
    "    - <a href='#61'>Correctly classified images</a>   \n",
    "    - <a href='#62'>Incorrectly classified images</a>   \n",
    "- <a href='#7'>Conclusions</a>\n",
    "- <a href='#8'>References</a>"
   ]
  },
  {
   "cell_type": "markdown",
   "metadata": {
    "_uuid": "1b1c16628c2f62a18e1dc2068e1d67d7003922b1"
   },
   "source": [
    "# <a id=\"1\">Introduction</a>  \n",
    "\n",
    "\n",
    "## Dataset\n",
    "\n",
    "Fashion-MNIST is a dataset of Zalando's article images—consisting of a training set of 60,000 examples and a test set of 10,000 examples. Each example is a 28x28 grayscale image, associated with a label from 10 classes. Zalando intends Fashion-MNIST to serve as a direct drop-in replacement for the original MNIST dataset for benchmarking machine learning algorithms. It shares the same image size and structure of training and testing splits.\n",
    "\n",
    "\n",
    "## Content\n",
    "\n",
    "Each image is 28 pixels in height and 28 pixels in width, for a total of 784 pixels in total.   \n",
    "\n",
    "Each pixel has a single pixel-value associated with it, indicating the lightness or darkness of that pixel, with higher numbers meaning darker. This pixel-value is an integer between 0 and 255.   \n",
    "\n",
    "The training and test data sets have 785 columns.   \n",
    "\n",
    "The first column consists of the class labels (see above), and represents the article of clothing. \n",
    "\n",
    "The rest of 784 columns (1-785) contain the pixel-values of the associated image."
   ]
  },
  {
   "cell_type": "markdown",
   "metadata": {
    "_uuid": "5a708dc52b2e5990e2247ed573d50d0f6933b730"
   },
   "source": [
    "# <a id=\"2\">Load packages</a>"
   ]
  },
  {
   "cell_type": "code",
   "execution_count": 1,
   "metadata": {
    "_uuid": "2defa674e4e6d0e7371df92e7d1f388fc5c14bb6",
    "execution": {
     "iopub.execute_input": "2023-02-01T06:47:02.550291Z",
     "iopub.status.busy": "2023-02-01T06:47:02.549601Z",
     "iopub.status.idle": "2023-02-01T06:47:06.744172Z",
     "shell.execute_reply": "2023-02-01T06:47:06.742159Z",
     "shell.execute_reply.started": "2023-02-01T06:47:02.550098Z"
    }
   },
   "outputs": [
    {
     "name": "stderr",
     "output_type": "stream",
     "text": [
      "Using TensorFlow backend.\n"
     ]
    },
    {
     "data": {
      "text/html": [
       "<script>requirejs.config({paths: { 'plotly': ['https://cdn.plot.ly/plotly-latest.min']},});if(!window.Plotly) {{require(['plotly'],function(plotly) {window.Plotly=plotly;});}}</script>"
      ],
      "text/vnd.plotly.v1+html": [
       "<script>requirejs.config({paths: { 'plotly': ['https://cdn.plot.ly/plotly-latest.min']},});if(!window.Plotly) {{require(['plotly'],function(plotly) {window.Plotly=plotly;});}}</script>"
      ]
     },
     "metadata": {},
     "output_type": "display_data"
    }
   ],
   "source": [
    "import numpy as np\n",
    "import pandas as pd\n",
    "from sklearn.model_selection import train_test_split\n",
    "from sklearn.metrics import classification_report\n",
    "from tensorflow.python import keras\n",
    "from tensorflow.python.keras.models import Sequential\n",
    "from tensorflow.python.keras.layers import Dense, Flatten, Conv2D, Dropout, MaxPooling2D\n",
    "from IPython.display import SVG\n",
    "from keras.utils.vis_utils import model_to_dot\n",
    "from keras.utils import plot_model\n",
    "import seaborn as sns\n",
    "import matplotlib.pyplot as plt\n",
    "%matplotlib inline \n",
    "import plotly.graph_objs as go\n",
    "import plotly.figure_factory as ff\n",
    "from plotly import tools\n",
    "from plotly.offline import download_plotlyjs, init_notebook_mode, plot, iplot\n",
    "init_notebook_mode(connected=True)"
   ]
  },
  {
   "cell_type": "markdown",
   "metadata": {
    "_uuid": "e17fd2539412442ddb3ecacf84366ddd62faf836"
   },
   "source": [
    "## Parameters"
   ]
  },
  {
   "cell_type": "code",
   "execution_count": 2,
   "metadata": {
    "_uuid": "d7a44bfc7a28df7026241c4a7e047298446f1554",
    "execution": {
     "iopub.execute_input": "2023-02-01T06:47:06.746978Z",
     "iopub.status.busy": "2023-02-01T06:47:06.746521Z",
     "iopub.status.idle": "2023-02-01T06:47:06.783335Z",
     "shell.execute_reply": "2023-02-01T06:47:06.782008Z",
     "shell.execute_reply.started": "2023-02-01T06:47:06.746871Z"
    }
   },
   "outputs": [
    {
     "name": "stdout",
     "output_type": "stream",
     "text": [
      "['t10k-labels-idx1-ubyte', 't10k-images-idx3-ubyte', 'fashion-mnist_test.csv', 'fashion-mnist_train.csv', 'train-labels-idx1-ubyte', 'train-images-idx3-ubyte']\n"
     ]
    }
   ],
   "source": [
    "IMG_ROWS = 28\n",
    "IMG_COLS = 28\n",
    "NUM_CLASSES = 10\n",
    "TEST_SIZE = 0.2\n",
    "RANDOM_STATE = 2018\n",
    "#Model\n",
    "NO_EPOCHS = 50\n",
    "BATCH_SIZE = 128\n",
    "\n",
    "IS_LOCAL = False\n",
    "\n",
    "import os\n",
    "\n",
    "if(IS_LOCAL):\n",
    "    PATH=\"../input/fashionmnist/\"\n",
    "else:\n",
    "    PATH=\"../input/\"\n",
    "print(os.listdir(PATH))"
   ]
  },
  {
   "cell_type": "markdown",
   "metadata": {
    "_uuid": "f49d65b4af77e87ab34b6854850619911cff1e6d"
   },
   "source": [
    "# <a id=\"3\">Read the data</a>\n",
    "\n",
    "There are 10 different classes of images, as following: \n",
    "\n",
    "* **0**: **T-shirt/top**;   \n",
    "* **1**: **Trouser**;   \n",
    "* **2**: **Pullover**;   \n",
    "* **3**: **Dress**;\n",
    "* **4**: **Coat**;\n",
    "* **5**: **Sandal**;\n",
    "* **6**: **Shirt**;\n",
    "* **7**: **Sneaker**;\n",
    "* **8**: **Bag**;\n",
    "* **9**: **Ankle boot**.\n",
    "\n",
    "Image dimmensions are **28**x**28**.   \n",
    "\n",
    "The train set and test set are given in two separate datasets.\n"
   ]
  },
  {
   "cell_type": "code",
   "execution_count": 3,
   "metadata": {
    "_uuid": "a9c3148fda056ecc88570b302f5185064d5e9fc8",
    "execution": {
     "iopub.execute_input": "2023-02-01T06:47:06.786346Z",
     "iopub.status.busy": "2023-02-01T06:47:06.785644Z",
     "iopub.status.idle": "2023-02-01T06:47:17.892690Z",
     "shell.execute_reply": "2023-02-01T06:47:17.891150Z",
     "shell.execute_reply.started": "2023-02-01T06:47:06.786281Z"
    }
   },
   "outputs": [],
   "source": [
    "train_file = PATH+\"fashion-mnist_train.csv\"\n",
    "test_file  = PATH+\"fashion-mnist_test.csv\"\n",
    "\n",
    "train_data = pd.read_csv(train_file)\n",
    "test_data = pd.read_csv(test_file)"
   ]
  },
  {
   "cell_type": "markdown",
   "metadata": {
    "_uuid": "290f8f38b2f64dfd1bd3432eb1e9a101dbbaf4e5"
   },
   "source": [
    "# <a id=\"4\">Data exploration</a>"
   ]
  },
  {
   "cell_type": "markdown",
   "metadata": {
    "_uuid": "e8891ae7996aa2ae5bc1c025661a77ae91c2fdfb"
   },
   "source": [
    "![](http://)The dimmension of the original  train,  test set are as following:"
   ]
  },
  {
   "cell_type": "code",
   "execution_count": 4,
   "metadata": {
    "_uuid": "a133496cefc53baa56b9a5eec93bfd064ea6360d",
    "execution": {
     "iopub.execute_input": "2023-02-01T06:47:17.896365Z",
     "iopub.status.busy": "2023-02-01T06:47:17.895909Z",
     "iopub.status.idle": "2023-02-01T06:47:17.904553Z",
     "shell.execute_reply": "2023-02-01T06:47:17.902531Z",
     "shell.execute_reply.started": "2023-02-01T06:47:17.896273Z"
    }
   },
   "outputs": [
    {
     "name": "stdout",
     "output_type": "stream",
     "text": [
      "Fashion MNIST train -  rows: 60000  columns: 785\n",
      "Fashion MNIST test -  rows: 10000  columns: 785\n"
     ]
    }
   ],
   "source": [
    "print(\"Fashion MNIST train -  rows:\",train_data.shape[0],\" columns:\", train_data.shape[1])\n",
    "print(\"Fashion MNIST test -  rows:\",test_data.shape[0],\" columns:\", test_data.shape[1])"
   ]
  },
  {
   "cell_type": "markdown",
   "metadata": {
    "_uuid": "dc317fbf40c9b2838f8091e745a64e060a7affc0"
   },
   "source": [
    "## <a id=\"41\">Class distribution</a>\n",
    "\n",
    "Let's see how many number of images are in each class. We start with the train set.\n",
    "\n",
    "### Train set images class distribution"
   ]
  },
  {
   "cell_type": "code",
   "execution_count": 5,
   "metadata": {
    "_uuid": "da948eb587daf81160a4794a36662f8872c882a4",
    "execution": {
     "iopub.execute_input": "2023-02-01T06:47:17.907286Z",
     "iopub.status.busy": "2023-02-01T06:47:17.906749Z",
     "iopub.status.idle": "2023-02-01T06:47:17.934062Z",
     "shell.execute_reply": "2023-02-01T06:47:17.931972Z",
     "shell.execute_reply.started": "2023-02-01T06:47:17.907179Z"
    }
   },
   "outputs": [
    {
     "name": "stdout",
     "output_type": "stream",
     "text": [
      "Ankle Boot          :   6000 or 10.0%\n",
      "Bag                 :   6000 or 10.0%\n",
      "Sneaker             :   6000 or 10.0%\n",
      "Shirt               :   6000 or 10.0%\n",
      "Sandal              :   6000 or 10.0%\n",
      "Coat                :   6000 or 10.0%\n",
      "Dress               :   6000 or 10.0%\n",
      "Pullover            :   6000 or 10.0%\n",
      "Trouser             :   6000 or 10.0%\n",
      "T-shirt/top         :   6000 or 10.0%\n"
     ]
    }
   ],
   "source": [
    "# Create a dictionary for each type of label \n",
    "labels = {0 : \"T-shirt/top\", 1: \"Trouser\", 2: \"Pullover\", 3: \"Dress\", 4: \"Coat\",\n",
    "          5: \"Sandal\", 6: \"Shirt\", 7: \"Sneaker\", 8: \"Bag\", 9: \"Ankle Boot\"}\n",
    "\n",
    "def get_classes_distribution(data):\n",
    "    # Get the count for each label\n",
    "    label_counts = data[\"label\"].value_counts()\n",
    "\n",
    "    # Get total number of samples\n",
    "    total_samples = len(data)\n",
    "\n",
    "\n",
    "    # Count the number of items in each class\n",
    "    for i in range(len(label_counts)):\n",
    "        label = labels[label_counts.index[i]]\n",
    "        count = label_counts.values[i]\n",
    "        percent = (count / total_samples) * 100\n",
    "        print(\"{:<20s}:   {} or {}%\".format(label, count, percent))\n",
    "\n",
    "get_classes_distribution(train_data)"
   ]
  },
  {
   "cell_type": "markdown",
   "metadata": {
    "_uuid": "fc41d889d3ad6352994cdf8a76a78ed0d22ec141"
   },
   "source": [
    "The classes are equaly distributed in the train set (10% each). Let's check the same for the test set.    \n",
    "Let's also plot the class distribution.\n",
    "\n"
   ]
  },
  {
   "cell_type": "code",
   "execution_count": 6,
   "metadata": {
    "_uuid": "7ac8f6fde6bd78553f08469093cebc0e124a5210",
    "execution": {
     "iopub.execute_input": "2023-02-01T06:47:17.936092Z",
     "iopub.status.busy": "2023-02-01T06:47:17.935644Z",
     "iopub.status.idle": "2023-02-01T06:47:18.384802Z",
     "shell.execute_reply": "2023-02-01T06:47:18.383356Z",
     "shell.execute_reply.started": "2023-02-01T06:47:17.935984Z"
    }
   },
   "outputs": [
    {
     "data": {
      "image/png": "[encoded data removed]",
      "text/plain": [
       "<Figure size 864x288 with 1 Axes>"
      ]
     },
     "metadata": {
      "needs_background": "light"
     },
     "output_type": "display_data"
    }
   ],
   "source": [
    "def plot_label_per_class(data):\n",
    "    f, ax = plt.subplots(1,1, figsize=(12,4))\n",
    "    g = sns.countplot(data.label, order = data[\"label\"].value_counts().index)\n",
    "    g.set_title(\"Number of labels for each class\")\n",
    "\n",
    "    for p, label in zip(g.patches, data[\"label\"].value_counts().index):\n",
    "        g.annotate(labels[label], (p.get_x(), p.get_height()+0.1))\n",
    "    plt.show()  \n",
    "    \n",
    "plot_label_per_class(train_data)"
   ]
  },
  {
   "cell_type": "markdown",
   "metadata": {
    "_uuid": "f7c3328ce859d1809ce916bba73bc57b2d580963"
   },
   "source": [
    "### Test set images class distribution"
   ]
  },
  {
   "cell_type": "code",
   "execution_count": 7,
   "metadata": {
    "_uuid": "2581093ff1268ae9487fe83b383c2d4be4657000",
    "execution": {
     "iopub.execute_input": "2023-02-01T06:47:18.386415Z",
     "iopub.status.busy": "2023-02-01T06:47:18.386051Z",
     "iopub.status.idle": "2023-02-01T06:47:18.397021Z",
     "shell.execute_reply": "2023-02-01T06:47:18.395049Z",
     "shell.execute_reply.started": "2023-02-01T06:47:18.386347Z"
    }
   },
   "outputs": [
    {
     "name": "stdout",
     "output_type": "stream",
     "text": [
      "Sneaker             :   1000 or 10.0%\n",
      "Shirt               :   1000 or 10.0%\n",
      "Sandal              :   1000 or 10.0%\n",
      "Coat                :   1000 or 10.0%\n",
      "Dress               :   1000 or 10.0%\n",
      "Pullover            :   1000 or 10.0%\n",
      "Ankle Boot          :   1000 or 10.0%\n",
      "Trouser             :   1000 or 10.0%\n",
      "Bag                 :   1000 or 10.0%\n",
      "T-shirt/top         :   1000 or 10.0%\n"
     ]
    }
   ],
   "source": [
    "get_classes_distribution(test_data)"
   ]
  },
  {
   "cell_type": "markdown",
   "metadata": {
    "_uuid": "fffa6f5248eb037b47a84e1e1ee889ee3470a1d4"
   },
   "source": [
    "Also in the test set the 10 classes are equaly distributed (10% each).  \n",
    "\n",
    "Lets' also plot the class distribution."
   ]
  },
  {
   "cell_type": "code",
   "execution_count": 8,
   "metadata": {
    "_uuid": "7d770b2cde8f32b83a67da02eeacd17f01904ddd",
    "execution": {
     "iopub.execute_input": "2023-02-01T06:47:18.399087Z",
     "iopub.status.busy": "2023-02-01T06:47:18.398601Z",
     "iopub.status.idle": "2023-02-01T06:47:18.816790Z",
     "shell.execute_reply": "2023-02-01T06:47:18.815352Z",
     "shell.execute_reply.started": "2023-02-01T06:47:18.399011Z"
    }
   },
   "outputs": [
    {
     "data": {
      "image/png": "[encoded data removed]",
      "text/plain": [
       "<Figure size 864x288 with 1 Axes>"
      ]
     },
     "metadata": {
      "needs_background": "light"
     },
     "output_type": "display_data"
    }
   ],
   "source": [
    "plot_label_per_class(test_data)"
   ]
  },
  {
   "cell_type": "markdown",
   "metadata": {
    "_uuid": "588beb3c38b5f5a0b41ca0699426a1477efb8412"
   },
   "source": [
    "## <a id=\"42\">Sample images</a>\n",
    "\n",
    "### Train set images\n",
    "\n",
    "Let's plot some samples for the images.   \n",
    "We add labels to the train set images, with the corresponding fashion item category.  "
   ]
  },
  {
   "cell_type": "code",
   "execution_count": 9,
   "metadata": {
    "_uuid": "62fd41c12740f184ec160d692b3289d4457297d6",
    "execution": {
     "iopub.execute_input": "2023-02-01T06:47:18.819760Z",
     "iopub.status.busy": "2023-02-01T06:47:18.819291Z",
     "iopub.status.idle": "2023-02-01T06:47:19.318439Z",
     "shell.execute_reply": "2023-02-01T06:47:19.317220Z",
     "shell.execute_reply.started": "2023-02-01T06:47:18.819685Z"
    }
   },
   "outputs": [
    {
     "name": "stdout",
     "output_type": "stream",
     "text": [
      "Total number of sample images to plot:  40\n"
     ]
    }
   ],
   "source": [
    "def sample_images_data(data):\n",
    "    # An empty list to collect some samples\n",
    "    sample_images = []\n",
    "    sample_labels = []\n",
    "\n",
    "    # Iterate over the keys of the labels dictionary defined in the above cell\n",
    "    for k in labels.keys():\n",
    "        # Get four samples for each category\n",
    "        samples = data[data[\"label\"] == k].head(4)\n",
    "        # Append the samples to the samples list\n",
    "        for j, s in enumerate(samples.values):\n",
    "            # First column contain labels, hence index should start from 1\n",
    "            img = np.array(samples.iloc[j, 1:]).reshape(IMG_ROWS,IMG_COLS)\n",
    "            sample_images.append(img)\n",
    "            sample_labels.append(samples.iloc[j, 0])\n",
    "\n",
    "    print(\"Total number of sample images to plot: \", len(sample_images))\n",
    "    return sample_images, sample_labels\n",
    "\n",
    "train_sample_images, train_sample_labels = sample_images_data(train_data)"
   ]
  },
  {
   "cell_type": "markdown",
   "metadata": {
    "_uuid": "e5c80cef30985bb5ab0ee48d4fc9891660c2a92f"
   },
   "source": [
    "Let's now plot the images.   \n",
    "The labels are shown above each image."
   ]
  },
  {
   "cell_type": "code",
   "execution_count": 10,
   "metadata": {
    "_uuid": "4f4f27f5143bdd834302a2c43cdb1d68d2a131a9",
    "execution": {
     "iopub.execute_input": "2023-02-01T06:47:19.320039Z",
     "iopub.status.busy": "2023-02-01T06:47:19.319678Z",
     "iopub.status.idle": "2023-02-01T06:47:22.288362Z",
     "shell.execute_reply": "2023-02-01T06:47:22.286998Z",
     "shell.execute_reply.started": "2023-02-01T06:47:19.319972Z"
    }
   },
   "outputs": [
    {
     "data": {
      "image/png": "[encoded data removed]",
      "text/plain": [
       "<Figure size 1152x720 with 40 Axes>"
      ]
     },
     "metadata": {
      "needs_background": "light"
     },
     "output_type": "display_data"
    }
   ],
   "source": [
    "def plot_sample_images(data_sample_images,data_sample_labels,cmap=\"Blues\"):\n",
    "    # Plot the sample images now\n",
    "    f, ax = plt.subplots(5,8, figsize=(16,10))\n",
    "\n",
    "    for i, img in enumerate(data_sample_images):\n",
    "        ax[i//8, i%8].imshow(img, cmap=cmap)\n",
    "        ax[i//8, i%8].axis('off')\n",
    "        ax[i//8, i%8].set_title(labels[data_sample_labels[i]])\n",
    "    plt.show()    \n",
    "    \n",
    "plot_sample_images(train_sample_images,train_sample_labels, \"Greens\")"
   ]
  },
  {
   "cell_type": "markdown",
   "metadata": {
    "_uuid": "bd30352b2674a20eca5e792d7c186cdcbab25461"
   },
   "source": [
    "### Test set images\n",
    "\n",
    "Let's plot now a selection of the test set images.  \n",
    "Labels are as well added (they are known).  "
   ]
  },
  {
   "cell_type": "code",
   "execution_count": 11,
   "metadata": {
    "_uuid": "616df96bfae0e8065c206e6dfec2847d5d42125d",
    "execution": {
     "iopub.execute_input": "2023-02-01T06:47:22.294162Z",
     "iopub.status.busy": "2023-02-01T06:47:22.293698Z",
     "iopub.status.idle": "2023-02-01T06:47:25.111737Z",
     "shell.execute_reply": "2023-02-01T06:47:25.109638Z",
     "shell.execute_reply.started": "2023-02-01T06:47:22.294099Z"
    }
   },
   "outputs": [
    {
     "name": "stdout",
     "output_type": "stream",
     "text": [
      "Total number of sample images to plot:  40\n"
     ]
    },
    {
     "data": {
      "image/png": "[encoded data removed]",
      "text/plain": [
       "<Figure size 1152x720 with 40 Axes>"
      ]
     },
     "metadata": {
      "needs_background": "light"
     },
     "output_type": "display_data"
    }
   ],
   "source": [
    "test_sample_images, test_sample_labels = sample_images_data(test_data)\n",
    "plot_sample_images(test_sample_images,test_sample_labels)"
   ]
  },
  {
   "cell_type": "markdown",
   "metadata": {
    "_uuid": "273c79c7470c49fe7a546dd7148e0536be2dee19"
   },
   "source": [
    "# <a id=\"5\">Model</a>\n",
    "\n",
    "We start with preparing the model."
   ]
  },
  {
   "cell_type": "markdown",
   "metadata": {
    "_uuid": "10b920b2ffc5de4a3ddebe494966d90cca91ee95"
   },
   "source": [
    "## <a id=\"51\">Prepare the model</a>\n",
    "\n",
    "## Data preprocessing\n",
    "\n",
    "First we will do a data preprocessing to prepare for the model.\n",
    "\n",
    "We reshape the columns  from (784) to (28,28,1). We also save label (target) feature as a separate vector."
   ]
  },
  {
   "cell_type": "code",
   "execution_count": 12,
   "metadata": {
    "_uuid": "db4c308b9fb334a54b4c055b00d2a1fbcf77ab96",
    "execution": {
     "iopub.execute_input": "2023-02-01T06:47:25.115804Z",
     "iopub.status.busy": "2023-02-01T06:47:25.115400Z",
     "iopub.status.idle": "2023-02-01T06:47:25.125111Z",
     "shell.execute_reply": "2023-02-01T06:47:25.122916Z",
     "shell.execute_reply.started": "2023-02-01T06:47:25.115728Z"
    }
   },
   "outputs": [],
   "source": [
    "# data preprocessing\n",
    "def data_preprocessing(raw):\n",
    "    out_y = keras.utils.to_categorical(raw.label, NUM_CLASSES)\n",
    "    num_images = raw.shape[0]\n",
    "    x_as_array = raw.values[:,1:]\n",
    "    x_shaped_array = x_as_array.reshape(num_images, IMG_ROWS, IMG_COLS, 1)\n",
    "    out_x = x_shaped_array / 255\n",
    "    return out_x, out_y"
   ]
  },
  {
   "cell_type": "markdown",
   "metadata": {
    "_uuid": "2d3cafa55173d40cd9a42df63d4919f03b264c09"
   },
   "source": [
    "We process both the train_data and the test_data"
   ]
  },
  {
   "cell_type": "code",
   "execution_count": 13,
   "metadata": {
    "_uuid": "454d7a8fdca4bdbefc04a9d796de04b6af4a1767",
    "execution": {
     "iopub.execute_input": "2023-02-01T06:47:25.128685Z",
     "iopub.status.busy": "2023-02-01T06:47:25.128107Z",
     "iopub.status.idle": "2023-02-01T06:47:25.691318Z",
     "shell.execute_reply": "2023-02-01T06:47:25.689724Z",
     "shell.execute_reply.started": "2023-02-01T06:47:25.128590Z"
    }
   },
   "outputs": [],
   "source": [
    "# prepare the data\n",
    "X, y = data_preprocessing(train_data)\n",
    "X_test, y_test = data_preprocessing(test_data)"
   ]
  },
  {
   "cell_type": "markdown",
   "metadata": {
    "_uuid": "8e25c569f0a0e817ca0462f3e3ea2f50feb480b0"
   },
   "source": [
    "## Split train in train and validation set\n",
    "\n",
    "We further split the train set in train and validation set. The validation set will be 20% from the original train set, therefore the split will be train/validation of 0.8/0.2."
   ]
  },
  {
   "cell_type": "code",
   "execution_count": 14,
   "metadata": {
    "_uuid": "36eb910dd0868a227a73c9759d6aee0a47ba2b1e",
    "execution": {
     "iopub.execute_input": "2023-02-01T06:47:25.692802Z",
     "iopub.status.busy": "2023-02-01T06:47:25.692475Z",
     "iopub.status.idle": "2023-02-01T06:47:27.167581Z",
     "shell.execute_reply": "2023-02-01T06:47:27.166213Z",
     "shell.execute_reply.started": "2023-02-01T06:47:25.692729Z"
    }
   },
   "outputs": [],
   "source": [
    "X_train, X_val, y_train, y_val = train_test_split(X, y, test_size=TEST_SIZE, random_state=RANDOM_STATE)"
   ]
  },
  {
   "cell_type": "markdown",
   "metadata": {
    "_uuid": "1e623ca7c0c61634c0e4b890fc5cf5cacb132552"
   },
   "source": [
    "The dimmension of the processed train, validation and test set are as following:"
   ]
  },
  {
   "cell_type": "code",
   "execution_count": 15,
   "metadata": {
    "_uuid": "98b3f1bf07e8ed614bf32b8e1955cbe90bff21c5",
    "execution": {
     "iopub.execute_input": "2023-02-01T06:47:27.170409Z",
     "iopub.status.busy": "2023-02-01T06:47:27.169638Z",
     "iopub.status.idle": "2023-02-01T06:47:27.182957Z",
     "shell.execute_reply": "2023-02-01T06:47:27.180326Z",
     "shell.execute_reply.started": "2023-02-01T06:47:27.170271Z"
    }
   },
   "outputs": [
    {
     "name": "stdout",
     "output_type": "stream",
     "text": [
      "Fashion MNIST train -  rows: 48000  columns: (28, 28, 1)\n",
      "Fashion MNIST valid -  rows: 12000  columns: (28, 28, 1)\n",
      "Fashion MNIST test -  rows: 10000  columns: (28, 28, 1)\n"
     ]
    }
   ],
   "source": [
    "print(\"Fashion MNIST train -  rows:\",X_train.shape[0],\" columns:\", X_train.shape[1:4])\n",
    "print(\"Fashion MNIST valid -  rows:\",X_val.shape[0],\" columns:\", X_val.shape[1:4])\n",
    "print(\"Fashion MNIST test -  rows:\",X_test.shape[0],\" columns:\", X_test.shape[1:4])"
   ]
  },
  {
   "cell_type": "markdown",
   "metadata": {
    "_uuid": "5bc44b14e07efcd3dda90deaac6884b07285b484"
   },
   "source": [
    "Let's check the class inbalance for the rsulted training set."
   ]
  },
  {
   "cell_type": "code",
   "execution_count": 16,
   "metadata": {
    "_uuid": "a8c4e101cbbe68984f525e00afa8c7b7d8cc2215",
    "execution": {
     "iopub.execute_input": "2023-02-01T06:47:27.185665Z",
     "iopub.status.busy": "2023-02-01T06:47:27.185329Z",
     "iopub.status.idle": "2023-02-01T06:47:27.618213Z",
     "shell.execute_reply": "2023-02-01T06:47:27.615743Z",
     "shell.execute_reply.started": "2023-02-01T06:47:27.185619Z"
    }
   },
   "outputs": [
    {
     "data": {
      "image/png": "[encoded data removed]",
      "text/plain": [
       "<Figure size 864x288 with 1 Axes>"
      ]
     },
     "metadata": {
      "needs_background": "light"
     },
     "output_type": "display_data"
    },
    {
     "name": "stdout",
     "output_type": "stream",
     "text": [
      "Dress               :   4891 or 10.189583333333333%\n",
      "Sandal              :   4855 or 10.114583333333334%\n",
      "Pullover            :   4836 or 10.075000000000001%\n",
      "Ankle Boot          :   4827 or 10.05625%\n",
      "Sneaker             :   4798 or 9.995833333333334%\n",
      "Coat                :   4796 or 9.991666666666667%\n",
      "Shirt               :   4779 or 9.95625%\n",
      "Bag                 :   4757 or 9.910416666666666%\n",
      "Trouser             :   4745 or 9.885416666666668%\n",
      "T-shirt/top         :   4716 or 9.825000000000001%\n"
     ]
    }
   ],
   "source": [
    "def plot_count_per_class(yd):\n",
    "    ydf = pd.DataFrame(yd)\n",
    "    f, ax = plt.subplots(1,1, figsize=(12,4))\n",
    "    g = sns.countplot(ydf[0], order = np.arange(0,10))\n",
    "    g.set_title(\"Number of items for each class\")\n",
    "    g.set_xlabel(\"Category\")\n",
    "    \n",
    "    for p, label in zip(g.patches, np.arange(0,10)):\n",
    "        g.annotate(labels[label], (p.get_x(), p.get_height()+0.1))\n",
    "        \n",
    "    plt.show()  \n",
    "\n",
    "def get_count_per_class(yd):\n",
    "    ydf = pd.DataFrame(yd)\n",
    "    # Get the count for each label\n",
    "    label_counts = ydf[0].value_counts()\n",
    "\n",
    "    # Get total number of samples\n",
    "    total_samples = len(yd)\n",
    "\n",
    "\n",
    "    # Count the number of items in each class\n",
    "    for i in range(len(label_counts)):\n",
    "        label = labels[label_counts.index[i]]\n",
    "        count = label_counts.values[i]\n",
    "        percent = (count / total_samples) * 100\n",
    "        print(\"{:<20s}:   {} or {}%\".format(label, count, percent))\n",
    "    \n",
    "plot_count_per_class(np.argmax(y_train,axis=1))\n",
    "get_count_per_class(np.argmax(y_train,axis=1))"
   ]
  },
  {
   "cell_type": "markdown",
   "metadata": {
    "_uuid": "07bfe3d5d50b985788a28e546473fd885d96dcef"
   },
   "source": [
    "And, as well, for the validation set."
   ]
  },
  {
   "cell_type": "code",
   "execution_count": 17,
   "metadata": {
    "_uuid": "af3b3d31c42637235bc07b700db121e37e156afc",
    "execution": {
     "iopub.execute_input": "2023-02-01T06:47:27.620365Z",
     "iopub.status.busy": "2023-02-01T06:47:27.619789Z",
     "iopub.status.idle": "2023-02-01T06:47:28.056102Z",
     "shell.execute_reply": "2023-02-01T06:47:28.054083Z",
     "shell.execute_reply.started": "2023-02-01T06:47:27.620114Z"
    }
   },
   "outputs": [
    {
     "data": {
      "image/png": "[encoded data removed]",
      "text/plain": [
       "<Figure size 864x288 with 1 Axes>"
      ]
     },
     "metadata": {
      "needs_background": "light"
     },
     "output_type": "display_data"
    },
    {
     "name": "stdout",
     "output_type": "stream",
     "text": [
      "T-shirt/top         :   1284 or 10.7%\n",
      "Trouser             :   1255 or 10.458333333333334%\n",
      "Bag                 :   1243 or 10.358333333333333%\n",
      "Shirt               :   1221 or 10.174999999999999%\n",
      "Coat                :   1204 or 10.033333333333333%\n",
      "Sneaker             :   1202 or 10.016666666666667%\n",
      "Ankle Boot          :   1173 or 9.775%\n",
      "Pullover            :   1164 or 9.700000000000001%\n",
      "Sandal              :   1145 or 9.541666666666666%\n",
      "Dress               :   1109 or 9.241666666666665%\n"
     ]
    }
   ],
   "source": [
    "plot_count_per_class(np.argmax(y_val,axis=1))\n",
    "get_count_per_class(np.argmax(y_val,axis=1))"
   ]
  },
  {
   "cell_type": "markdown",
   "metadata": {
    "_uuid": "315162ff857021131d4ac6739bda800acc5c6c4b"
   },
   "source": [
    "Both the train and validation set are unbalanced with respect of distribution of classes. "
   ]
  },
  {
   "cell_type": "markdown",
   "metadata": {
    "_uuid": "dd9405b5a3fe0c7bd5bebe0616190a8cf26d2811"
   },
   "source": [
    "## <a id=\"52\">Train the model</a>\n",
    "\n",
    "### Build the model   \n",
    "\n",
    "\n",
    "\n",
    "We will use a **Sequential** model.\n",
    "* The **Sequential** model is a linear stack of layers. It can be first initialized and then we add layers using **add** method or we can add all layers at init stage. The layers added are as follows:\n",
    "\n",
    "* **Conv2D** is a 2D Convolutional layer (i.e. spatial convolution over images). The parameters used are:\n",
    " * filters - the number of filters (Kernels) used with this layer; here filters = 32;\n",
    " * kernel_size - the dimmension of the Kernel: (3 x 3);\n",
    " * activation - is the activation function used, in this case `relu`;\n",
    " * kernel_initializer - the function used for initializing the kernel;\n",
    " * input_shape - is the shape of the image presented to the CNN: in our case is 28 x 28\n",
    " The input and output of the **Conv2D** is a 4D tensor.\n",
    " \n",
    "* **MaxPooling2D** is a Max pooling operation for spatial data. Parameters used here are:\n",
    " * *pool_size*, in this case (2,2), representing the factors by which to downscale in both directions;\n",
    " \n",
    " * **Conv2D** with the following parameters:\n",
    " * filters: 64;\n",
    " * kernel_size : (3 x 3);\n",
    " * activation : `relu`;\n",
    " \n",
    "* **MaxPooling2D** with parameter:\n",
    " * *pool_size* : (2,2);\n",
    "\n",
    "* **Conv2D** with the following parameters:\n",
    " * filters: 128;\n",
    " * kernel_size : (3 x 3);\n",
    " * activation : `relu`;\n",
    " \n",
    "* **Flatten**. This layer Flattens the input. Does not affect the batch size. It is used without parameters;\n",
    "\n",
    "* **Dense**. This layer is a regular fully-connected NN layer. It is used without parameters;\n",
    " * units - this is a positive integer, with the meaning: dimensionality of the output space; in this case is: 128;\n",
    " * activation - activation function : `relu`;\n",
    " \n",
    "* **Dense**. This is the final layer (fully connected). It is used with the parameters:\n",
    " * units: the number of classes (in our case 10);\n",
    " * activation : `softmax`; for this final layer it is used `softmax` activation (standard for multiclass classification)\n",
    " \n",
    "\n",
    "Then we compile the model, specifying as well the following parameters:\n",
    "* *loss*;\n",
    "* *optimizer*;\n",
    "* *metrics*. \n"
   ]
  },
  {
   "cell_type": "code",
   "execution_count": 18,
   "metadata": {
    "_uuid": "e31836cd5ec9d86340485404b8f613d1f574aca4",
    "execution": {
     "iopub.execute_input": "2023-02-01T06:47:28.058256Z",
     "iopub.status.busy": "2023-02-01T06:47:28.057848Z",
     "iopub.status.idle": "2023-02-01T06:47:28.717151Z",
     "shell.execute_reply": "2023-02-01T06:47:28.715309Z",
     "shell.execute_reply.started": "2023-02-01T06:47:28.058197Z"
    }
   },
   "outputs": [],
   "source": [
    "# Model\n",
    "model = Sequential()\n",
    "# Add convolution 2D\n",
    "model.add(Conv2D(32, kernel_size=(3, 3),\n",
    "                 activation='relu',\n",
    "                 kernel_initializer='he_normal',\n",
    "                 input_shape=(IMG_ROWS, IMG_COLS, 1)))\n",
    "model.add(MaxPooling2D((2, 2)))\n",
    "model.add(Conv2D(64, \n",
    "                 kernel_size=(3, 3), \n",
    "                 activation='relu'))\n",
    "model.add(MaxPooling2D(pool_size=(2, 2)))\n",
    "model.add(Conv2D(128, (3, 3), activation='relu'))\n",
    "model.add(Flatten())\n",
    "model.add(Dense(128, activation='relu'))\n",
    "model.add(Dense(NUM_CLASSES, activation='softmax'))\n",
    "\n",
    "\n",
    "model.compile(loss=keras.losses.categorical_crossentropy,\n",
    "              optimizer='adam',\n",
    "              metrics=['accuracy'])"
   ]
  },
  {
   "cell_type": "markdown",
   "metadata": {
    "_uuid": "ecb450d70539a62fb310bb7ed44849d2d01481ee"
   },
   "source": [
    "### Inspect the model\n",
    "\n",
    "Let's check the model we initialized."
   ]
  },
  {
   "cell_type": "code",
   "execution_count": 19,
   "metadata": {
    "_uuid": "b4b923b11ceaf4a97677f8e24265e3e97ae1653b",
    "execution": {
     "iopub.execute_input": "2023-02-01T06:47:28.719880Z",
     "iopub.status.busy": "2023-02-01T06:47:28.718831Z",
     "iopub.status.idle": "2023-02-01T06:47:28.730502Z",
     "shell.execute_reply": "2023-02-01T06:47:28.728828Z",
     "shell.execute_reply.started": "2023-02-01T06:47:28.719285Z"
    },
    "scrolled": true
   },
   "outputs": [
    {
     "name": "stdout",
     "output_type": "stream",
     "text": [
      "_________________________________________________________________\n",
      "Layer (type)                 Output Shape              Param #   \n",
      "=================================================================\n",
      "conv2d (Conv2D)              (None, 26, 26, 32)        320       \n",
      "_________________________________________________________________\n",
      "max_pooling2d (MaxPooling2D) (None, 13, 13, 32)        0         \n",
      "_________________________________________________________________\n",
      "conv2d_1 (Conv2D)            (None, 11, 11, 64)        18496     \n",
      "_________________________________________________________________\n",
      "max_pooling2d_1 (MaxPooling2 (None, 5, 5, 64)          0         \n",
      "_________________________________________________________________\n",
      "conv2d_2 (Conv2D)            (None, 3, 3, 128)         73856     \n",
      "_________________________________________________________________\n",
      "flatten (Flatten)            (None, 1152)              0         \n",
      "_________________________________________________________________\n",
      "dense (Dense)                (None, 128)               147584    \n",
      "_________________________________________________________________\n",
      "dense_1 (Dense)              (None, 10)                1290      \n",
      "=================================================================\n",
      "Total params: 241,546\n",
      "Trainable params: 241,546\n",
      "Non-trainable params: 0\n",
      "_________________________________________________________________\n"
     ]
    }
   ],
   "source": [
    "model.summary()"
   ]
  },
  {
   "cell_type": "markdown",
   "metadata": {
    "_uuid": "47062fcbe61fdc131bdc369428415c483167d046"
   },
   "source": [
    "Let's also plot the model"
   ]
  },
  {
   "cell_type": "code",
   "execution_count": 20,
   "metadata": {
    "_uuid": "a9863ccbdc1a3f9d03fc6f3dbbd3f2713995d03e",
    "execution": {
     "iopub.execute_input": "2023-02-01T06:47:28.732193Z",
     "iopub.status.busy": "2023-02-01T06:47:28.731842Z",
     "iopub.status.idle": "2023-02-01T06:47:29.275036Z",
     "shell.execute_reply": "2023-02-01T06:47:29.273425Z",
     "shell.execute_reply.started": "2023-02-01T06:47:28.732091Z"
    }
   },
   "outputs": [
    {
     "data": {
      "image/svg+xml": [
       "<svg height=\"629pt\" viewBox=\"0.00 0.00 215.00 629.00\" width=\"215pt\" xmlns=\"http://www.w3.org/2000/svg\" xmlns:xlink=\"http://www.w3.org/1999/xlink\">\n",
       "<g class=\"graph\" id=\"graph0\" transform=\"scale(1 1) rotate(0) translate(4 625)\">\n",
       "<title>G</title>\n",
       "<polygon fill=\"white\" points=\"-4,4 -4,-625 211,-625 211,4 -4,4\" stroke=\"none\"/>\n",
       "<!-- 140208504552528 -->\n",
       "<g class=\"node\" id=\"node1\"><title>140208504552528</title>\n",
       "<polygon fill=\"none\" points=\"48.5,-511.5 48.5,-547.5 158.5,-547.5 158.5,-511.5 48.5,-511.5\" stroke=\"black\"/>\n",
       "<text font-family=\"Times,serif\" font-size=\"14.00\" text-anchor=\"middle\" x=\"103.5\" y=\"-525.8\">conv2d: Conv2D</text>\n",
       "</g>\n",
       "<!-- 140208504550456 -->\n",
       "<g class=\"node\" id=\"node2\"><title>140208504550456</title>\n",
       "<polygon fill=\"none\" points=\"6.5,-438.5 6.5,-474.5 200.5,-474.5 200.5,-438.5 6.5,-438.5\" stroke=\"black\"/>\n",
       "<text font-family=\"Times,serif\" font-size=\"14.00\" text-anchor=\"middle\" x=\"103.5\" y=\"-452.8\">max_pooling2d: MaxPooling2D</text>\n",
       "</g>\n",
       "<!-- 140208504552528&#45;&gt;140208504550456 -->\n",
       "<g class=\"edge\" id=\"edge2\"><title>140208504552528-&gt;140208504550456</title>\n",
       "<path d=\"M103.5,-511.313C103.5,-503.289 103.5,-493.547 103.5,-484.569\" fill=\"none\" stroke=\"black\"/>\n",
       "<polygon fill=\"black\" points=\"107,-484.529 103.5,-474.529 100,-484.529 107,-484.529\" stroke=\"black\"/>\n",
       "</g>\n",
       "<!-- 140208504552752 -->\n",
       "<g class=\"node\" id=\"node3\"><title>140208504552752</title>\n",
       "<polygon fill=\"none\" points=\"42,-365.5 42,-401.5 165,-401.5 165,-365.5 42,-365.5\" stroke=\"black\"/>\n",
       "<text font-family=\"Times,serif\" font-size=\"14.00\" text-anchor=\"middle\" x=\"103.5\" y=\"-379.8\">conv2d_1: Conv2D</text>\n",
       "</g>\n",
       "<!-- 140208504550456&#45;&gt;140208504552752 -->\n",
       "<g class=\"edge\" id=\"edge3\"><title>140208504550456-&gt;140208504552752</title>\n",
       "<path d=\"M103.5,-438.313C103.5,-430.289 103.5,-420.547 103.5,-411.569\" fill=\"none\" stroke=\"black\"/>\n",
       "<polygon fill=\"black\" points=\"107,-411.529 103.5,-401.529 100,-411.529 107,-411.529\" stroke=\"black\"/>\n",
       "</g>\n",
       "<!-- 140208504282416 -->\n",
       "<g class=\"node\" id=\"node4\"><title>140208504282416</title>\n",
       "<polygon fill=\"none\" points=\"0,-292.5 0,-328.5 207,-328.5 207,-292.5 0,-292.5\" stroke=\"black\"/>\n",
       "<text font-family=\"Times,serif\" font-size=\"14.00\" text-anchor=\"middle\" x=\"103.5\" y=\"-306.8\">max_pooling2d_1: MaxPooling2D</text>\n",
       "</g>\n",
       "<!-- 140208504552752&#45;&gt;140208504282416 -->\n",
       "<g class=\"edge\" id=\"edge4\"><title>140208504552752-&gt;140208504282416</title>\n",
       "<path d=\"M103.5,-365.313C103.5,-357.289 103.5,-347.547 103.5,-338.569\" fill=\"none\" stroke=\"black\"/>\n",
       "<polygon fill=\"black\" points=\"107,-338.529 103.5,-328.529 100,-338.529 107,-338.529\" stroke=\"black\"/>\n",
       "</g>\n",
       "<!-- 140208504116448 -->\n",
       "<g class=\"node\" id=\"node5\"><title>140208504116448</title>\n",
       "<polygon fill=\"none\" points=\"42,-219.5 42,-255.5 165,-255.5 165,-219.5 42,-219.5\" stroke=\"black\"/>\n",
       "<text font-family=\"Times,serif\" font-size=\"14.00\" text-anchor=\"middle\" x=\"103.5\" y=\"-233.8\">conv2d_2: Conv2D</text>\n",
       "</g>\n",
       "<!-- 140208504282416&#45;&gt;140208504116448 -->\n",
       "<g class=\"edge\" id=\"edge5\"><title>140208504282416-&gt;140208504116448</title>\n",
       "<path d=\"M103.5,-292.313C103.5,-284.289 103.5,-274.547 103.5,-265.569\" fill=\"none\" stroke=\"black\"/>\n",
       "<polygon fill=\"black\" points=\"107,-265.529 103.5,-255.529 100,-265.529 107,-265.529\" stroke=\"black\"/>\n",
       "</g>\n",
       "<!-- 140208503952328 -->\n",
       "<g class=\"node\" id=\"node6\"><title>140208503952328</title>\n",
       "<polygon fill=\"none\" points=\"55.5,-146.5 55.5,-182.5 151.5,-182.5 151.5,-146.5 55.5,-146.5\" stroke=\"black\"/>\n",
       "<text font-family=\"Times,serif\" font-size=\"14.00\" text-anchor=\"middle\" x=\"103.5\" y=\"-160.8\">flatten: Flatten</text>\n",
       "</g>\n",
       "<!-- 140208504116448&#45;&gt;140208503952328 -->\n",
       "<g class=\"edge\" id=\"edge6\"><title>140208504116448-&gt;140208503952328</title>\n",
       "<path d=\"M103.5,-219.313C103.5,-211.289 103.5,-201.547 103.5,-192.569\" fill=\"none\" stroke=\"black\"/>\n",
       "<polygon fill=\"black\" points=\"107,-192.529 103.5,-182.529 100,-192.529 107,-192.529\" stroke=\"black\"/>\n",
       "</g>\n",
       "<!-- 140208504036824 -->\n",
       "<g class=\"node\" id=\"node7\"><title>140208504036824</title>\n",
       "<polygon fill=\"none\" points=\"59,-73.5 59,-109.5 148,-109.5 148,-73.5 59,-73.5\" stroke=\"black\"/>\n",
       "<text font-family=\"Times,serif\" font-size=\"14.00\" text-anchor=\"middle\" x=\"103.5\" y=\"-87.8\">dense: Dense</text>\n",
       "</g>\n",
       "<!-- 140208503952328&#45;&gt;140208504036824 -->\n",
       "<g class=\"edge\" id=\"edge7\"><title>140208503952328-&gt;140208504036824</title>\n",
       "<path d=\"M103.5,-146.313C103.5,-138.289 103.5,-128.547 103.5,-119.569\" fill=\"none\" stroke=\"black\"/>\n",
       "<polygon fill=\"black\" points=\"107,-119.529 103.5,-109.529 100,-119.529 107,-119.529\" stroke=\"black\"/>\n",
       "</g>\n",
       "<!-- 140208503664088 -->\n",
       "<g class=\"node\" id=\"node8\"><title>140208503664088</title>\n",
       "<polygon fill=\"none\" points=\"52.5,-0.5 52.5,-36.5 154.5,-36.5 154.5,-0.5 52.5,-0.5\" stroke=\"black\"/>\n",
       "<text font-family=\"Times,serif\" font-size=\"14.00\" text-anchor=\"middle\" x=\"103.5\" y=\"-14.8\">dense_1: Dense</text>\n",
       "</g>\n",
       "<!-- 140208504036824&#45;&gt;140208503664088 -->\n",
       "<g class=\"edge\" id=\"edge8\"><title>140208504036824-&gt;140208503664088</title>\n",
       "<path d=\"M103.5,-73.3129C103.5,-65.2895 103.5,-55.5475 103.5,-46.5691\" fill=\"none\" stroke=\"black\"/>\n",
       "<polygon fill=\"black\" points=\"107,-46.5288 103.5,-36.5288 100,-46.5289 107,-46.5288\" stroke=\"black\"/>\n",
       "</g>\n",
       "<!-- 140208504552976 -->\n",
       "<g class=\"node\" id=\"node9\"><title>140208504552976</title>\n",
       "<polygon fill=\"none\" points=\"44.5,-584.5 44.5,-620.5 162.5,-620.5 162.5,-584.5 44.5,-584.5\" stroke=\"black\"/>\n",
       "<text font-family=\"Times,serif\" font-size=\"14.00\" text-anchor=\"middle\" x=\"103.5\" y=\"-598.8\">140208504552976</text>\n",
       "</g>\n",
       "<!-- 140208504552976&#45;&gt;140208504552528 -->\n",
       "<g class=\"edge\" id=\"edge1\"><title>140208504552976-&gt;140208504552528</title>\n",
       "<path d=\"M103.5,-584.313C103.5,-576.289 103.5,-566.547 103.5,-557.569\" fill=\"none\" stroke=\"black\"/>\n",
       "<polygon fill=\"black\" points=\"107,-557.529 103.5,-547.529 100,-557.529 107,-557.529\" stroke=\"black\"/>\n",
       "</g>\n",
       "</g>\n",
       "</svg>"
      ],
      "text/plain": [
       "<IPython.core.display.SVG object>"
      ]
     },
     "execution_count": 20,
     "metadata": {},
     "output_type": "execute_result"
    }
   ],
   "source": [
    "plot_model(model, to_file='model.png')\n",
    "SVG(model_to_dot(model).create(prog='dot', format='svg'))"
   ]
  },
  {
   "cell_type": "markdown",
   "metadata": {
    "_uuid": "68a2e932241f29e52a3150b3fcf3fe9c21243be2"
   },
   "source": [
    "### Run the model\n",
    "\n",
    "We run the model with the training set. We are also using the validation set (a subset from the orginal training set) for validation."
   ]
  },
  {
   "cell_type": "code",
   "execution_count": 21,
   "metadata": {
    "_uuid": "400494b7e0525069175625422e8c300bd7b41c51",
    "execution": {
     "iopub.execute_input": "2023-02-01T06:47:29.277404Z",
     "iopub.status.busy": "2023-02-01T06:47:29.277000Z",
     "iopub.status.idle": "2023-02-01T07:29:51.673969Z",
     "shell.execute_reply": "2023-02-01T07:29:51.672809Z",
     "shell.execute_reply.started": "2023-02-01T06:47:29.277329Z"
    },
    "scrolled": true
   },
   "outputs": [
    {
     "name": "stdout",
     "output_type": "stream",
     "text": [
      "Train on 48000 samples, validate on 12000 samples\n",
      "Epoch 1/50\n",
      "48000/48000 [==============================] - 45s 936us/step - loss: 0.5325 - acc: 0.8079 - val_loss: 0.3933 - val_acc: 0.8543\n",
      "Epoch 2/50\n",
      "48000/48000 [==============================] - 44s 914us/step - loss: 0.3420 - acc: 0.8761 - val_loss: 0.3547 - val_acc: 0.8698\n",
      "Epoch 3/50\n",
      "48000/48000 [==============================] - 45s 934us/step - loss: 0.2889 - acc: 0.8949 - val_loss: 0.3077 - val_acc: 0.8933\n",
      "Epoch 4/50\n",
      "48000/48000 [==============================] - 44s 924us/step - loss: 0.2574 - acc: 0.9061 - val_loss: 0.2939 - val_acc: 0.8987\n",
      "Epoch 5/50\n",
      "48000/48000 [==============================] - 44s 911us/step - loss: 0.2269 - acc: 0.9166 - val_loss: 0.2893 - val_acc: 0.8927\n",
      "Epoch 6/50\n",
      "48000/48000 [==============================] - 44s 915us/step - loss: 0.2053 - acc: 0.9244 - val_loss: 0.2609 - val_acc: 0.9107\n",
      "Epoch 7/50\n",
      "48000/48000 [==============================] - 43s 905us/step - loss: 0.1837 - acc: 0.9321 - val_loss: 0.2635 - val_acc: 0.9106\n",
      "Epoch 8/50\n",
      "48000/48000 [==============================] - 43s 899us/step - loss: 0.1671 - acc: 0.9378 - val_loss: 0.2681 - val_acc: 0.9135\n",
      "Epoch 9/50\n",
      "48000/48000 [==============================] - 43s 903us/step - loss: 0.1493 - acc: 0.9455 - val_loss: 0.2671 - val_acc: 0.9147\n",
      "Epoch 10/50\n",
      "48000/48000 [==============================] - 43s 893us/step - loss: 0.1352 - acc: 0.9491 - val_loss: 0.2745 - val_acc: 0.9127\n",
      "Epoch 11/50\n",
      "48000/48000 [==============================] - 43s 899us/step - loss: 0.1199 - acc: 0.9553 - val_loss: 0.2844 - val_acc: 0.9095\n",
      "Epoch 12/50\n",
      "48000/48000 [==============================] - 43s 889us/step - loss: 0.1050 - acc: 0.9607 - val_loss: 0.3050 - val_acc: 0.9073\n",
      "Epoch 13/50\n",
      "48000/48000 [==============================] - 43s 886us/step - loss: 0.0946 - acc: 0.9647 - val_loss: 0.2958 - val_acc: 0.9164\n",
      "Epoch 14/50\n",
      "48000/48000 [==============================] - 43s 895us/step - loss: 0.0821 - acc: 0.9693 - val_loss: 0.3018 - val_acc: 0.9153\n",
      "Epoch 15/50\n",
      "48000/48000 [==============================] - 42s 883us/step - loss: 0.0714 - acc: 0.9735 - val_loss: 0.3403 - val_acc: 0.9125\n",
      "Epoch 16/50\n",
      "48000/48000 [==============================] - 42s 879us/step - loss: 0.0623 - acc: 0.9769 - val_loss: 0.3646 - val_acc: 0.9110\n",
      "Epoch 17/50\n",
      "48000/48000 [==============================] - 43s 887us/step - loss: 0.0595 - acc: 0.9785 - val_loss: 0.3705 - val_acc: 0.9100\n",
      "Epoch 18/50\n",
      "48000/48000 [==============================] - 42s 885us/step - loss: 0.0547 - acc: 0.9796 - val_loss: 0.4000 - val_acc: 0.9058\n",
      "Epoch 19/50\n",
      "48000/48000 [==============================] - 42s 882us/step - loss: 0.0441 - acc: 0.9842 - val_loss: 0.4037 - val_acc: 0.9123\n",
      "Epoch 20/50\n",
      "48000/48000 [==============================] - 42s 883us/step - loss: 0.0443 - acc: 0.9842 - val_loss: 0.4313 - val_acc: 0.9123\n",
      "Epoch 21/50\n",
      "48000/48000 [==============================] - 42s 872us/step - loss: 0.0420 - acc: 0.9844 - val_loss: 0.4252 - val_acc: 0.9121\n",
      "Epoch 22/50\n",
      "48000/48000 [==============================] - 42s 868us/step - loss: 0.0328 - acc: 0.9884 - val_loss: 0.4494 - val_acc: 0.9110\n",
      "Epoch 23/50\n",
      "48000/48000 [==============================] - 42s 874us/step - loss: 0.0301 - acc: 0.9893 - val_loss: 0.4849 - val_acc: 0.9134\n",
      "Epoch 24/50\n",
      "48000/48000 [==============================] - 42s 868us/step - loss: 0.0298 - acc: 0.9893 - val_loss: 0.5018 - val_acc: 0.9102\n",
      "Epoch 25/50\n",
      "48000/48000 [==============================] - 42s 878us/step - loss: 0.0361 - acc: 0.9867 - val_loss: 0.4702 - val_acc: 0.9110\n",
      "Epoch 26/50\n",
      "48000/48000 [==============================] - 42s 879us/step - loss: 0.0248 - acc: 0.9912 - val_loss: 0.5147 - val_acc: 0.9118\n",
      "Epoch 27/50\n",
      "48000/48000 [==============================] - 42s 867us/step - loss: 0.0241 - acc: 0.9914 - val_loss: 0.5318 - val_acc: 0.9117\n",
      "Epoch 28/50\n",
      "48000/48000 [==============================] - 42s 868us/step - loss: 0.0235 - acc: 0.9917 - val_loss: 0.5071 - val_acc: 0.9107\n",
      "Epoch 29/50\n",
      "48000/48000 [==============================] - 42s 877us/step - loss: 0.0258 - acc: 0.9906 - val_loss: 0.5178 - val_acc: 0.9108\n",
      "Epoch 30/50\n",
      " 4864/48000 [==>...........................] - ETA: 34s - loss: 0.0238 - acc: 0.9918"
     ]
    }
   ],
   "source": [
    "train_model = model.fit(X_train, y_train,\n",
    "                  batch_size=BATCH_SIZE,\n",
    "                  epochs=NO_EPOCHS,\n",
    "                  verbose=1,\n",
    "                  validation_data=(X_val, y_val))"
   ]
  },
  {
   "cell_type": "markdown",
   "metadata": {
    "_uuid": "8346a686cce7c75ab6d3c1f496aaa25b8a2f96d7"
   },
   "source": []
  },
  {
   "cell_type": "markdown",
   "metadata": {
    "_uuid": "8699df44bc0a95f1a43a201d3dd566746d87173f"
   },
   "source": [
    "## <a id=\"53\">Test prediction accuracy</a>\n",
    "\n",
    "We calculate the test loss and accuracy."
   ]
  },
  {
   "cell_type": "code",
   "execution_count": 22,
   "metadata": {
    "_uuid": "b9e2bb7f25b02d491e34dd0d6d05943e287ae369",
    "execution": {
     "iopub.execute_input": "2023-02-01T07:29:51.676183Z",
     "iopub.status.busy": "2023-02-01T07:29:51.675843Z",
     "iopub.status.idle": "2023-02-01T07:29:55.926952Z",
     "shell.execute_reply": "2023-02-01T07:29:55.926024Z",
     "shell.execute_reply.started": "2023-02-01T07:29:51.676128Z"
    }
   },
   "outputs": [
    {
     "name": "stdout",
     "output_type": "stream",
     "text": [
      "Test loss: 0.6195076499390183\n",
      "Test accuracy: 0.9151\n"
     ]
    }
   ],
   "source": [
    "score = model.evaluate(X_test, y_test, verbose=0)\n",
    "print('Test loss:', score[0])\n",
    "print('Test accuracy:', score[1])"
   ]
  },
  {
   "cell_type": "markdown",
   "metadata": {
    "_uuid": "4d779b0e47b8263370031c292a231b69decad374"
   },
   "source": [
    "Test accuracy is  around  0.91.\n",
    "\n",
    "We evaluated the model accuracy based on the predicted values for the test set.  Let's check the validation value during training.\n",
    "\n"
   ]
  },
  {
   "cell_type": "markdown",
   "metadata": {
    "_uuid": "2b08e362a264d65687c49919f477e5d11c84d658"
   },
   "source": [
    "## <a id=\"53\">Validation accuracy and loss</a>\n",
    "\n",
    "Let's plot the train and validation accuracy and loss, from the train history."
   ]
  },
  {
   "cell_type": "code",
   "execution_count": 23,
   "metadata": {
    "_uuid": "c034e2f70f0a26f453a764cd3dc6bbdebb3c4c53",
    "execution": {
     "iopub.execute_input": "2023-02-01T07:29:55.928314Z",
     "iopub.status.busy": "2023-02-01T07:29:55.928040Z",
     "iopub.status.idle": "2023-02-01T07:29:57.973905Z",
     "shell.execute_reply": "2023-02-01T07:29:57.972603Z",
     "shell.execute_reply.started": "2023-02-01T07:29:55.928258Z"
    }
   },
   "outputs": [
    {
     "name": "stdout",
     "output_type": "stream",
     "text": [
      "This is the format of your plot grid:\n",
      "[ (1,1) x1,y1 ]  [ (1,2) x2,y2 ]\n",
      "\n"
     ]
    },
    {
     "data": {
      "application/vnd.plotly.v1+json": {
       "data": [
        {
         "marker": {
          "color": "Green"
         },
         "mode": "markers+lines",
         "name": "Training accuracy",
         "text": [
          "1",
          "2",
          "3",
          "4",
          "5",
          "6",
          "7",
          "8",
          "9",
          "10",
          "11",
          "12",
          "13",
          "14",
          "15",
          "16",
          "17",
          "18",
          "19",
          "20",
          "21",
          "22",
          "23",
          "24",
          "25",
          "26",
          "27",
          "28",
          "29",
          "30",
          "31",
          "32",
          "33",
          "34",
          "35",
          "36",
          "37",
          "38",
          "39",
          "40",
          "41",
          "42",
          "43",
          "44",
          "45",
          "46",
          "47",
          "48",
          "49",
          "50"
         ],
         "type": "scatter",
         "uid": "9079e8d6-a20e-11ed-951f-f767a4b944e4",
         "x": [
          1,
          2,
          3,
          4,
          5,
          6,
          7,
          8,
          9,
          10,
          11,
          12,
          13,
          14,
          15,
          16,
          17,
          18,
          19,
          20,
          21,
          22,
          23,
          24,
          25,
          26,
          27,
          28,
          29,
          30,
          31,
          32,
          33,
          34,
          35,
          36,
          37,
          38,
          39,
          40,
          41,
          42,
          43,
          44,
          45,
          46,
          47,
          48,
          49,
          50
         ],
         "xaxis": "x",
         "y": [
          0.8079375,
          0.8761041666666667,
          0.8949375,
          0.9061041666666667,
          0.9165833333333333,
          0.9243958333333333,
          0.9321041666666666,
          0.9377916666666667,
          0.9454583333333333,
          0.9490625,
          0.9553125,
          0.9606875,
          0.9646875,
          0.9693125,
          0.9735,
          0.9768541666666667,
          0.9785208333333333,
          0.979625,
          0.9841875,
          0.9842291666666667,
          0.984375,
          0.9883958333333334,
          0.98925,
          0.9892916666666667,
          0.98675,
          0.9912083333333334,
          0.9913958333333334,
          0.9916875,
          0.9905625,
          0.9891041666666667,
          0.9932083333333334,
          0.991625,
          0.9944375,
          0.9925625,
          0.9916458333333333,
          0.9945625,
          0.9950208333333334,
          0.9930833333333333,
          0.9932916666666667,
          0.994125,
          0.9933125,
          0.9936875,
          0.9952291666666667,
          0.9947916666666666,
          0.993375,
          0.9945208333333333,
          0.9954166666666666,
          0.9937083333333333,
          0.9936666666666667,
          0.9963958333333334
         ],
         "yaxis": "y"
        },
        {
         "marker": {
          "color": "Red"
         },
         "mode": "markers+lines",
         "name": "Validation accuracy",
         "text": [
          "1",
          "2",
          "3",
          "4",
          "5",
          "6",
          "7",
          "8",
          "9",
          "10",
          "11",
          "12",
          "13",
          "14",
          "15",
          "16",
          "17",
          "18",
          "19",
          "20",
          "21",
          "22",
          "23",
          "24",
          "25",
          "26",
          "27",
          "28",
          "29",
          "30",
          "31",
          "32",
          "33",
          "34",
          "35",
          "36",
          "37",
          "38",
          "39",
          "40",
          "41",
          "42",
          "43",
          "44",
          "45",
          "46",
          "47",
          "48",
          "49",
          "50"
         ],
         "type": "scatter",
         "uid": "907ad214-a20e-11ed-951f-f767a4b944e4",
         "x": [
          1,
          2,
          3,
          4,
          5,
          6,
          7,
          8,
          9,
          10,
          11,
          12,
          13,
          14,
          15,
          16,
          17,
          18,
          19,
          20,
          21,
          22,
          23,
          24,
          25,
          26,
          27,
          28,
          29,
          30,
          31,
          32,
          33,
          34,
          35,
          36,
          37,
          38,
          39,
          40,
          41,
          42,
          43,
          44,
          45,
          46,
          47,
          48,
          49,
          50
         ],
         "xaxis": "x",
         "y": [
          0.8543333333333333,
          0.8697500001589458,
          0.8933333334922791,
          0.898666666507721,
          0.8927499998410543,
          0.9106666666666666,
          0.9105833331743877,
          0.9134999998410542,
          0.914666666507721,
          0.912666666507721,
          0.9095000001589457,
          0.90725,
          0.9164166668256124,
          0.9153333333333333,
          0.9124999998410542,
          0.911,
          0.9100000001589457,
          0.90575,
          0.9122500001589458,
          0.9123333331743876,
          0.9120833334922791,
          0.9110000001589457,
          0.9134166665077209,
          0.9101666666666667,
          0.9109999998410543,
          0.9117500001589457,
          0.91175,
          0.9107499998410543,
          0.910833333492279,
          0.9104999998410542,
          0.9136666666666666,
          0.9120833333333334,
          0.912583333492279,
          0.9076666668256124,
          0.912666666507721,
          0.9119999998410543,
          0.9099166668256123,
          0.9103333334922791,
          0.9044166665077209,
          0.9093333334922791,
          0.9105,
          0.9133333334922791,
          0.910666666507721,
          0.9089999998410543,
          0.9114166668256124,
          0.905666666507721,
          0.9102499998410543,
          0.9095833333333333,
          0.9104166665077209,
          0.9144166666666667
         ],
         "yaxis": "y"
        },
        {
         "marker": {
          "color": "Blue"
         },
         "mode": "markers+lines",
         "name": "Training loss",
         "text": [
          "1",
          "2",
          "3",
          "4",
          "5",
          "6",
          "7",
          "8",
          "9",
          "10",
          "11",
          "12",
          "13",
          "14",
          "15",
          "16",
          "17",
          "18",
          "19",
          "20",
          "21",
          "22",
          "23",
          "24",
          "25",
          "26",
          "27",
          "28",
          "29",
          "30",
          "31",
          "32",
          "33",
          "34",
          "35",
          "36",
          "37",
          "38",
          "39",
          "40",
          "41",
          "42",
          "43",
          "44",
          "45",
          "46",
          "47",
          "48",
          "49",
          "50"
         ],
         "type": "scatter",
         "uid": "907b9a1e-a20e-11ed-951f-f767a4b944e4",
         "x": [
          1,
          2,
          3,
          4,
          5,
          6,
          7,
          8,
          9,
          10,
          11,
          12,
          13,
          14,
          15,
          16,
          17,
          18,
          19,
          20,
          21,
          22,
          23,
          24,
          25,
          26,
          27,
          28,
          29,
          30,
          31,
          32,
          33,
          34,
          35,
          36,
          37,
          38,
          39,
          40,
          41,
          42,
          43,
          44,
          45,
          46,
          47,
          48,
          49,
          50
         ],
         "xaxis": "x2",
         "y": [
          0.532476966381073,
          0.3419888912439346,
          0.28885127484798434,
          0.2574141782522201,
          0.22685200444857279,
          0.20532848445574442,
          0.18365163765350978,
          0.16714963591098786,
          0.14928260330359142,
          0.13516262447834015,
          0.11988713283340136,
          0.10501142498354117,
          0.09461234615246455,
          0.08205083695550759,
          0.07142880470554033,
          0.06231184564779202,
          0.059472380662957826,
          0.054684061182041964,
          0.04412003580232461,
          0.04428808308703204,
          0.041997508838772776,
          0.03276221967643748,
          0.030078613890955844,
          0.02981426784954965,
          0.03606850907454888,
          0.02477140560808281,
          0.02407058833974103,
          0.02354148251314958,
          0.025804015113040805,
          0.02974440191561977,
          0.019659963358116025,
          0.022653459692606702,
          0.016394929997739383,
          0.02199295431158195,
          0.022927842414161813,
          0.016041324845748023,
          0.013836494902187649,
          0.020005471635687475,
          0.01946336664779422,
          0.016811030735921426,
          0.018982863730207706,
          0.018730322223777573,
          0.014161649268430969,
          0.0150211094240658,
          0.020993498927758387,
          0.0150307053157206,
          0.013489720675919671,
          0.01947192021967688,
          0.01965136443792532,
          0.010363754944254955
         ],
         "yaxis": "y2"
        },
        {
         "marker": {
          "color": "Magenta"
         },
         "mode": "markers+lines",
         "name": "Validation loss",
         "text": [
          "1",
          "2",
          "3",
          "4",
          "5",
          "6",
          "7",
          "8",
          "9",
          "10",
          "11",
          "12",
          "13",
          "14",
          "15",
          "16",
          "17",
          "18",
          "19",
          "20",
          "21",
          "22",
          "23",
          "24",
          "25",
          "26",
          "27",
          "28",
          "29",
          "30",
          "31",
          "32",
          "33",
          "34",
          "35",
          "36",
          "37",
          "38",
          "39",
          "40",
          "41",
          "42",
          "43",
          "44",
          "45",
          "46",
          "47",
          "48",
          "49",
          "50"
         ],
         "type": "scatter",
         "uid": "907c74fc-a20e-11ed-951f-f767a4b944e4",
         "x": [
          1,
          2,
          3,
          4,
          5,
          6,
          7,
          8,
          9,
          10,
          11,
          12,
          13,
          14,
          15,
          16,
          17,
          18,
          19,
          20,
          21,
          22,
          23,
          24,
          25,
          26,
          27,
          28,
          29,
          30,
          31,
          32,
          33,
          34,
          35,
          36,
          37,
          38,
          39,
          40,
          41,
          42,
          43,
          44,
          45,
          46,
          47,
          48,
          49,
          50
         ],
         "xaxis": "x2",
         "y": [
          0.39332501848538715,
          0.35467564543088276,
          0.30768633643786114,
          0.29386477279663087,
          0.2893001992702484,
          0.26088360397020977,
          0.2634722808202108,
          0.2680945674578349,
          0.2671312131881714,
          0.2744954852263133,
          0.2843525831699371,
          0.3050205241839091,
          0.29577977426846824,
          0.3018187336921692,
          0.34032195671399434,
          0.3645945799350738,
          0.3705162513256073,
          0.3999650681813558,
          0.4037070380051931,
          0.4312790067990621,
          0.42517168482144674,
          0.44941443610191345,
          0.48493064411481224,
          0.5018198563257853,
          0.4702183399995168,
          0.5146561681429546,
          0.531800235748291,
          0.5070688646634419,
          0.517813818693161,
          0.5596481540997823,
          0.5467002199490865,
          0.529418050289154,
          0.5612929657300313,
          0.5777147626876831,
          0.5857534923553467,
          0.5660029800732931,
          0.5930035815238953,
          0.5755319386323293,
          0.6417699875036875,
          0.6263216714859009,
          0.6152806393305461,
          0.6017474199930827,
          0.6138021032015483,
          0.61206138976415,
          0.6145696153640747,
          0.6481402513186136,
          0.6389625318845114,
          0.5984190389315287,
          0.6383288838068644,
          0.63420867617925
         ],
         "yaxis": "y2"
        }
       ],
       "layout": {
        "annotations": [
         {
          "font": {
           "size": 16
          },
          "showarrow": false,
          "text": "Training and validation accuracy",
          "x": 0.225,
          "xanchor": "center",
          "xref": "paper",
          "y": 1.0,
          "yanchor": "bottom",
          "yref": "paper"
         },
         {
          "font": {
           "size": 16
          },
          "showarrow": false,
          "text": "Training and validation loss",
          "x": 0.775,
          "xanchor": "center",
          "xref": "paper",
          "y": 1.0,
          "yanchor": "bottom",
          "yref": "paper"
         }
        ],
        "xaxis": {
         "anchor": "y",
         "domain": [
          0.0,
          0.45
         ],
         "title": "Epoch"
        },
        "xaxis2": {
         "anchor": "y2",
         "domain": [
          0.55,
          1.0
         ],
         "title": "Epoch"
        },
        "yaxis": {
         "anchor": "x",
         "domain": [
          0.0,
          1.0
         ],
         "range": [
          0,
          1
         ],
         "title": "Accuracy"
        },
        "yaxis2": {
         "anchor": "x2",
         "domain": [
          0.0,
          1.0
         ],
         "range": [
          0,
          1
         ],
         "title": "Loss"
        }
       }
      },
      "text/html": [
       "<div id=\"3988eebe-9c8f-414a-96a7-48617e5d4830\" style=\"height: 525px; width: 100%;\" class=\"plotly-graph-div\"></div><script type=\"text/javascript\">require([\"plotly\"], function(Plotly) { window.PLOTLYENV=window.PLOTLYENV || {};window.PLOTLYENV.BASE_URL=\"https://plot.ly\";Plotly.newPlot(\"3988eebe-9c8f-414a-96a7-48617e5d4830\", [{\"marker\": {\"color\": \"Green\"}, \"mode\": \"markers+lines\", \"name\": \"Training accuracy\", \"text\": [\"1\", \"2\", \"3\", \"4\", \"5\", \"6\", \"7\", \"8\", \"9\", \"10\", \"11\", \"12\", \"13\", \"14\", \"15\", \"16\", \"17\", \"18\", \"19\", \"20\", \"21\", \"22\", \"23\", \"24\", \"25\", \"26\", \"27\", \"28\", \"29\", \"30\", \"31\", \"32\", \"33\", \"34\", \"35\", \"36\", \"37\", \"38\", \"39\", \"40\", \"41\", \"42\", \"43\", \"44\", \"45\", \"46\", \"47\", \"48\", \"49\", \"50\"], \"x\": [1, 2, 3, 4, 5, 6, 7, 8, 9, 10, 11, 12, 13, 14, 15, 16, 17, 18, 19, 20, 21, 22, 23, 24, 25, 26, 27, 28, 29, 30, 31, 32, 33, 34, 35, 36, 37, 38, 39, 40, 41, 42, 43, 44, 45, 46, 47, 48, 49, 50], \"y\": [0.8079375, 0.8761041666666667, 0.8949375, 0.9061041666666667, 0.9165833333333333, 0.9243958333333333, 0.9321041666666666, 0.9377916666666667, 0.9454583333333333, 0.9490625, 0.9553125, 0.9606875, 0.9646875, 0.9693125, 0.9735, 0.9768541666666667, 0.9785208333333333, 0.979625, 0.9841875, 0.9842291666666667, 0.984375, 0.9883958333333334, 0.98925, 0.9892916666666667, 0.98675, 0.9912083333333334, 0.9913958333333334, 0.9916875, 0.9905625, 0.9891041666666667, 0.9932083333333334, 0.991625, 0.9944375, 0.9925625, 0.9916458333333333, 0.9945625, 0.9950208333333334, 0.9930833333333333, 0.9932916666666667, 0.994125, 0.9933125, 0.9936875, 0.9952291666666667, 0.9947916666666666, 0.993375, 0.9945208333333333, 0.9954166666666666, 0.9937083333333333, 0.9936666666666667, 0.9963958333333334], \"type\": \"scatter\", \"uid\": \"9079e8d6-a20e-11ed-951f-f767a4b944e4\", \"xaxis\": \"x\", \"yaxis\": \"y\"}, {\"marker\": {\"color\": \"Red\"}, \"mode\": \"markers+lines\", \"name\": \"Validation accuracy\", \"text\": [\"1\", \"2\", \"3\", \"4\", \"5\", \"6\", \"7\", \"8\", \"9\", \"10\", \"11\", \"12\", \"13\", \"14\", \"15\", \"16\", \"17\", \"18\", \"19\", \"20\", \"21\", \"22\", \"23\", \"24\", \"25\", \"26\", \"27\", \"28\", \"29\", \"30\", \"31\", \"32\", \"33\", \"34\", \"35\", \"36\", \"37\", \"38\", \"39\", \"40\", \"41\", \"42\", \"43\", \"44\", \"45\", \"46\", \"47\", \"48\", \"49\", \"50\"], \"x\": [1, 2, 3, 4, 5, 6, 7, 8, 9, 10, 11, 12, 13, 14, 15, 16, 17, 18, 19, 20, 21, 22, 23, 24, 25, 26, 27, 28, 29, 30, 31, 32, 33, 34, 35, 36, 37, 38, 39, 40, 41, 42, 43, 44, 45, 46, 47, 48, 49, 50], \"y\": [0.8543333333333333, 0.8697500001589458, 0.8933333334922791, 0.898666666507721, 0.8927499998410543, 0.9106666666666666, 0.9105833331743877, 0.9134999998410542, 0.914666666507721, 0.912666666507721, 0.9095000001589457, 0.90725, 0.9164166668256124, 0.9153333333333333, 0.9124999998410542, 0.911, 0.9100000001589457, 0.90575, 0.9122500001589458, 0.9123333331743876, 0.9120833334922791, 0.9110000001589457, 0.9134166665077209, 0.9101666666666667, 0.9109999998410543, 0.9117500001589457, 0.91175, 0.9107499998410543, 0.910833333492279, 0.9104999998410542, 0.9136666666666666, 0.9120833333333334, 0.912583333492279, 0.9076666668256124, 0.912666666507721, 0.9119999998410543, 0.9099166668256123, 0.9103333334922791, 0.9044166665077209, 0.9093333334922791, 0.9105, 0.9133333334922791, 0.910666666507721, 0.9089999998410543, 0.9114166668256124, 0.905666666507721, 0.9102499998410543, 0.9095833333333333, 0.9104166665077209, 0.9144166666666667], \"type\": \"scatter\", \"uid\": \"907ad214-a20e-11ed-951f-f767a4b944e4\", \"xaxis\": \"x\", \"yaxis\": \"y\"}, {\"marker\": {\"color\": \"Blue\"}, \"mode\": \"markers+lines\", \"name\": \"Training loss\", \"text\": [\"1\", \"2\", \"3\", \"4\", \"5\", \"6\", \"7\", \"8\", \"9\", \"10\", \"11\", \"12\", \"13\", \"14\", \"15\", \"16\", \"17\", \"18\", \"19\", \"20\", \"21\", \"22\", \"23\", \"24\", \"25\", \"26\", \"27\", \"28\", \"29\", \"30\", \"31\", \"32\", \"33\", \"34\", \"35\", \"36\", \"37\", \"38\", \"39\", \"40\", \"41\", \"42\", \"43\", \"44\", \"45\", \"46\", \"47\", \"48\", \"49\", \"50\"], \"x\": [1, 2, 3, 4, 5, 6, 7, 8, 9, 10, 11, 12, 13, 14, 15, 16, 17, 18, 19, 20, 21, 22, 23, 24, 25, 26, 27, 28, 29, 30, 31, 32, 33, 34, 35, 36, 37, 38, 39, 40, 41, 42, 43, 44, 45, 46, 47, 48, 49, 50], \"y\": [0.532476966381073, 0.3419888912439346, 0.28885127484798434, 0.2574141782522201, 0.22685200444857279, 0.20532848445574442, 0.18365163765350978, 0.16714963591098786, 0.14928260330359142, 0.13516262447834015, 0.11988713283340136, 0.10501142498354117, 0.09461234615246455, 0.08205083695550759, 0.07142880470554033, 0.06231184564779202, 0.059472380662957826, 0.054684061182041964, 0.04412003580232461, 0.04428808308703204, 0.041997508838772776, 0.03276221967643748, 0.030078613890955844, 0.02981426784954965, 0.03606850907454888, 0.02477140560808281, 0.02407058833974103, 0.02354148251314958, 0.025804015113040805, 0.02974440191561977, 0.019659963358116025, 0.022653459692606702, 0.016394929997739383, 0.02199295431158195, 0.022927842414161813, 0.016041324845748023, 0.013836494902187649, 0.020005471635687475, 0.01946336664779422, 0.016811030735921426, 0.018982863730207706, 0.018730322223777573, 0.014161649268430969, 0.0150211094240658, 0.020993498927758387, 0.0150307053157206, 0.013489720675919671, 0.01947192021967688, 0.01965136443792532, 0.010363754944254955], \"type\": \"scatter\", \"uid\": \"907b9a1e-a20e-11ed-951f-f767a4b944e4\", \"xaxis\": \"x2\", \"yaxis\": \"y2\"}, {\"marker\": {\"color\": \"Magenta\"}, \"mode\": \"markers+lines\", \"name\": \"Validation loss\", \"text\": [\"1\", \"2\", \"3\", \"4\", \"5\", \"6\", \"7\", \"8\", \"9\", \"10\", \"11\", \"12\", \"13\", \"14\", \"15\", \"16\", \"17\", \"18\", \"19\", \"20\", \"21\", \"22\", \"23\", \"24\", \"25\", \"26\", \"27\", \"28\", \"29\", \"30\", \"31\", \"32\", \"33\", \"34\", \"35\", \"36\", \"37\", \"38\", \"39\", \"40\", \"41\", \"42\", \"43\", \"44\", \"45\", \"46\", \"47\", \"48\", \"49\", \"50\"], \"x\": [1, 2, 3, 4, 5, 6, 7, 8, 9, 10, 11, 12, 13, 14, 15, 16, 17, 18, 19, 20, 21, 22, 23, 24, 25, 26, 27, 28, 29, 30, 31, 32, 33, 34, 35, 36, 37, 38, 39, 40, 41, 42, 43, 44, 45, 46, 47, 48, 49, 50], \"y\": [0.39332501848538715, 0.35467564543088276, 0.30768633643786114, 0.29386477279663087, 0.2893001992702484, 0.26088360397020977, 0.2634722808202108, 0.2680945674578349, 0.2671312131881714, 0.2744954852263133, 0.2843525831699371, 0.3050205241839091, 0.29577977426846824, 0.3018187336921692, 0.34032195671399434, 0.3645945799350738, 0.3705162513256073, 0.3999650681813558, 0.4037070380051931, 0.4312790067990621, 0.42517168482144674, 0.44941443610191345, 0.48493064411481224, 0.5018198563257853, 0.4702183399995168, 0.5146561681429546, 0.531800235748291, 0.5070688646634419, 0.517813818693161, 0.5596481540997823, 0.5467002199490865, 0.529418050289154, 0.5612929657300313, 0.5777147626876831, 0.5857534923553467, 0.5660029800732931, 0.5930035815238953, 0.5755319386323293, 0.6417699875036875, 0.6263216714859009, 0.6152806393305461, 0.6017474199930827, 0.6138021032015483, 0.61206138976415, 0.6145696153640747, 0.6481402513186136, 0.6389625318845114, 0.5984190389315287, 0.6383288838068644, 0.63420867617925], \"type\": \"scatter\", \"uid\": \"907c74fc-a20e-11ed-951f-f767a4b944e4\", \"xaxis\": \"x2\", \"yaxis\": \"y2\"}], {\"annotations\": [{\"font\": {\"size\": 16}, \"showarrow\": false, \"text\": \"Training and validation accuracy\", \"x\": 0.225, \"xanchor\": \"center\", \"xref\": \"paper\", \"y\": 1.0, \"yanchor\": \"bottom\", \"yref\": \"paper\"}, {\"font\": {\"size\": 16}, \"showarrow\": false, \"text\": \"Training and validation loss\", \"x\": 0.775, \"xanchor\": \"center\", \"xref\": \"paper\", \"y\": 1.0, \"yanchor\": \"bottom\", \"yref\": \"paper\"}], \"xaxis\": {\"anchor\": \"y\", \"domain\": [0.0, 0.45], \"title\": \"Epoch\"}, \"yaxis\": {\"anchor\": \"x\", \"domain\": [0.0, 1.0], \"title\": \"Accuracy\", \"range\": [0, 1]}, \"xaxis2\": {\"anchor\": \"y2\", \"domain\": [0.55, 1.0], \"title\": \"Epoch\"}, \"yaxis2\": {\"anchor\": \"x2\", \"domain\": [0.0, 1.0], \"title\": \"Loss\", \"range\": [0, 1]}}, {\"showLink\": true, \"linkText\": \"Export to plot.ly\"})});</script>"
      ],
      "text/vnd.plotly.v1+html": [
       "<div id=\"3988eebe-9c8f-414a-96a7-48617e5d4830\" style=\"height: 525px; width: 100%;\" class=\"plotly-graph-div\"></div><script type=\"text/javascript\">require([\"plotly\"], function(Plotly) { window.PLOTLYENV=window.PLOTLYENV || {};window.PLOTLYENV.BASE_URL=\"https://plot.ly\";Plotly.newPlot(\"3988eebe-9c8f-414a-96a7-48617e5d4830\", [{\"marker\": {\"color\": \"Green\"}, \"mode\": \"markers+lines\", \"name\": \"Training accuracy\", \"text\": [\"1\", \"2\", \"3\", \"4\", \"5\", \"6\", \"7\", \"8\", \"9\", \"10\", \"11\", \"12\", \"13\", \"14\", \"15\", \"16\", \"17\", \"18\", \"19\", \"20\", \"21\", \"22\", \"23\", \"24\", \"25\", \"26\", \"27\", \"28\", \"29\", \"30\", \"31\", \"32\", \"33\", \"34\", \"35\", \"36\", \"37\", \"38\", \"39\", \"40\", \"41\", \"42\", \"43\", \"44\", \"45\", \"46\", \"47\", \"48\", \"49\", \"50\"], \"x\": [1, 2, 3, 4, 5, 6, 7, 8, 9, 10, 11, 12, 13, 14, 15, 16, 17, 18, 19, 20, 21, 22, 23, 24, 25, 26, 27, 28, 29, 30, 31, 32, 33, 34, 35, 36, 37, 38, 39, 40, 41, 42, 43, 44, 45, 46, 47, 48, 49, 50], \"y\": [0.8079375, 0.8761041666666667, 0.8949375, 0.9061041666666667, 0.9165833333333333, 0.9243958333333333, 0.9321041666666666, 0.9377916666666667, 0.9454583333333333, 0.9490625, 0.9553125, 0.9606875, 0.9646875, 0.9693125, 0.9735, 0.9768541666666667, 0.9785208333333333, 0.979625, 0.9841875, 0.9842291666666667, 0.984375, 0.9883958333333334, 0.98925, 0.9892916666666667, 0.98675, 0.9912083333333334, 0.9913958333333334, 0.9916875, 0.9905625, 0.9891041666666667, 0.9932083333333334, 0.991625, 0.9944375, 0.9925625, 0.9916458333333333, 0.9945625, 0.9950208333333334, 0.9930833333333333, 0.9932916666666667, 0.994125, 0.9933125, 0.9936875, 0.9952291666666667, 0.9947916666666666, 0.993375, 0.9945208333333333, 0.9954166666666666, 0.9937083333333333, 0.9936666666666667, 0.9963958333333334], \"type\": \"scatter\", \"uid\": \"9079e8d6-a20e-11ed-951f-f767a4b944e4\", \"xaxis\": \"x\", \"yaxis\": \"y\"}, {\"marker\": {\"color\": \"Red\"}, \"mode\": \"markers+lines\", \"name\": \"Validation accuracy\", \"text\": [\"1\", \"2\", \"3\", \"4\", \"5\", \"6\", \"7\", \"8\", \"9\", \"10\", \"11\", \"12\", \"13\", \"14\", \"15\", \"16\", \"17\", \"18\", \"19\", \"20\", \"21\", \"22\", \"23\", \"24\", \"25\", \"26\", \"27\", \"28\", \"29\", \"30\", \"31\", \"32\", \"33\", \"34\", \"35\", \"36\", \"37\", \"38\", \"39\", \"40\", \"41\", \"42\", \"43\", \"44\", \"45\", \"46\", \"47\", \"48\", \"49\", \"50\"], \"x\": [1, 2, 3, 4, 5, 6, 7, 8, 9, 10, 11, 12, 13, 14, 15, 16, 17, 18, 19, 20, 21, 22, 23, 24, 25, 26, 27, 28, 29, 30, 31, 32, 33, 34, 35, 36, 37, 38, 39, 40, 41, 42, 43, 44, 45, 46, 47, 48, 49, 50], \"y\": [0.8543333333333333, 0.8697500001589458, 0.8933333334922791, 0.898666666507721, 0.8927499998410543, 0.9106666666666666, 0.9105833331743877, 0.9134999998410542, 0.914666666507721, 0.912666666507721, 0.9095000001589457, 0.90725, 0.9164166668256124, 0.9153333333333333, 0.9124999998410542, 0.911, 0.9100000001589457, 0.90575, 0.9122500001589458, 0.9123333331743876, 0.9120833334922791, 0.9110000001589457, 0.9134166665077209, 0.9101666666666667, 0.9109999998410543, 0.9117500001589457, 0.91175, 0.9107499998410543, 0.910833333492279, 0.9104999998410542, 0.9136666666666666, 0.9120833333333334, 0.912583333492279, 0.9076666668256124, 0.912666666507721, 0.9119999998410543, 0.9099166668256123, 0.9103333334922791, 0.9044166665077209, 0.9093333334922791, 0.9105, 0.9133333334922791, 0.910666666507721, 0.9089999998410543, 0.9114166668256124, 0.905666666507721, 0.9102499998410543, 0.9095833333333333, 0.9104166665077209, 0.9144166666666667], \"type\": \"scatter\", \"uid\": \"907ad214-a20e-11ed-951f-f767a4b944e4\", \"xaxis\": \"x\", \"yaxis\": \"y\"}, {\"marker\": {\"color\": \"Blue\"}, \"mode\": \"markers+lines\", \"name\": \"Training loss\", \"text\": [\"1\", \"2\", \"3\", \"4\", \"5\", \"6\", \"7\", \"8\", \"9\", \"10\", \"11\", \"12\", \"13\", \"14\", \"15\", \"16\", \"17\", \"18\", \"19\", \"20\", \"21\", \"22\", \"23\", \"24\", \"25\", \"26\", \"27\", \"28\", \"29\", \"30\", \"31\", \"32\", \"33\", \"34\", \"35\", \"36\", \"37\", \"38\", \"39\", \"40\", \"41\", \"42\", \"43\", \"44\", \"45\", \"46\", \"47\", \"48\", \"49\", \"50\"], \"x\": [1, 2, 3, 4, 5, 6, 7, 8, 9, 10, 11, 12, 13, 14, 15, 16, 17, 18, 19, 20, 21, 22, 23, 24, 25, 26, 27, 28, 29, 30, 31, 32, 33, 34, 35, 36, 37, 38, 39, 40, 41, 42, 43, 44, 45, 46, 47, 48, 49, 50], \"y\": [0.532476966381073, 0.3419888912439346, 0.28885127484798434, 0.2574141782522201, 0.22685200444857279, 0.20532848445574442, 0.18365163765350978, 0.16714963591098786, 0.14928260330359142, 0.13516262447834015, 0.11988713283340136, 0.10501142498354117, 0.09461234615246455, 0.08205083695550759, 0.07142880470554033, 0.06231184564779202, 0.059472380662957826, 0.054684061182041964, 0.04412003580232461, 0.04428808308703204, 0.041997508838772776, 0.03276221967643748, 0.030078613890955844, 0.02981426784954965, 0.03606850907454888, 0.02477140560808281, 0.02407058833974103, 0.02354148251314958, 0.025804015113040805, 0.02974440191561977, 0.019659963358116025, 0.022653459692606702, 0.016394929997739383, 0.02199295431158195, 0.022927842414161813, 0.016041324845748023, 0.013836494902187649, 0.020005471635687475, 0.01946336664779422, 0.016811030735921426, 0.018982863730207706, 0.018730322223777573, 0.014161649268430969, 0.0150211094240658, 0.020993498927758387, 0.0150307053157206, 0.013489720675919671, 0.01947192021967688, 0.01965136443792532, 0.010363754944254955], \"type\": \"scatter\", \"uid\": \"907b9a1e-a20e-11ed-951f-f767a4b944e4\", \"xaxis\": \"x2\", \"yaxis\": \"y2\"}, {\"marker\": {\"color\": \"Magenta\"}, \"mode\": \"markers+lines\", \"name\": \"Validation loss\", \"text\": [\"1\", \"2\", \"3\", \"4\", \"5\", \"6\", \"7\", \"8\", \"9\", \"10\", \"11\", \"12\", \"13\", \"14\", \"15\", \"16\", \"17\", \"18\", \"19\", \"20\", \"21\", \"22\", \"23\", \"24\", \"25\", \"26\", \"27\", \"28\", \"29\", \"30\", \"31\", \"32\", \"33\", \"34\", \"35\", \"36\", \"37\", \"38\", \"39\", \"40\", \"41\", \"42\", \"43\", \"44\", \"45\", \"46\", \"47\", \"48\", \"49\", \"50\"], \"x\": [1, 2, 3, 4, 5, 6, 7, 8, 9, 10, 11, 12, 13, 14, 15, 16, 17, 18, 19, 20, 21, 22, 23, 24, 25, 26, 27, 28, 29, 30, 31, 32, 33, 34, 35, 36, 37, 38, 39, 40, 41, 42, 43, 44, 45, 46, 47, 48, 49, 50], \"y\": [0.39332501848538715, 0.35467564543088276, 0.30768633643786114, 0.29386477279663087, 0.2893001992702484, 0.26088360397020977, 0.2634722808202108, 0.2680945674578349, 0.2671312131881714, 0.2744954852263133, 0.2843525831699371, 0.3050205241839091, 0.29577977426846824, 0.3018187336921692, 0.34032195671399434, 0.3645945799350738, 0.3705162513256073, 0.3999650681813558, 0.4037070380051931, 0.4312790067990621, 0.42517168482144674, 0.44941443610191345, 0.48493064411481224, 0.5018198563257853, 0.4702183399995168, 0.5146561681429546, 0.531800235748291, 0.5070688646634419, 0.517813818693161, 0.5596481540997823, 0.5467002199490865, 0.529418050289154, 0.5612929657300313, 0.5777147626876831, 0.5857534923553467, 0.5660029800732931, 0.5930035815238953, 0.5755319386323293, 0.6417699875036875, 0.6263216714859009, 0.6152806393305461, 0.6017474199930827, 0.6138021032015483, 0.61206138976415, 0.6145696153640747, 0.6481402513186136, 0.6389625318845114, 0.5984190389315287, 0.6383288838068644, 0.63420867617925], \"type\": \"scatter\", \"uid\": \"907c74fc-a20e-11ed-951f-f767a4b944e4\", \"xaxis\": \"x2\", \"yaxis\": \"y2\"}], {\"annotations\": [{\"font\": {\"size\": 16}, \"showarrow\": false, \"text\": \"Training and validation accuracy\", \"x\": 0.225, \"xanchor\": \"center\", \"xref\": \"paper\", \"y\": 1.0, \"yanchor\": \"bottom\", \"yref\": \"paper\"}, {\"font\": {\"size\": 16}, \"showarrow\": false, \"text\": \"Training and validation loss\", \"x\": 0.775, \"xanchor\": \"center\", \"xref\": \"paper\", \"y\": 1.0, \"yanchor\": \"bottom\", \"yref\": \"paper\"}], \"xaxis\": {\"anchor\": \"y\", \"domain\": [0.0, 0.45], \"title\": \"Epoch\"}, \"yaxis\": {\"anchor\": \"x\", \"domain\": [0.0, 1.0], \"title\": \"Accuracy\", \"range\": [0, 1]}, \"xaxis2\": {\"anchor\": \"y2\", \"domain\": [0.55, 1.0], \"title\": \"Epoch\"}, \"yaxis2\": {\"anchor\": \"x2\", \"domain\": [0.0, 1.0], \"title\": \"Loss\", \"range\": [0, 1]}}, {\"showLink\": true, \"linkText\": \"Export to plot.ly\"})});</script>"
      ]
     },
     "metadata": {},
     "output_type": "display_data"
    }
   ],
   "source": [
    "def create_trace(x,y,ylabel,color):\n",
    "        trace = go.Scatter(\n",
    "            x = x,y = y,\n",
    "            name=ylabel,\n",
    "            marker=dict(color=color),\n",
    "            mode = \"markers+lines\",\n",
    "            text=x\n",
    "        )\n",
    "        return trace\n",
    "    \n",
    "def plot_accuracy_and_loss(train_model):\n",
    "    hist = train_model.history\n",
    "    acc = hist['acc']\n",
    "    val_acc = hist['val_acc']\n",
    "    loss = hist['loss']\n",
    "    val_loss = hist['val_loss']\n",
    "    epochs = list(range(1,len(acc)+1))\n",
    "    \n",
    "    trace_ta = create_trace(epochs,acc,\"Training accuracy\", \"Green\")\n",
    "    trace_va = create_trace(epochs,val_acc,\"Validation accuracy\", \"Red\")\n",
    "    trace_tl = create_trace(epochs,loss,\"Training loss\", \"Blue\")\n",
    "    trace_vl = create_trace(epochs,val_loss,\"Validation loss\", \"Magenta\")\n",
    "   \n",
    "    fig = tools.make_subplots(rows=1,cols=2, subplot_titles=('Training and validation accuracy',\n",
    "                                                             'Training and validation loss'))\n",
    "    fig.append_trace(trace_ta,1,1)\n",
    "    fig.append_trace(trace_va,1,1)\n",
    "    fig.append_trace(trace_tl,1,2)\n",
    "    fig.append_trace(trace_vl,1,2)\n",
    "    fig['layout']['xaxis'].update(title = 'Epoch')\n",
    "    fig['layout']['xaxis2'].update(title = 'Epoch')\n",
    "    fig['layout']['yaxis'].update(title = 'Accuracy', range=[0,1])\n",
    "    fig['layout']['yaxis2'].update(title = 'Loss', range=[0,1])\n",
    "\n",
    "    \n",
    "    iplot(fig, filename='accuracy-loss')\n",
    "\n",
    "plot_accuracy_and_loss(train_model)"
   ]
  },
  {
   "cell_type": "markdown",
   "metadata": {
    "_uuid": "678f32a0980699b8aa41a3f98840bcc1eabb2aa8"
   },
   "source": [
    "The validation accuracy does not improve after few epochs and the validation loss is increasing after few epochs. This confirms our assumption that the model is overfitted. We will try to improve the model by adding Dropout layers."
   ]
  },
  {
   "cell_type": "markdown",
   "metadata": {
    "_uuid": "5c026022d95d3afefc3e2cf47050c3db5f800ee1"
   },
   "source": [
    "## <a id=\"55\">Add Dropout layers to the model</a>\n",
    "\n",
    "We add several Dropout layers to the model, to help avoiding overfitting.    \n",
    "Dropout is helping avoid overfitting in several ways, as explained in <a href='#8'>[6]</a> and <a href='#8'>[7]</a>.  \n"
   ]
  },
  {
   "cell_type": "code",
   "execution_count": 24,
   "metadata": {
    "_uuid": "6aff87cd33a993a60d701c35026ce8ea19d8665a",
    "execution": {
     "iopub.execute_input": "2023-02-01T07:29:57.975961Z",
     "iopub.status.busy": "2023-02-01T07:29:57.975572Z",
     "iopub.status.idle": "2023-02-01T07:29:58.310204Z",
     "shell.execute_reply": "2023-02-01T07:29:58.308729Z",
     "shell.execute_reply.started": "2023-02-01T07:29:57.975902Z"
    }
   },
   "outputs": [],
   "source": [
    "# Model\n",
    "model = Sequential()\n",
    "# Add convolution 2D\n",
    "model.add(Conv2D(32, kernel_size=(3, 3),\n",
    "                 activation='relu',\n",
    "                 kernel_initializer='he_normal',\n",
    "                 input_shape=(IMG_ROWS, IMG_COLS, 1)))\n",
    "model.add(MaxPooling2D((2, 2)))\n",
    "# Add dropouts to the model\n",
    "model.add(Dropout(0.25))\n",
    "model.add(Conv2D(64, \n",
    "                 kernel_size=(3, 3), \n",
    "                 activation='relu'))\n",
    "model.add(MaxPooling2D(pool_size=(2, 2)))\n",
    "# Add dropouts to the model\n",
    "model.add(Dropout(0.25))\n",
    "model.add(Conv2D(128, (3, 3), activation='relu'))\n",
    "# Add dropouts to the model\n",
    "model.add(Dropout(0.4))\n",
    "model.add(Flatten())\n",
    "model.add(Dense(128, activation='relu'))\n",
    "# Add dropouts to the model\n",
    "model.add(Dropout(0.3))\n",
    "model.add(Dense(NUM_CLASSES, activation='softmax'))\n",
    "\n",
    "\n",
    "model.compile(loss=keras.losses.categorical_crossentropy,\n",
    "              optimizer='adam',\n",
    "              metrics=['accuracy'])"
   ]
  },
  {
   "cell_type": "markdown",
   "metadata": {
    "_uuid": "46811947e60224235b1ffaed48e7367b3ba68833"
   },
   "source": [
    "## <a id=\"56\">Re-train the model</a>\n",
    "\n",
    "Let's inspect first the model."
   ]
  },
  {
   "cell_type": "code",
   "execution_count": 25,
   "metadata": {
    "_uuid": "594c8f00280db3fd6d4719791326d73c4769117d",
    "execution": {
     "iopub.execute_input": "2023-02-01T07:29:58.312325Z",
     "iopub.status.busy": "2023-02-01T07:29:58.311786Z",
     "iopub.status.idle": "2023-02-01T07:29:58.321678Z",
     "shell.execute_reply": "2023-02-01T07:29:58.320450Z",
     "shell.execute_reply.started": "2023-02-01T07:29:58.312237Z"
    }
   },
   "outputs": [
    {
     "name": "stdout",
     "output_type": "stream",
     "text": [
      "_________________________________________________________________\n",
      "Layer (type)                 Output Shape              Param #   \n",
      "=================================================================\n",
      "conv2d_3 (Conv2D)            (None, 26, 26, 32)        320       \n",
      "_________________________________________________________________\n",
      "max_pooling2d_2 (MaxPooling2 (None, 13, 13, 32)        0         \n",
      "_________________________________________________________________\n",
      "dropout (Dropout)            (None, 13, 13, 32)        0         \n",
      "_________________________________________________________________\n",
      "conv2d_4 (Conv2D)            (None, 11, 11, 64)        18496     \n",
      "_________________________________________________________________\n",
      "max_pooling2d_3 (MaxPooling2 (None, 5, 5, 64)          0         \n",
      "_________________________________________________________________\n",
      "dropout_1 (Dropout)          (None, 5, 5, 64)          0         \n",
      "_________________________________________________________________\n",
      "conv2d_5 (Conv2D)            (None, 3, 3, 128)         73856     \n",
      "_________________________________________________________________\n",
      "dropout_2 (Dropout)          (None, 3, 3, 128)         0         \n",
      "_________________________________________________________________\n",
      "flatten_1 (Flatten)          (None, 1152)              0         \n",
      "_________________________________________________________________\n",
      "dense_2 (Dense)              (None, 128)               147584    \n",
      "_________________________________________________________________\n",
      "dropout_3 (Dropout)          (None, 128)               0         \n",
      "_________________________________________________________________\n",
      "dense_3 (Dense)              (None, 10)                1290      \n",
      "=================================================================\n",
      "Total params: 241,546\n",
      "Trainable params: 241,546\n",
      "Non-trainable params: 0\n",
      "_________________________________________________________________\n"
     ]
    }
   ],
   "source": [
    "model.summary()"
   ]
  },
  {
   "cell_type": "markdown",
   "metadata": {
    "_uuid": "ab0eb83773ab435204faef8c88b609a29feb635e"
   },
   "source": [
    "Let's also plot the model."
   ]
  },
  {
   "cell_type": "code",
   "execution_count": 26,
   "metadata": {
    "_uuid": "6abc11f358fb81d2655f80bea7762546b18dee82",
    "execution": {
     "iopub.execute_input": "2023-02-01T07:29:58.323175Z",
     "iopub.status.busy": "2023-02-01T07:29:58.322717Z",
     "iopub.status.idle": "2023-02-01T07:29:58.746639Z",
     "shell.execute_reply": "2023-02-01T07:29:58.745294Z",
     "shell.execute_reply.started": "2023-02-01T07:29:58.322971Z"
    }
   },
   "outputs": [
    {
     "data": {
      "image/svg+xml": [
       "<svg height=\"921pt\" viewBox=\"0.00 0.00 215.00 921.00\" width=\"215pt\" xmlns=\"http://www.w3.org/2000/svg\" xmlns:xlink=\"http://www.w3.org/1999/xlink\">\n",
       "<g class=\"graph\" id=\"graph0\" transform=\"scale(1 1) rotate(0) translate(4 917)\">\n",
       "<title>G</title>\n",
       "<polygon fill=\"white\" points=\"-4,4 -4,-917 211,-917 211,4 -4,4\" stroke=\"none\"/>\n",
       "<!-- 140208509182192 -->\n",
       "<g class=\"node\" id=\"node1\"><title>140208509182192</title>\n",
       "<polygon fill=\"none\" points=\"42,-803.5 42,-839.5 165,-839.5 165,-803.5 42,-803.5\" stroke=\"black\"/>\n",
       "<text font-family=\"Times,serif\" font-size=\"14.00\" text-anchor=\"middle\" x=\"103.5\" y=\"-817.8\">conv2d_3: Conv2D</text>\n",
       "</g>\n",
       "<!-- 140208509182472 -->\n",
       "<g class=\"node\" id=\"node2\"><title>140208509182472</title>\n",
       "<polygon fill=\"none\" points=\"0,-730.5 0,-766.5 207,-766.5 207,-730.5 0,-730.5\" stroke=\"black\"/>\n",
       "<text font-family=\"Times,serif\" font-size=\"14.00\" text-anchor=\"middle\" x=\"103.5\" y=\"-744.8\">max_pooling2d_2: MaxPooling2D</text>\n",
       "</g>\n",
       "<!-- 140208509182192&#45;&gt;140208509182472 -->\n",
       "<g class=\"edge\" id=\"edge2\"><title>140208509182192-&gt;140208509182472</title>\n",
       "<path d=\"M103.5,-803.313C103.5,-795.289 103.5,-785.547 103.5,-776.569\" fill=\"none\" stroke=\"black\"/>\n",
       "<polygon fill=\"black\" points=\"107,-776.529 103.5,-766.529 100,-776.529 107,-776.529\" stroke=\"black\"/>\n",
       "</g>\n",
       "<!-- 140208956343576 -->\n",
       "<g class=\"node\" id=\"node3\"><title>140208956343576</title>\n",
       "<polygon fill=\"none\" points=\"48,-657.5 48,-693.5 159,-693.5 159,-657.5 48,-657.5\" stroke=\"black\"/>\n",
       "<text font-family=\"Times,serif\" font-size=\"14.00\" text-anchor=\"middle\" x=\"103.5\" y=\"-671.8\">dropout: Dropout</text>\n",
       "</g>\n",
       "<!-- 140208509182472&#45;&gt;140208956343576 -->\n",
       "<g class=\"edge\" id=\"edge3\"><title>140208509182472-&gt;140208956343576</title>\n",
       "<path d=\"M103.5,-730.313C103.5,-722.289 103.5,-712.547 103.5,-703.569\" fill=\"none\" stroke=\"black\"/>\n",
       "<polygon fill=\"black\" points=\"107,-703.529 103.5,-693.529 100,-703.529 107,-703.529\" stroke=\"black\"/>\n",
       "</g>\n",
       "<!-- 140208956344864 -->\n",
       "<g class=\"node\" id=\"node4\"><title>140208956344864</title>\n",
       "<polygon fill=\"none\" points=\"42,-584.5 42,-620.5 165,-620.5 165,-584.5 42,-584.5\" stroke=\"black\"/>\n",
       "<text font-family=\"Times,serif\" font-size=\"14.00\" text-anchor=\"middle\" x=\"103.5\" y=\"-598.8\">conv2d_4: Conv2D</text>\n",
       "</g>\n",
       "<!-- 140208956343576&#45;&gt;140208956344864 -->\n",
       "<g class=\"edge\" id=\"edge4\"><title>140208956343576-&gt;140208956344864</title>\n",
       "<path d=\"M103.5,-657.313C103.5,-649.289 103.5,-639.547 103.5,-630.569\" fill=\"none\" stroke=\"black\"/>\n",
       "<polygon fill=\"black\" points=\"107,-630.529 103.5,-620.529 100,-630.529 107,-630.529\" stroke=\"black\"/>\n",
       "</g>\n",
       "<!-- 140208955824336 -->\n",
       "<g class=\"node\" id=\"node5\"><title>140208955824336</title>\n",
       "<polygon fill=\"none\" points=\"0,-511.5 0,-547.5 207,-547.5 207,-511.5 0,-511.5\" stroke=\"black\"/>\n",
       "<text font-family=\"Times,serif\" font-size=\"14.00\" text-anchor=\"middle\" x=\"103.5\" y=\"-525.8\">max_pooling2d_3: MaxPooling2D</text>\n",
       "</g>\n",
       "<!-- 140208956344864&#45;&gt;140208955824336 -->\n",
       "<g class=\"edge\" id=\"edge5\"><title>140208956344864-&gt;140208955824336</title>\n",
       "<path d=\"M103.5,-584.313C103.5,-576.289 103.5,-566.547 103.5,-557.569\" fill=\"none\" stroke=\"black\"/>\n",
       "<polygon fill=\"black\" points=\"107,-557.529 103.5,-547.529 100,-557.529 107,-557.529\" stroke=\"black\"/>\n",
       "</g>\n",
       "<!-- 140208955669920 -->\n",
       "<g class=\"node\" id=\"node6\"><title>140208955669920</title>\n",
       "<polygon fill=\"none\" points=\"41,-438.5 41,-474.5 166,-474.5 166,-438.5 41,-438.5\" stroke=\"black\"/>\n",
       "<text font-family=\"Times,serif\" font-size=\"14.00\" text-anchor=\"middle\" x=\"103.5\" y=\"-452.8\">dropout_1: Dropout</text>\n",
       "</g>\n",
       "<!-- 140208955824336&#45;&gt;140208955669920 -->\n",
       "<g class=\"edge\" id=\"edge6\"><title>140208955824336-&gt;140208955669920</title>\n",
       "<path d=\"M103.5,-511.313C103.5,-503.289 103.5,-493.547 103.5,-484.569\" fill=\"none\" stroke=\"black\"/>\n",
       "<polygon fill=\"black\" points=\"107,-484.529 103.5,-474.529 100,-484.529 107,-484.529\" stroke=\"black\"/>\n",
       "</g>\n",
       "<!-- 140208955402952 -->\n",
       "<g class=\"node\" id=\"node7\"><title>140208955402952</title>\n",
       "<polygon fill=\"none\" points=\"42,-365.5 42,-401.5 165,-401.5 165,-365.5 42,-365.5\" stroke=\"black\"/>\n",
       "<text font-family=\"Times,serif\" font-size=\"14.00\" text-anchor=\"middle\" x=\"103.5\" y=\"-379.8\">conv2d_5: Conv2D</text>\n",
       "</g>\n",
       "<!-- 140208955669920&#45;&gt;140208955402952 -->\n",
       "<g class=\"edge\" id=\"edge7\"><title>140208955669920-&gt;140208955402952</title>\n",
       "<path d=\"M103.5,-438.313C103.5,-430.289 103.5,-420.547 103.5,-411.569\" fill=\"none\" stroke=\"black\"/>\n",
       "<polygon fill=\"black\" points=\"107,-411.529 103.5,-401.529 100,-411.529 107,-411.529\" stroke=\"black\"/>\n",
       "</g>\n",
       "<!-- 140208955403008 -->\n",
       "<g class=\"node\" id=\"node8\"><title>140208955403008</title>\n",
       "<polygon fill=\"none\" points=\"41,-292.5 41,-328.5 166,-328.5 166,-292.5 41,-292.5\" stroke=\"black\"/>\n",
       "<text font-family=\"Times,serif\" font-size=\"14.00\" text-anchor=\"middle\" x=\"103.5\" y=\"-306.8\">dropout_2: Dropout</text>\n",
       "</g>\n",
       "<!-- 140208955402952&#45;&gt;140208955403008 -->\n",
       "<g class=\"edge\" id=\"edge8\"><title>140208955402952-&gt;140208955403008</title>\n",
       "<path d=\"M103.5,-365.313C103.5,-357.289 103.5,-347.547 103.5,-338.569\" fill=\"none\" stroke=\"black\"/>\n",
       "<polygon fill=\"black\" points=\"107,-338.529 103.5,-328.529 100,-338.529 107,-338.529\" stroke=\"black\"/>\n",
       "</g>\n",
       "<!-- 140208955200904 -->\n",
       "<g class=\"node\" id=\"node9\"><title>140208955200904</title>\n",
       "<polygon fill=\"none\" points=\"48.5,-219.5 48.5,-255.5 158.5,-255.5 158.5,-219.5 48.5,-219.5\" stroke=\"black\"/>\n",
       "<text font-family=\"Times,serif\" font-size=\"14.00\" text-anchor=\"middle\" x=\"103.5\" y=\"-233.8\">flatten_1: Flatten</text>\n",
       "</g>\n",
       "<!-- 140208955403008&#45;&gt;140208955200904 -->\n",
       "<g class=\"edge\" id=\"edge9\"><title>140208955403008-&gt;140208955200904</title>\n",
       "<path d=\"M103.5,-292.313C103.5,-284.289 103.5,-274.547 103.5,-265.569\" fill=\"none\" stroke=\"black\"/>\n",
       "<polygon fill=\"black\" points=\"107,-265.529 103.5,-255.529 100,-265.529 107,-265.529\" stroke=\"black\"/>\n",
       "</g>\n",
       "<!-- 140208509182920 -->\n",
       "<g class=\"node\" id=\"node10\"><title>140208509182920</title>\n",
       "<polygon fill=\"none\" points=\"52.5,-146.5 52.5,-182.5 154.5,-182.5 154.5,-146.5 52.5,-146.5\" stroke=\"black\"/>\n",
       "<text font-family=\"Times,serif\" font-size=\"14.00\" text-anchor=\"middle\" x=\"103.5\" y=\"-160.8\">dense_2: Dense</text>\n",
       "</g>\n",
       "<!-- 140208955200904&#45;&gt;140208509182920 -->\n",
       "<g class=\"edge\" id=\"edge10\"><title>140208955200904-&gt;140208509182920</title>\n",
       "<path d=\"M103.5,-219.313C103.5,-211.289 103.5,-201.547 103.5,-192.569\" fill=\"none\" stroke=\"black\"/>\n",
       "<polygon fill=\"black\" points=\"107,-192.529 103.5,-182.529 100,-192.529 107,-192.529\" stroke=\"black\"/>\n",
       "</g>\n",
       "<!-- 140208954604624 -->\n",
       "<g class=\"node\" id=\"node11\"><title>140208954604624</title>\n",
       "<polygon fill=\"none\" points=\"41,-73.5 41,-109.5 166,-109.5 166,-73.5 41,-73.5\" stroke=\"black\"/>\n",
       "<text font-family=\"Times,serif\" font-size=\"14.00\" text-anchor=\"middle\" x=\"103.5\" y=\"-87.8\">dropout_3: Dropout</text>\n",
       "</g>\n",
       "<!-- 140208509182920&#45;&gt;140208954604624 -->\n",
       "<g class=\"edge\" id=\"edge11\"><title>140208509182920-&gt;140208954604624</title>\n",
       "<path d=\"M103.5,-146.313C103.5,-138.289 103.5,-128.547 103.5,-119.569\" fill=\"none\" stroke=\"black\"/>\n",
       "<polygon fill=\"black\" points=\"107,-119.529 103.5,-109.529 100,-119.529 107,-119.529\" stroke=\"black\"/>\n",
       "</g>\n",
       "<!-- 140208954604680 -->\n",
       "<g class=\"node\" id=\"node12\"><title>140208954604680</title>\n",
       "<polygon fill=\"none\" points=\"52.5,-0.5 52.5,-36.5 154.5,-36.5 154.5,-0.5 52.5,-0.5\" stroke=\"black\"/>\n",
       "<text font-family=\"Times,serif\" font-size=\"14.00\" text-anchor=\"middle\" x=\"103.5\" y=\"-14.8\">dense_3: Dense</text>\n",
       "</g>\n",
       "<!-- 140208954604624&#45;&gt;140208954604680 -->\n",
       "<g class=\"edge\" id=\"edge12\"><title>140208954604624-&gt;140208954604680</title>\n",
       "<path d=\"M103.5,-73.3129C103.5,-65.2895 103.5,-55.5475 103.5,-46.5691\" fill=\"none\" stroke=\"black\"/>\n",
       "<polygon fill=\"black\" points=\"107,-46.5288 103.5,-36.5288 100,-46.5289 107,-46.5288\" stroke=\"black\"/>\n",
       "</g>\n",
       "<!-- 140208509182808 -->\n",
       "<g class=\"node\" id=\"node13\"><title>140208509182808</title>\n",
       "<polygon fill=\"none\" points=\"44.5,-876.5 44.5,-912.5 162.5,-912.5 162.5,-876.5 44.5,-876.5\" stroke=\"black\"/>\n",
       "<text font-family=\"Times,serif\" font-size=\"14.00\" text-anchor=\"middle\" x=\"103.5\" y=\"-890.8\">140208509182808</text>\n",
       "</g>\n",
       "<!-- 140208509182808&#45;&gt;140208509182192 -->\n",
       "<g class=\"edge\" id=\"edge1\"><title>140208509182808-&gt;140208509182192</title>\n",
       "<path d=\"M103.5,-876.313C103.5,-868.289 103.5,-858.547 103.5,-849.569\" fill=\"none\" stroke=\"black\"/>\n",
       "<polygon fill=\"black\" points=\"107,-849.529 103.5,-839.529 100,-849.529 107,-849.529\" stroke=\"black\"/>\n",
       "</g>\n",
       "</g>\n",
       "</svg>"
      ],
      "text/plain": [
       "<IPython.core.display.SVG object>"
      ]
     },
     "execution_count": 26,
     "metadata": {},
     "output_type": "execute_result"
    }
   ],
   "source": [
    "plot_model(model, to_file='model.png')\n",
    "SVG(model_to_dot(model).create(prog='dot', format='svg'))"
   ]
  },
  {
   "cell_type": "markdown",
   "metadata": {
    "_uuid": "99a964cc1478f1a8583e803ad7eeb35aadd15995"
   },
   "source": [
    "And now let's run the new model."
   ]
  },
  {
   "cell_type": "code",
   "execution_count": 27,
   "metadata": {
    "_uuid": "83029bfb27f99fb6be2ecedc1bd256c0e861456c",
    "execution": {
     "iopub.execute_input": "2023-02-01T07:29:58.748744Z",
     "iopub.status.busy": "2023-02-01T07:29:58.748378Z",
     "iopub.status.idle": "2023-02-01T08:15:50.556102Z",
     "shell.execute_reply": "2023-02-01T08:15:50.554927Z",
     "shell.execute_reply.started": "2023-02-01T07:29:58.748675Z"
    }
   },
   "outputs": [
    {
     "name": "stdout",
     "output_type": "stream",
     "text": [
      "Train on 48000 samples, validate on 12000 samples\n",
      "Epoch 1/50\n",
      "48000/48000 [==============================] - 47s 988us/step - loss: 0.7349 - acc: 0.7222 - val_loss: 0.4638 - val_acc: 0.8201\n",
      "Epoch 2/50\n",
      "48000/48000 [==============================] - 47s 974us/step - loss: 0.4820 - acc: 0.8220 - val_loss: 0.3856 - val_acc: 0.8558\n",
      "Epoch 3/50\n",
      "48000/48000 [==============================] - 47s 983us/step - loss: 0.4124 - acc: 0.8486 - val_loss: 0.3311 - val_acc: 0.8786\n",
      "Epoch 4/50\n",
      "48000/48000 [==============================] - 47s 972us/step - loss: 0.3720 - acc: 0.8644 - val_loss: 0.3121 - val_acc: 0.8878\n",
      "Epoch 5/50\n",
      "48000/48000 [==============================] - 46s 967us/step - loss: 0.3464 - acc: 0.8744 - val_loss: 0.2940 - val_acc: 0.8936\n",
      "Epoch 6/50\n",
      "48000/48000 [==============================] - 46s 957us/step - loss: 0.3263 - acc: 0.8810 - val_loss: 0.2803 - val_acc: 0.8976\n",
      "Epoch 7/50\n",
      "48000/48000 [==============================] - 47s 973us/step - loss: 0.3128 - acc: 0.8848 - val_loss: 0.2672 - val_acc: 0.9025\n",
      "Epoch 8/50\n",
      "48000/48000 [==============================] - 46s 962us/step - loss: 0.3032 - acc: 0.8885 - val_loss: 0.2724 - val_acc: 0.9008\n",
      "Epoch 9/50\n",
      "48000/48000 [==============================] - 46s 963us/step - loss: 0.2935 - acc: 0.8921 - val_loss: 0.2587 - val_acc: 0.9070\n",
      "Epoch 10/50\n",
      "48000/48000 [==============================] - 45s 941us/step - loss: 0.2822 - acc: 0.8950 - val_loss: 0.2611 - val_acc: 0.9048\n",
      "Epoch 11/50\n",
      "48000/48000 [==============================] - 46s 950us/step - loss: 0.2747 - acc: 0.8974 - val_loss: 0.2474 - val_acc: 0.9099\n",
      "Epoch 12/50\n",
      "48000/48000 [==============================] - 46s 963us/step - loss: 0.2700 - acc: 0.9002 - val_loss: 0.2463 - val_acc: 0.9118\n",
      "Epoch 13/50\n",
      "48000/48000 [==============================] - 46s 949us/step - loss: 0.2586 - acc: 0.9042 - val_loss: 0.2415 - val_acc: 0.9102\n",
      "Epoch 14/50\n",
      "48000/48000 [==============================] - 46s 959us/step - loss: 0.2556 - acc: 0.9048 - val_loss: 0.2434 - val_acc: 0.9103\n",
      "Epoch 15/50\n",
      "48000/48000 [==============================] - 46s 953us/step - loss: 0.2544 - acc: 0.9045 - val_loss: 0.2398 - val_acc: 0.9117\n",
      "Epoch 16/50\n",
      "48000/48000 [==============================] - 46s 959us/step - loss: 0.2492 - acc: 0.9074 - val_loss: 0.2306 - val_acc: 0.9168\n",
      "Epoch 17/50\n",
      "48000/48000 [==============================] - 45s 932us/step - loss: 0.2449 - acc: 0.9089 - val_loss: 0.2289 - val_acc: 0.9175\n",
      "Epoch 18/50\n",
      "48000/48000 [==============================] - 46s 959us/step - loss: 0.2424 - acc: 0.9094 - val_loss: 0.2305 - val_acc: 0.9194\n",
      "Epoch 19/50\n",
      "48000/48000 [==============================] - 46s 965us/step - loss: 0.2391 - acc: 0.9109 - val_loss: 0.2254 - val_acc: 0.9185\n",
      "Epoch 20/50\n",
      "48000/48000 [==============================] - 46s 952us/step - loss: 0.2356 - acc: 0.9106 - val_loss: 0.2309 - val_acc: 0.9157\n",
      "Epoch 21/50\n",
      "48000/48000 [==============================] - 46s 954us/step - loss: 0.2329 - acc: 0.9124 - val_loss: 0.2351 - val_acc: 0.9158\n",
      "Epoch 22/50\n",
      "48000/48000 [==============================] - 46s 950us/step - loss: 0.2279 - acc: 0.9150 - val_loss: 0.2344 - val_acc: 0.9153\n",
      "Epoch 23/50\n",
      "48000/48000 [==============================] - 46s 964us/step - loss: 0.2256 - acc: 0.9159 - val_loss: 0.2280 - val_acc: 0.9174\n",
      "Epoch 24/50\n",
      "48000/48000 [==============================] - 46s 959us/step - loss: 0.2218 - acc: 0.9185 - val_loss: 0.2275 - val_acc: 0.9171\n",
      "Epoch 25/50\n",
      "48000/48000 [==============================] - 47s 969us/step - loss: 0.2237 - acc: 0.9165 - val_loss: 0.2253 - val_acc: 0.9202\n",
      "Epoch 26/50\n",
      "48000/48000 [==============================] - 46s 951us/step - loss: 0.2199 - acc: 0.9169 - val_loss: 0.2246 - val_acc: 0.9189\n",
      "Epoch 27/50\n",
      "48000/48000 [==============================] - 46s 954us/step - loss: 0.2196 - acc: 0.9184 - val_loss: 0.2231 - val_acc: 0.9203\n",
      "Epoch 28/50\n",
      "48000/48000 [==============================] - 46s 949us/step - loss: 0.2161 - acc: 0.9180 - val_loss: 0.2276 - val_acc: 0.9192\n",
      "Epoch 29/50\n",
      "48000/48000 [==============================] - 46s 966us/step - loss: 0.2112 - acc: 0.9205 - val_loss: 0.2249 - val_acc: 0.9203\n",
      "Epoch 30/50\n",
      "48000/48000 [==============================] - 46s 959us/step - loss: 0.2110 - acc: 0.9198 - val_loss: 0.2271 - val_acc: 0.9173\n",
      "Epoch 31/50\n",
      "48000/48000 [==============================] - 46s 950us/step - loss: 0.2094 - acc: 0.9206 - val_loss: 0.2289 - val_acc: 0.9212\n",
      "Epoch 32/50\n",
      "48000/48000 [==============================] - 46s 951us/step - loss: 0.2102 - acc: 0.9203 - val_loss: 0.2212 - val_acc: 0.9205\n",
      "Epoch 33/50\n",
      "48000/48000 [==============================] - 45s 937us/step - loss: 0.2063 - acc: 0.9214 - val_loss: 0.2237 - val_acc: 0.9207\n",
      "Epoch 34/50\n",
      "48000/48000 [==============================] - 45s 944us/step - loss: 0.2046 - acc: 0.9230 - val_loss: 0.2185 - val_acc: 0.9233\n",
      "Epoch 35/50\n",
      "48000/48000 [==============================] - 45s 933us/step - loss: 0.2046 - acc: 0.9217 - val_loss: 0.2229 - val_acc: 0.9207\n",
      "Epoch 36/50\n",
      "48000/48000 [==============================] - 45s 942us/step - loss: 0.2014 - acc: 0.9244 - val_loss: 0.2198 - val_acc: 0.9249\n",
      "Epoch 37/50\n",
      "48000/48000 [==============================] - 46s 949us/step - loss: 0.2054 - acc: 0.9234 - val_loss: 0.2251 - val_acc: 0.9212\n",
      "Epoch 38/50\n",
      "48000/48000 [==============================] - 46s 967us/step - loss: 0.2014 - acc: 0.9233 - val_loss: 0.2225 - val_acc: 0.9222\n",
      "Epoch 39/50\n",
      "29056/48000 [=================>............] - ETA: 16s - loss: 0.1962 - acc: 0.9244"
     ]
    }
   ],
   "source": [
    "train_model = model.fit(X_train, y_train,\n",
    "                  batch_size=BATCH_SIZE,\n",
    "                  epochs=NO_EPOCHS,\n",
    "                  verbose=1,\n",
    "                  validation_data=(X_val, y_val))"
   ]
  },
  {
   "cell_type": "markdown",
   "metadata": {
    "_uuid": "676e1c4a3a64db55d6f0e8498f9c59e0e6182931"
   },
   "source": [
    "## <a id=\"57\">Prediction accuracy with the new model</a>\n",
    "\n",
    "Let's re-evaluate the prediction accuracy with the new model."
   ]
  },
  {
   "cell_type": "code",
   "execution_count": 28,
   "metadata": {
    "_uuid": "6b3940059502bfb6303a85a2cee1095b45304491",
    "execution": {
     "iopub.execute_input": "2023-02-01T08:15:50.558229Z",
     "iopub.status.busy": "2023-02-01T08:15:50.557825Z",
     "iopub.status.idle": "2023-02-01T08:15:50.702624Z",
     "shell.execute_reply": "2023-02-01T08:15:50.701148Z",
     "shell.execute_reply.started": "2023-02-01T08:15:50.558179Z"
    }
   },
   "outputs": [
    {
     "name": "stdout",
     "output_type": "stream",
     "text": [
      "This is the format of your plot grid:\n",
      "[ (1,1) x1,y1 ]  [ (1,2) x2,y2 ]\n",
      "\n"
     ]
    },
    {
     "data": {
      "application/vnd.plotly.v1+json": {
       "data": [
        {
         "marker": {
          "color": "Green"
         },
         "mode": "markers+lines",
         "name": "Training accuracy",
         "text": [
          "1",
          "2",
          "3",
          "4",
          "5",
          "6",
          "7",
          "8",
          "9",
          "10",
          "11",
          "12",
          "13",
          "14",
          "15",
          "16",
          "17",
          "18",
          "19",
          "20",
          "21",
          "22",
          "23",
          "24",
          "25",
          "26",
          "27",
          "28",
          "29",
          "30",
          "31",
          "32",
          "33",
          "34",
          "35",
          "36",
          "37",
          "38",
          "39",
          "40",
          "41",
          "42",
          "43",
          "44",
          "45",
          "46",
          "47",
          "48",
          "49",
          "50"
         ],
         "type": "scatter",
         "uid": "f12a91b2-a213-11ed-951f-f767a4b944e4",
         "x": [
          1,
          2,
          3,
          4,
          5,
          6,
          7,
          8,
          9,
          10,
          11,
          12,
          13,
          14,
          15,
          16,
          17,
          18,
          19,
          20,
          21,
          22,
          23,
          24,
          25,
          26,
          27,
          28,
          29,
          30,
          31,
          32,
          33,
          34,
          35,
          36,
          37,
          38,
          39,
          40,
          41,
          42,
          43,
          44,
          45,
          46,
          47,
          48,
          49,
          50
         ],
         "xaxis": "x",
         "y": [
          0.7222291666666667,
          0.8220208333333333,
          0.8485833333333334,
          0.8644375,
          0.8744166666666666,
          0.8810416666666666,
          0.8847916666666666,
          0.8885208333333333,
          0.8920833333333333,
          0.8950208333333334,
          0.8974375,
          0.9001666666666667,
          0.90425,
          0.9048333333333334,
          0.9045208333333333,
          0.907375,
          0.9089166666666667,
          0.909375,
          0.910875,
          0.9106458333333334,
          0.9123541666666667,
          0.915,
          0.9159375,
          0.9184583333333334,
          0.9164583333333334,
          0.9168958333333334,
          0.9183541666666667,
          0.918,
          0.9204583333333334,
          0.9198333333333333,
          0.9205625,
          0.9203125,
          0.9213958333333333,
          0.9229791666666667,
          0.92175,
          0.9243541666666667,
          0.923375,
          0.9232916666666666,
          0.9252916666666666,
          0.9252708333333334,
          0.9254375,
          0.9255833333333333,
          0.9252708333333334,
          0.9257916666666667,
          0.9254166666666667,
          0.9262708333333334,
          0.9280416666666667,
          0.92675,
          0.9281458333333333,
          0.9302083333333333
         ],
         "yaxis": "y"
        },
        {
         "marker": {
          "color": "Red"
         },
         "mode": "markers+lines",
         "name": "Validation accuracy",
         "text": [
          "1",
          "2",
          "3",
          "4",
          "5",
          "6",
          "7",
          "8",
          "9",
          "10",
          "11",
          "12",
          "13",
          "14",
          "15",
          "16",
          "17",
          "18",
          "19",
          "20",
          "21",
          "22",
          "23",
          "24",
          "25",
          "26",
          "27",
          "28",
          "29",
          "30",
          "31",
          "32",
          "33",
          "34",
          "35",
          "36",
          "37",
          "38",
          "39",
          "40",
          "41",
          "42",
          "43",
          "44",
          "45",
          "46",
          "47",
          "48",
          "49",
          "50"
         ],
         "type": "scatter",
         "uid": "f12b6f2e-a213-11ed-951f-f767a4b944e4",
         "x": [
          1,
          2,
          3,
          4,
          5,
          6,
          7,
          8,
          9,
          10,
          11,
          12,
          13,
          14,
          15,
          16,
          17,
          18,
          19,
          20,
          21,
          22,
          23,
          24,
          25,
          26,
          27,
          28,
          29,
          30,
          31,
          32,
          33,
          34,
          35,
          36,
          37,
          38,
          39,
          40,
          41,
          42,
          43,
          44,
          45,
          46,
          47,
          48,
          49,
          50
         ],
         "xaxis": "x",
         "y": [
          0.8200833331743876,
          0.8558333331743876,
          0.8785833331743876,
          0.88775,
          0.893583333492279,
          0.897583333492279,
          0.9025000001589457,
          0.9008333333333334,
          0.907,
          0.90475,
          0.9099166668256123,
          0.9117500001589457,
          0.9101666668256124,
          0.9102500001589457,
          0.9116666668256124,
          0.9167500001589457,
          0.9175000001589457,
          0.9194166668256124,
          0.9185,
          0.9156666668256124,
          0.9157500001589457,
          0.9153333334922791,
          0.9174166666666667,
          0.9170833333333334,
          0.9201666668256124,
          0.9189166668256123,
          0.9202500001589458,
          0.9191666668256124,
          0.9203333333333333,
          0.9172500001589458,
          0.9211666666666667,
          0.9205000001589457,
          0.9207499998410543,
          0.9233333331743876,
          0.92075,
          0.9249166666666667,
          0.9211666668256124,
          0.9221666668256124,
          0.9222500001589458,
          0.9241666666666667,
          0.9201666668256124,
          0.920916666507721,
          0.9188333333333333,
          0.9209166668256124,
          0.9230000001589457,
          0.9239166666666667,
          0.9225,
          0.9225833334922791,
          0.9242500001589458,
          0.9253333331743876
         ],
         "yaxis": "y"
        },
        {
         "marker": {
          "color": "Blue"
         },
         "mode": "markers+lines",
         "name": "Training loss",
         "text": [
          "1",
          "2",
          "3",
          "4",
          "5",
          "6",
          "7",
          "8",
          "9",
          "10",
          "11",
          "12",
          "13",
          "14",
          "15",
          "16",
          "17",
          "18",
          "19",
          "20",
          "21",
          "22",
          "23",
          "24",
          "25",
          "26",
          "27",
          "28",
          "29",
          "30",
          "31",
          "32",
          "33",
          "34",
          "35",
          "36",
          "37",
          "38",
          "39",
          "40",
          "41",
          "42",
          "43",
          "44",
          "45",
          "46",
          "47",
          "48",
          "49",
          "50"
         ],
         "type": "scatter",
         "uid": "f12c318e-a213-11ed-951f-f767a4b944e4",
         "x": [
          1,
          2,
          3,
          4,
          5,
          6,
          7,
          8,
          9,
          10,
          11,
          12,
          13,
          14,
          15,
          16,
          17,
          18,
          19,
          20,
          21,
          22,
          23,
          24,
          25,
          26,
          27,
          28,
          29,
          30,
          31,
          32,
          33,
          34,
          35,
          36,
          37,
          38,
          39,
          40,
          41,
          42,
          43,
          44,
          45,
          46,
          47,
          48,
          49,
          50
         ],
         "xaxis": "x2",
         "y": [
          0.7348675773938497,
          0.48201211404800415,
          0.412411195675532,
          0.3720004562139511,
          0.3463606717189153,
          0.32629184651374815,
          0.31281688110033673,
          0.30317595251401264,
          0.29351650846004484,
          0.28221714317798613,
          0.2747407832145691,
          0.2700392725467682,
          0.2585784165263176,
          0.25564422631263733,
          0.25441334982713065,
          0.2492203837633133,
          0.24492678658167522,
          0.2423773887952169,
          0.23913457409540811,
          0.2355981049736341,
          0.23293168769280115,
          0.22788175354401272,
          0.22560776573419572,
          0.22177461580435434,
          0.2236720625956853,
          0.21994648555914562,
          0.2196310162146886,
          0.21613871534665427,
          0.2112451537847519,
          0.21102179652452469,
          0.20936682653427124,
          0.21023995943864188,
          0.206254416624705,
          0.20456686838467916,
          0.20458746367692948,
          0.20142106560866038,
          0.20544817543029786,
          0.2013722558816274,
          0.19580147701501846,
          0.19819711399078369,
          0.19769907663265865,
          0.19422772129376728,
          0.19736090189218522,
          0.19664891550938288,
          0.19486567191282908,
          0.19596946815649668,
          0.1896752194960912,
          0.19348822486400605,
          0.1890580709973971,
          0.185619647304217
         ],
         "yaxis": "y2"
        },
        {
         "marker": {
          "color": "Magenta"
         },
         "mode": "markers+lines",
         "name": "Validation loss",
         "text": [
          "1",
          "2",
          "3",
          "4",
          "5",
          "6",
          "7",
          "8",
          "9",
          "10",
          "11",
          "12",
          "13",
          "14",
          "15",
          "16",
          "17",
          "18",
          "19",
          "20",
          "21",
          "22",
          "23",
          "24",
          "25",
          "26",
          "27",
          "28",
          "29",
          "30",
          "31",
          "32",
          "33",
          "34",
          "35",
          "36",
          "37",
          "38",
          "39",
          "40",
          "41",
          "42",
          "43",
          "44",
          "45",
          "46",
          "47",
          "48",
          "49",
          "50"
         ],
         "type": "scatter",
         "uid": "f12cef3e-a213-11ed-951f-f767a4b944e4",
         "x": [
          1,
          2,
          3,
          4,
          5,
          6,
          7,
          8,
          9,
          10,
          11,
          12,
          13,
          14,
          15,
          16,
          17,
          18,
          19,
          20,
          21,
          22,
          23,
          24,
          25,
          26,
          27,
          28,
          29,
          30,
          31,
          32,
          33,
          34,
          35,
          36,
          37,
          38,
          39,
          40,
          41,
          42,
          43,
          44,
          45,
          46,
          47,
          48,
          49,
          50
         ],
         "xaxis": "x2",
         "y": [
          0.4637988745371501,
          0.38555153433481854,
          0.33111891651153563,
          0.31213614002863566,
          0.2940151775677999,
          0.2802677272160848,
          0.26716644438107806,
          0.27239323218663536,
          0.25867974758148193,
          0.26112498593330385,
          0.24739828975995382,
          0.246294735511144,
          0.2414558894634247,
          0.243356143395106,
          0.23979930345217387,
          0.2305798801581065,
          0.22890714677174887,
          0.23053535588582358,
          0.22538319794336956,
          0.23085355194409687,
          0.23507463439305623,
          0.23435271461804708,
          0.22795928851763408,
          0.2274845666885376,
          0.22530457989374797,
          0.2246481836636861,
          0.2230573320388794,
          0.22758408522605897,
          0.22490691248575848,
          0.22709450888633728,
          0.22886960458755493,
          0.2212356379032135,
          0.22374585890769957,
          0.21850271010398864,
          0.2229067276318868,
          0.2198157775402069,
          0.22509700886408487,
          0.22246111122767132,
          0.22016566332181295,
          0.2197368213335673,
          0.2246904995441437,
          0.2311077539920807,
          0.228570144255956,
          0.22457145206133525,
          0.21656031306584675,
          0.21700259915987652,
          0.21658672523498534,
          0.21986551253000894,
          0.21961634564399718,
          0.21763156322638194
         ],
         "yaxis": "y2"
        }
       ],
       "layout": {
        "annotations": [
         {
          "font": {
           "size": 16
          },
          "showarrow": false,
          "text": "Training and validation accuracy",
          "x": 0.225,
          "xanchor": "center",
          "xref": "paper",
          "y": 1.0,
          "yanchor": "bottom",
          "yref": "paper"
         },
         {
          "font": {
           "size": 16
          },
          "showarrow": false,
          "text": "Training and validation loss",
          "x": 0.775,
          "xanchor": "center",
          "xref": "paper",
          "y": 1.0,
          "yanchor": "bottom",
          "yref": "paper"
         }
        ],
        "xaxis": {
         "anchor": "y",
         "domain": [
          0.0,
          0.45
         ],
         "title": "Epoch"
        },
        "xaxis2": {
         "anchor": "y2",
         "domain": [
          0.55,
          1.0
         ],
         "title": "Epoch"
        },
        "yaxis": {
         "anchor": "x",
         "domain": [
          0.0,
          1.0
         ],
         "range": [
          0,
          1
         ],
         "title": "Accuracy"
        },
        "yaxis2": {
         "anchor": "x2",
         "domain": [
          0.0,
          1.0
         ],
         "range": [
          0,
          1
         ],
         "title": "Loss"
        }
       }
      },
      "text/html": [
       "<div id=\"15f3a0c2-f702-48a2-8842-c798cacadb7f\" style=\"height: 525px; width: 100%;\" class=\"plotly-graph-div\"></div><script type=\"text/javascript\">require([\"plotly\"], function(Plotly) { window.PLOTLYENV=window.PLOTLYENV || {};window.PLOTLYENV.BASE_URL=\"https://plot.ly\";Plotly.newPlot(\"15f3a0c2-f702-48a2-8842-c798cacadb7f\", [{\"marker\": {\"color\": \"Green\"}, \"mode\": \"markers+lines\", \"name\": \"Training accuracy\", \"text\": [\"1\", \"2\", \"3\", \"4\", \"5\", \"6\", \"7\", \"8\", \"9\", \"10\", \"11\", \"12\", \"13\", \"14\", \"15\", \"16\", \"17\", \"18\", \"19\", \"20\", \"21\", \"22\", \"23\", \"24\", \"25\", \"26\", \"27\", \"28\", \"29\", \"30\", \"31\", \"32\", \"33\", \"34\", \"35\", \"36\", \"37\", \"38\", \"39\", \"40\", \"41\", \"42\", \"43\", \"44\", \"45\", \"46\", \"47\", \"48\", \"49\", \"50\"], \"x\": [1, 2, 3, 4, 5, 6, 7, 8, 9, 10, 11, 12, 13, 14, 15, 16, 17, 18, 19, 20, 21, 22, 23, 24, 25, 26, 27, 28, 29, 30, 31, 32, 33, 34, 35, 36, 37, 38, 39, 40, 41, 42, 43, 44, 45, 46, 47, 48, 49, 50], \"y\": [0.7222291666666667, 0.8220208333333333, 0.8485833333333334, 0.8644375, 0.8744166666666666, 0.8810416666666666, 0.8847916666666666, 0.8885208333333333, 0.8920833333333333, 0.8950208333333334, 0.8974375, 0.9001666666666667, 0.90425, 0.9048333333333334, 0.9045208333333333, 0.907375, 0.9089166666666667, 0.909375, 0.910875, 0.9106458333333334, 0.9123541666666667, 0.915, 0.9159375, 0.9184583333333334, 0.9164583333333334, 0.9168958333333334, 0.9183541666666667, 0.918, 0.9204583333333334, 0.9198333333333333, 0.9205625, 0.9203125, 0.9213958333333333, 0.9229791666666667, 0.92175, 0.9243541666666667, 0.923375, 0.9232916666666666, 0.9252916666666666, 0.9252708333333334, 0.9254375, 0.9255833333333333, 0.9252708333333334, 0.9257916666666667, 0.9254166666666667, 0.9262708333333334, 0.9280416666666667, 0.92675, 0.9281458333333333, 0.9302083333333333], \"type\": \"scatter\", \"uid\": \"f12a91b2-a213-11ed-951f-f767a4b944e4\", \"xaxis\": \"x\", \"yaxis\": \"y\"}, {\"marker\": {\"color\": \"Red\"}, \"mode\": \"markers+lines\", \"name\": \"Validation accuracy\", \"text\": [\"1\", \"2\", \"3\", \"4\", \"5\", \"6\", \"7\", \"8\", \"9\", \"10\", \"11\", \"12\", \"13\", \"14\", \"15\", \"16\", \"17\", \"18\", \"19\", \"20\", \"21\", \"22\", \"23\", \"24\", \"25\", \"26\", \"27\", \"28\", \"29\", \"30\", \"31\", \"32\", \"33\", \"34\", \"35\", \"36\", \"37\", \"38\", \"39\", \"40\", \"41\", \"42\", \"43\", \"44\", \"45\", \"46\", \"47\", \"48\", \"49\", \"50\"], \"x\": [1, 2, 3, 4, 5, 6, 7, 8, 9, 10, 11, 12, 13, 14, 15, 16, 17, 18, 19, 20, 21, 22, 23, 24, 25, 26, 27, 28, 29, 30, 31, 32, 33, 34, 35, 36, 37, 38, 39, 40, 41, 42, 43, 44, 45, 46, 47, 48, 49, 50], \"y\": [0.8200833331743876, 0.8558333331743876, 0.8785833331743876, 0.88775, 0.893583333492279, 0.897583333492279, 0.9025000001589457, 0.9008333333333334, 0.907, 0.90475, 0.9099166668256123, 0.9117500001589457, 0.9101666668256124, 0.9102500001589457, 0.9116666668256124, 0.9167500001589457, 0.9175000001589457, 0.9194166668256124, 0.9185, 0.9156666668256124, 0.9157500001589457, 0.9153333334922791, 0.9174166666666667, 0.9170833333333334, 0.9201666668256124, 0.9189166668256123, 0.9202500001589458, 0.9191666668256124, 0.9203333333333333, 0.9172500001589458, 0.9211666666666667, 0.9205000001589457, 0.9207499998410543, 0.9233333331743876, 0.92075, 0.9249166666666667, 0.9211666668256124, 0.9221666668256124, 0.9222500001589458, 0.9241666666666667, 0.9201666668256124, 0.920916666507721, 0.9188333333333333, 0.9209166668256124, 0.9230000001589457, 0.9239166666666667, 0.9225, 0.9225833334922791, 0.9242500001589458, 0.9253333331743876], \"type\": \"scatter\", \"uid\": \"f12b6f2e-a213-11ed-951f-f767a4b944e4\", \"xaxis\": \"x\", \"yaxis\": \"y\"}, {\"marker\": {\"color\": \"Blue\"}, \"mode\": \"markers+lines\", \"name\": \"Training loss\", \"text\": [\"1\", \"2\", \"3\", \"4\", \"5\", \"6\", \"7\", \"8\", \"9\", \"10\", \"11\", \"12\", \"13\", \"14\", \"15\", \"16\", \"17\", \"18\", \"19\", \"20\", \"21\", \"22\", \"23\", \"24\", \"25\", \"26\", \"27\", \"28\", \"29\", \"30\", \"31\", \"32\", \"33\", \"34\", \"35\", \"36\", \"37\", \"38\", \"39\", \"40\", \"41\", \"42\", \"43\", \"44\", \"45\", \"46\", \"47\", \"48\", \"49\", \"50\"], \"x\": [1, 2, 3, 4, 5, 6, 7, 8, 9, 10, 11, 12, 13, 14, 15, 16, 17, 18, 19, 20, 21, 22, 23, 24, 25, 26, 27, 28, 29, 30, 31, 32, 33, 34, 35, 36, 37, 38, 39, 40, 41, 42, 43, 44, 45, 46, 47, 48, 49, 50], \"y\": [0.7348675773938497, 0.48201211404800415, 0.412411195675532, 0.3720004562139511, 0.3463606717189153, 0.32629184651374815, 0.31281688110033673, 0.30317595251401264, 0.29351650846004484, 0.28221714317798613, 0.2747407832145691, 0.2700392725467682, 0.2585784165263176, 0.25564422631263733, 0.25441334982713065, 0.2492203837633133, 0.24492678658167522, 0.2423773887952169, 0.23913457409540811, 0.2355981049736341, 0.23293168769280115, 0.22788175354401272, 0.22560776573419572, 0.22177461580435434, 0.2236720625956853, 0.21994648555914562, 0.2196310162146886, 0.21613871534665427, 0.2112451537847519, 0.21102179652452469, 0.20936682653427124, 0.21023995943864188, 0.206254416624705, 0.20456686838467916, 0.20458746367692948, 0.20142106560866038, 0.20544817543029786, 0.2013722558816274, 0.19580147701501846, 0.19819711399078369, 0.19769907663265865, 0.19422772129376728, 0.19736090189218522, 0.19664891550938288, 0.19486567191282908, 0.19596946815649668, 0.1896752194960912, 0.19348822486400605, 0.1890580709973971, 0.185619647304217], \"type\": \"scatter\", \"uid\": \"f12c318e-a213-11ed-951f-f767a4b944e4\", \"xaxis\": \"x2\", \"yaxis\": \"y2\"}, {\"marker\": {\"color\": \"Magenta\"}, \"mode\": \"markers+lines\", \"name\": \"Validation loss\", \"text\": [\"1\", \"2\", \"3\", \"4\", \"5\", \"6\", \"7\", \"8\", \"9\", \"10\", \"11\", \"12\", \"13\", \"14\", \"15\", \"16\", \"17\", \"18\", \"19\", \"20\", \"21\", \"22\", \"23\", \"24\", \"25\", \"26\", \"27\", \"28\", \"29\", \"30\", \"31\", \"32\", \"33\", \"34\", \"35\", \"36\", \"37\", \"38\", \"39\", \"40\", \"41\", \"42\", \"43\", \"44\", \"45\", \"46\", \"47\", \"48\", \"49\", \"50\"], \"x\": [1, 2, 3, 4, 5, 6, 7, 8, 9, 10, 11, 12, 13, 14, 15, 16, 17, 18, 19, 20, 21, 22, 23, 24, 25, 26, 27, 28, 29, 30, 31, 32, 33, 34, 35, 36, 37, 38, 39, 40, 41, 42, 43, 44, 45, 46, 47, 48, 49, 50], \"y\": [0.4637988745371501, 0.38555153433481854, 0.33111891651153563, 0.31213614002863566, 0.2940151775677999, 0.2802677272160848, 0.26716644438107806, 0.27239323218663536, 0.25867974758148193, 0.26112498593330385, 0.24739828975995382, 0.246294735511144, 0.2414558894634247, 0.243356143395106, 0.23979930345217387, 0.2305798801581065, 0.22890714677174887, 0.23053535588582358, 0.22538319794336956, 0.23085355194409687, 0.23507463439305623, 0.23435271461804708, 0.22795928851763408, 0.2274845666885376, 0.22530457989374797, 0.2246481836636861, 0.2230573320388794, 0.22758408522605897, 0.22490691248575848, 0.22709450888633728, 0.22886960458755493, 0.2212356379032135, 0.22374585890769957, 0.21850271010398864, 0.2229067276318868, 0.2198157775402069, 0.22509700886408487, 0.22246111122767132, 0.22016566332181295, 0.2197368213335673, 0.2246904995441437, 0.2311077539920807, 0.228570144255956, 0.22457145206133525, 0.21656031306584675, 0.21700259915987652, 0.21658672523498534, 0.21986551253000894, 0.21961634564399718, 0.21763156322638194], \"type\": \"scatter\", \"uid\": \"f12cef3e-a213-11ed-951f-f767a4b944e4\", \"xaxis\": \"x2\", \"yaxis\": \"y2\"}], {\"annotations\": [{\"font\": {\"size\": 16}, \"showarrow\": false, \"text\": \"Training and validation accuracy\", \"x\": 0.225, \"xanchor\": \"center\", \"xref\": \"paper\", \"y\": 1.0, \"yanchor\": \"bottom\", \"yref\": \"paper\"}, {\"font\": {\"size\": 16}, \"showarrow\": false, \"text\": \"Training and validation loss\", \"x\": 0.775, \"xanchor\": \"center\", \"xref\": \"paper\", \"y\": 1.0, \"yanchor\": \"bottom\", \"yref\": \"paper\"}], \"xaxis\": {\"anchor\": \"y\", \"domain\": [0.0, 0.45], \"title\": \"Epoch\"}, \"yaxis\": {\"anchor\": \"x\", \"domain\": [0.0, 1.0], \"title\": \"Accuracy\", \"range\": [0, 1]}, \"xaxis2\": {\"anchor\": \"y2\", \"domain\": [0.55, 1.0], \"title\": \"Epoch\"}, \"yaxis2\": {\"anchor\": \"x2\", \"domain\": [0.0, 1.0], \"title\": \"Loss\", \"range\": [0, 1]}}, {\"showLink\": true, \"linkText\": \"Export to plot.ly\"})});</script>"
      ],
      "text/vnd.plotly.v1+html": [
       "<div id=\"15f3a0c2-f702-48a2-8842-c798cacadb7f\" style=\"height: 525px; width: 100%;\" class=\"plotly-graph-div\"></div><script type=\"text/javascript\">require([\"plotly\"], function(Plotly) { window.PLOTLYENV=window.PLOTLYENV || {};window.PLOTLYENV.BASE_URL=\"https://plot.ly\";Plotly.newPlot(\"15f3a0c2-f702-48a2-8842-c798cacadb7f\", [{\"marker\": {\"color\": \"Green\"}, \"mode\": \"markers+lines\", \"name\": \"Training accuracy\", \"text\": [\"1\", \"2\", \"3\", \"4\", \"5\", \"6\", \"7\", \"8\", \"9\", \"10\", \"11\", \"12\", \"13\", \"14\", \"15\", \"16\", \"17\", \"18\", \"19\", \"20\", \"21\", \"22\", \"23\", \"24\", \"25\", \"26\", \"27\", \"28\", \"29\", \"30\", \"31\", \"32\", \"33\", \"34\", \"35\", \"36\", \"37\", \"38\", \"39\", \"40\", \"41\", \"42\", \"43\", \"44\", \"45\", \"46\", \"47\", \"48\", \"49\", \"50\"], \"x\": [1, 2, 3, 4, 5, 6, 7, 8, 9, 10, 11, 12, 13, 14, 15, 16, 17, 18, 19, 20, 21, 22, 23, 24, 25, 26, 27, 28, 29, 30, 31, 32, 33, 34, 35, 36, 37, 38, 39, 40, 41, 42, 43, 44, 45, 46, 47, 48, 49, 50], \"y\": [0.7222291666666667, 0.8220208333333333, 0.8485833333333334, 0.8644375, 0.8744166666666666, 0.8810416666666666, 0.8847916666666666, 0.8885208333333333, 0.8920833333333333, 0.8950208333333334, 0.8974375, 0.9001666666666667, 0.90425, 0.9048333333333334, 0.9045208333333333, 0.907375, 0.9089166666666667, 0.909375, 0.910875, 0.9106458333333334, 0.9123541666666667, 0.915, 0.9159375, 0.9184583333333334, 0.9164583333333334, 0.9168958333333334, 0.9183541666666667, 0.918, 0.9204583333333334, 0.9198333333333333, 0.9205625, 0.9203125, 0.9213958333333333, 0.9229791666666667, 0.92175, 0.9243541666666667, 0.923375, 0.9232916666666666, 0.9252916666666666, 0.9252708333333334, 0.9254375, 0.9255833333333333, 0.9252708333333334, 0.9257916666666667, 0.9254166666666667, 0.9262708333333334, 0.9280416666666667, 0.92675, 0.9281458333333333, 0.9302083333333333], \"type\": \"scatter\", \"uid\": \"f12a91b2-a213-11ed-951f-f767a4b944e4\", \"xaxis\": \"x\", \"yaxis\": \"y\"}, {\"marker\": {\"color\": \"Red\"}, \"mode\": \"markers+lines\", \"name\": \"Validation accuracy\", \"text\": [\"1\", \"2\", \"3\", \"4\", \"5\", \"6\", \"7\", \"8\", \"9\", \"10\", \"11\", \"12\", \"13\", \"14\", \"15\", \"16\", \"17\", \"18\", \"19\", \"20\", \"21\", \"22\", \"23\", \"24\", \"25\", \"26\", \"27\", \"28\", \"29\", \"30\", \"31\", \"32\", \"33\", \"34\", \"35\", \"36\", \"37\", \"38\", \"39\", \"40\", \"41\", \"42\", \"43\", \"44\", \"45\", \"46\", \"47\", \"48\", \"49\", \"50\"], \"x\": [1, 2, 3, 4, 5, 6, 7, 8, 9, 10, 11, 12, 13, 14, 15, 16, 17, 18, 19, 20, 21, 22, 23, 24, 25, 26, 27, 28, 29, 30, 31, 32, 33, 34, 35, 36, 37, 38, 39, 40, 41, 42, 43, 44, 45, 46, 47, 48, 49, 50], \"y\": [0.8200833331743876, 0.8558333331743876, 0.8785833331743876, 0.88775, 0.893583333492279, 0.897583333492279, 0.9025000001589457, 0.9008333333333334, 0.907, 0.90475, 0.9099166668256123, 0.9117500001589457, 0.9101666668256124, 0.9102500001589457, 0.9116666668256124, 0.9167500001589457, 0.9175000001589457, 0.9194166668256124, 0.9185, 0.9156666668256124, 0.9157500001589457, 0.9153333334922791, 0.9174166666666667, 0.9170833333333334, 0.9201666668256124, 0.9189166668256123, 0.9202500001589458, 0.9191666668256124, 0.9203333333333333, 0.9172500001589458, 0.9211666666666667, 0.9205000001589457, 0.9207499998410543, 0.9233333331743876, 0.92075, 0.9249166666666667, 0.9211666668256124, 0.9221666668256124, 0.9222500001589458, 0.9241666666666667, 0.9201666668256124, 0.920916666507721, 0.9188333333333333, 0.9209166668256124, 0.9230000001589457, 0.9239166666666667, 0.9225, 0.9225833334922791, 0.9242500001589458, 0.9253333331743876], \"type\": \"scatter\", \"uid\": \"f12b6f2e-a213-11ed-951f-f767a4b944e4\", \"xaxis\": \"x\", \"yaxis\": \"y\"}, {\"marker\": {\"color\": \"Blue\"}, \"mode\": \"markers+lines\", \"name\": \"Training loss\", \"text\": [\"1\", \"2\", \"3\", \"4\", \"5\", \"6\", \"7\", \"8\", \"9\", \"10\", \"11\", \"12\", \"13\", \"14\", \"15\", \"16\", \"17\", \"18\", \"19\", \"20\", \"21\", \"22\", \"23\", \"24\", \"25\", \"26\", \"27\", \"28\", \"29\", \"30\", \"31\", \"32\", \"33\", \"34\", \"35\", \"36\", \"37\", \"38\", \"39\", \"40\", \"41\", \"42\", \"43\", \"44\", \"45\", \"46\", \"47\", \"48\", \"49\", \"50\"], \"x\": [1, 2, 3, 4, 5, 6, 7, 8, 9, 10, 11, 12, 13, 14, 15, 16, 17, 18, 19, 20, 21, 22, 23, 24, 25, 26, 27, 28, 29, 30, 31, 32, 33, 34, 35, 36, 37, 38, 39, 40, 41, 42, 43, 44, 45, 46, 47, 48, 49, 50], \"y\": [0.7348675773938497, 0.48201211404800415, 0.412411195675532, 0.3720004562139511, 0.3463606717189153, 0.32629184651374815, 0.31281688110033673, 0.30317595251401264, 0.29351650846004484, 0.28221714317798613, 0.2747407832145691, 0.2700392725467682, 0.2585784165263176, 0.25564422631263733, 0.25441334982713065, 0.2492203837633133, 0.24492678658167522, 0.2423773887952169, 0.23913457409540811, 0.2355981049736341, 0.23293168769280115, 0.22788175354401272, 0.22560776573419572, 0.22177461580435434, 0.2236720625956853, 0.21994648555914562, 0.2196310162146886, 0.21613871534665427, 0.2112451537847519, 0.21102179652452469, 0.20936682653427124, 0.21023995943864188, 0.206254416624705, 0.20456686838467916, 0.20458746367692948, 0.20142106560866038, 0.20544817543029786, 0.2013722558816274, 0.19580147701501846, 0.19819711399078369, 0.19769907663265865, 0.19422772129376728, 0.19736090189218522, 0.19664891550938288, 0.19486567191282908, 0.19596946815649668, 0.1896752194960912, 0.19348822486400605, 0.1890580709973971, 0.185619647304217], \"type\": \"scatter\", \"uid\": \"f12c318e-a213-11ed-951f-f767a4b944e4\", \"xaxis\": \"x2\", \"yaxis\": \"y2\"}, {\"marker\": {\"color\": \"Magenta\"}, \"mode\": \"markers+lines\", \"name\": \"Validation loss\", \"text\": [\"1\", \"2\", \"3\", \"4\", \"5\", \"6\", \"7\", \"8\", \"9\", \"10\", \"11\", \"12\", \"13\", \"14\", \"15\", \"16\", \"17\", \"18\", \"19\", \"20\", \"21\", \"22\", \"23\", \"24\", \"25\", \"26\", \"27\", \"28\", \"29\", \"30\", \"31\", \"32\", \"33\", \"34\", \"35\", \"36\", \"37\", \"38\", \"39\", \"40\", \"41\", \"42\", \"43\", \"44\", \"45\", \"46\", \"47\", \"48\", \"49\", \"50\"], \"x\": [1, 2, 3, 4, 5, 6, 7, 8, 9, 10, 11, 12, 13, 14, 15, 16, 17, 18, 19, 20, 21, 22, 23, 24, 25, 26, 27, 28, 29, 30, 31, 32, 33, 34, 35, 36, 37, 38, 39, 40, 41, 42, 43, 44, 45, 46, 47, 48, 49, 50], \"y\": [0.4637988745371501, 0.38555153433481854, 0.33111891651153563, 0.31213614002863566, 0.2940151775677999, 0.2802677272160848, 0.26716644438107806, 0.27239323218663536, 0.25867974758148193, 0.26112498593330385, 0.24739828975995382, 0.246294735511144, 0.2414558894634247, 0.243356143395106, 0.23979930345217387, 0.2305798801581065, 0.22890714677174887, 0.23053535588582358, 0.22538319794336956, 0.23085355194409687, 0.23507463439305623, 0.23435271461804708, 0.22795928851763408, 0.2274845666885376, 0.22530457989374797, 0.2246481836636861, 0.2230573320388794, 0.22758408522605897, 0.22490691248575848, 0.22709450888633728, 0.22886960458755493, 0.2212356379032135, 0.22374585890769957, 0.21850271010398864, 0.2229067276318868, 0.2198157775402069, 0.22509700886408487, 0.22246111122767132, 0.22016566332181295, 0.2197368213335673, 0.2246904995441437, 0.2311077539920807, 0.228570144255956, 0.22457145206133525, 0.21656031306584675, 0.21700259915987652, 0.21658672523498534, 0.21986551253000894, 0.21961634564399718, 0.21763156322638194], \"type\": \"scatter\", \"uid\": \"f12cef3e-a213-11ed-951f-f767a4b944e4\", \"xaxis\": \"x2\", \"yaxis\": \"y2\"}], {\"annotations\": [{\"font\": {\"size\": 16}, \"showarrow\": false, \"text\": \"Training and validation accuracy\", \"x\": 0.225, \"xanchor\": \"center\", \"xref\": \"paper\", \"y\": 1.0, \"yanchor\": \"bottom\", \"yref\": \"paper\"}, {\"font\": {\"size\": 16}, \"showarrow\": false, \"text\": \"Training and validation loss\", \"x\": 0.775, \"xanchor\": \"center\", \"xref\": \"paper\", \"y\": 1.0, \"yanchor\": \"bottom\", \"yref\": \"paper\"}], \"xaxis\": {\"anchor\": \"y\", \"domain\": [0.0, 0.45], \"title\": \"Epoch\"}, \"yaxis\": {\"anchor\": \"x\", \"domain\": [0.0, 1.0], \"title\": \"Accuracy\", \"range\": [0, 1]}, \"xaxis2\": {\"anchor\": \"y2\", \"domain\": [0.55, 1.0], \"title\": \"Epoch\"}, \"yaxis2\": {\"anchor\": \"x2\", \"domain\": [0.0, 1.0], \"title\": \"Loss\", \"range\": [0, 1]}}, {\"showLink\": true, \"linkText\": \"Export to plot.ly\"})});</script>"
      ]
     },
     "metadata": {},
     "output_type": "display_data"
    }
   ],
   "source": [
    "plot_accuracy_and_loss(train_model)"
   ]
  },
  {
   "cell_type": "markdown",
   "metadata": {
    "_uuid": "f201d6925f70ad2420b3ee7e3a204cdc77f86723"
   },
   "source": [
    "After adding the Dropout layers, the validation accuracy and validation loss are much better. Let's check now the prediction for the test set.\n",
    "\n",
    "\n",
    "## <a id=\"58\">Prediction accuracy with the new model</a>\n",
    "\n",
    "Let's re-evaluate the test prediction accuracy with the new model."
   ]
  },
  {
   "cell_type": "code",
   "execution_count": 29,
   "metadata": {
    "_uuid": "d8e9293e99e34010bd456af7435c4cc7ccebdefd",
    "execution": {
     "iopub.execute_input": "2023-02-01T08:15:50.704294Z",
     "iopub.status.busy": "2023-02-01T08:15:50.703865Z",
     "iopub.status.idle": "2023-02-01T08:15:54.809300Z",
     "shell.execute_reply": "2023-02-01T08:15:54.808359Z",
     "shell.execute_reply.started": "2023-02-01T08:15:50.704131Z"
    }
   },
   "outputs": [
    {
     "name": "stdout",
     "output_type": "stream",
     "text": [
      "Test loss: 0.20124445828795434\n",
      "Test accuracy: 0.9271\n"
     ]
    }
   ],
   "source": [
    "score = model.evaluate(X_test, y_test, verbose=0)\n",
    "print('Test loss:', score[0])\n",
    "print('Test accuracy:', score[1])"
   ]
  },
  {
   "cell_type": "markdown",
   "metadata": {
    "_uuid": "572baa4ad0f12f490337137f7f9fb56a8a9a48c6"
   },
   "source": [
    "Also the test accuracy improved. The test accuracy is now approximately 0.93."
   ]
  },
  {
   "cell_type": "code",
   "execution_count": 30,
   "metadata": {
    "_uuid": "e519f82cc29b0dd8c5145d612da3eb496e2b321d",
    "execution": {
     "iopub.execute_input": "2023-02-01T08:15:54.810558Z",
     "iopub.status.busy": "2023-02-01T08:15:54.810277Z",
     "iopub.status.idle": "2023-02-01T08:15:58.893940Z",
     "shell.execute_reply": "2023-02-01T08:15:58.892811Z",
     "shell.execute_reply.started": "2023-02-01T08:15:54.810515Z"
    }
   },
   "outputs": [],
   "source": [
    "#get the predictions for the test data\n",
    "predicted_classes = model.predict_classes(X_test)\n",
    "#get the indices to be plotted\n",
    "y_true = test_data.iloc[:, 0]"
   ]
  },
  {
   "cell_type": "code",
   "execution_count": 31,
   "metadata": {
    "_uuid": "d5989dd811570fe73b1f6b0715b06c428e578669",
    "execution": {
     "iopub.execute_input": "2023-02-01T08:15:58.895506Z",
     "iopub.status.busy": "2023-02-01T08:15:58.895188Z",
     "iopub.status.idle": "2023-02-01T08:15:58.904883Z",
     "shell.execute_reply": "2023-02-01T08:15:58.903166Z",
     "shell.execute_reply.started": "2023-02-01T08:15:58.895435Z"
    }
   },
   "outputs": [],
   "source": [
    "p = predicted_classes[:10000]\n",
    "y = y_true[:10000]\n",
    "correct = np.nonzero(p==y)[0]\n",
    "incorrect = np.nonzero(p!=y)[0]"
   ]
  },
  {
   "cell_type": "code",
   "execution_count": 32,
   "metadata": {
    "_uuid": "46acb309f135a4082b4e1cd9b98a613b888f7c7e",
    "execution": {
     "iopub.execute_input": "2023-02-01T08:15:58.906595Z",
     "iopub.status.busy": "2023-02-01T08:15:58.906260Z",
     "iopub.status.idle": "2023-02-01T08:15:58.920036Z",
     "shell.execute_reply": "2023-02-01T08:15:58.918749Z",
     "shell.execute_reply.started": "2023-02-01T08:15:58.906532Z"
    }
   },
   "outputs": [
    {
     "name": "stdout",
     "output_type": "stream",
     "text": [
      "Correct predicted classes: 9271\n",
      "Incorrect predicted classes: 729\n"
     ]
    }
   ],
   "source": [
    "print(\"Correct predicted classes:\",correct.shape[0])\n",
    "print(\"Incorrect predicted classes:\",incorrect.shape[0])"
   ]
  },
  {
   "cell_type": "code",
   "execution_count": 33,
   "metadata": {
    "_uuid": "bc3bfd05450aaee55c9e5edc7fb84d884c1d3e0b",
    "execution": {
     "iopub.execute_input": "2023-02-01T08:15:58.921633Z",
     "iopub.status.busy": "2023-02-01T08:15:58.921272Z",
     "iopub.status.idle": "2023-02-01T08:15:58.942159Z",
     "shell.execute_reply": "2023-02-01T08:15:58.941155Z",
     "shell.execute_reply.started": "2023-02-01T08:15:58.921563Z"
    }
   },
   "outputs": [
    {
     "name": "stdout",
     "output_type": "stream",
     "text": [
      "                         precision    recall  f1-score   support\n",
      "\n",
      "Class 0 (T-shirt/top) :       0.88      0.89      0.88      1000\n",
      "    Class 1 (Trouser) :       1.00      0.99      0.99      1000\n",
      "   Class 2 (Pullover) :       0.88      0.89      0.89      1000\n",
      "      Class 3 (Dress) :       0.94      0.93      0.94      1000\n",
      "       Class 4 (Coat) :       0.89      0.90      0.89      1000\n",
      "     Class 5 (Sandal) :       0.99      0.97      0.98      1000\n",
      "      Class 6 (Shirt) :       0.80      0.78      0.79      1000\n",
      "    Class 7 (Sneaker) :       0.93      0.99      0.96      1000\n",
      "        Class 8 (Bag) :       0.98      0.99      0.98      1000\n",
      " Class 9 (Ankle Boot) :       0.99      0.95      0.97      1000\n",
      "\n",
      "            avg / total       0.93      0.93      0.93     10000\n",
      "\n"
     ]
    }
   ],
   "source": [
    "target_names = [\"Class {} ({}) :\".format(i,labels[i]) for i in range(NUM_CLASSES)]\n",
    "print(classification_report(y_true, predicted_classes, target_names=target_names))"
   ]
  },
  {
   "cell_type": "markdown",
   "metadata": {
    "_uuid": "4b0b88588bd3afed148a3c696d997aea4a6c564a"
   },
   "source": [
    "\n",
    "The best accuracy is obtained for Class 1, Class 5, Class 8, Class 9  and Class 7. Worst accuracy is for Class 6.   \n",
    "\n",
    "The recall is highest for Class 8, Class 5 and smallest for Class 6 and Class 4.    \n",
    "\n",
    "f1-score is highest for Class 1, Class 5 and Class 8 and smallest for Class 6 followed by Class 4 and Class 2.  \n",
    "\n",
    "Let's also inspect some of the images. We created two subsets of the predicted images set, correctly and incorrectly classified."
   ]
  },
  {
   "cell_type": "markdown",
   "metadata": {
    "_uuid": "614afbc7ed760856cf9b47f879334902d1b6545b"
   },
   "source": [
    "# <a id=\"6\">Visualize classified images</a>\n",
    "\n",
    "## <a id=\"61\">Correctly classified images</a>\n",
    "\n",
    "\n",
    "We visualize few images correctly classified."
   ]
  },
  {
   "cell_type": "code",
   "execution_count": 34,
   "metadata": {
    "_uuid": "e64edf6e7ae3146eafe8da01f4dbc4e05c8bc1ce",
    "execution": {
     "iopub.execute_input": "2023-02-01T08:15:58.943640Z",
     "iopub.status.busy": "2023-02-01T08:15:58.943350Z",
     "iopub.status.idle": "2023-02-01T08:16:00.385954Z",
     "shell.execute_reply": "2023-02-01T08:16:00.384350Z",
     "shell.execute_reply.started": "2023-02-01T08:15:58.943579Z"
    }
   },
   "outputs": [
    {
     "data": {
      "image/png": "[encoded data removed]",
      "text/plain": [
       "<Figure size 1080x1080 with 16 Axes>"
      ]
     },
     "metadata": {
      "needs_background": "light"
     },
     "output_type": "display_data"
    }
   ],
   "source": [
    "def plot_images(data_index,cmap=\"Blues\"):\n",
    "    # Plot the sample images now\n",
    "    f, ax = plt.subplots(4,4, figsize=(15,15))\n",
    "\n",
    "    for i, indx in enumerate(data_index[:16]):\n",
    "        ax[i//4, i%4].imshow(X_test[indx].reshape(IMG_ROWS,IMG_COLS), cmap=cmap)\n",
    "        ax[i//4, i%4].axis('off')\n",
    "        ax[i//4, i%4].set_title(\"True:{}  Pred:{}\".format(labels[y_true[indx]],labels[predicted_classes[indx]]))\n",
    "    plt.show()    \n",
    "    \n",
    "plot_images(correct, \"Greens\")"
   ]
  },
  {
   "cell_type": "markdown",
   "metadata": {
    "_uuid": "3c7bb1b300a4530d2fa418eb56258a54587e3b90"
   },
   "source": [
    "## <a id=\"62\">Incorrectly classified images</a>\n",
    "\n",
    "Let's see also few images incorrectly classified."
   ]
  },
  {
   "cell_type": "code",
   "execution_count": 35,
   "metadata": {
    "_uuid": "18b2843f6f8542cd95d0847617e84e959996341b",
    "execution": {
     "iopub.execute_input": "2023-02-01T08:16:00.387688Z",
     "iopub.status.busy": "2023-02-01T08:16:00.387379Z",
     "iopub.status.idle": "2023-02-01T08:16:01.841574Z",
     "shell.execute_reply": "2023-02-01T08:16:01.839623Z",
     "shell.execute_reply.started": "2023-02-01T08:16:00.387635Z"
    }
   },
   "outputs": [
    {
     "data": {
      "image/png": "[encoded data removed]",
      "text/plain": [
       "<Figure size 1080x1080 with 16 Axes>"
      ]
     },
     "metadata": {
      "needs_background": "light"
     },
     "output_type": "display_data"
    }
   ],
   "source": [
    "plot_images(incorrect, \"Reds\")"
   ]
  },
  {
   "cell_type": "markdown",
   "metadata": {
    "_uuid": "e24053db4dbfec25fd1b90391586d7ce6bc32988"
   },
   "source": [
    "# <a id=\"7\">Conclusions</a>\n",
    "\n",
    "With a complex sequential model with multiple convolution layers and 50 epochs for the training, we obtained an accuracy ~0.91 for test prediction.\n",
    "After investigating the validation accuracy and loss, we understood that the model is overfitting.   \n",
    "We retrained the model with Dropout layers to the model to reduce overfitting.  \n",
    "We confirmed the model improvement and with the same number of epochs for the training we obtained with the new model an accuracy of ~0.93 for test prediction. Only few classes are not correctly classified all the time, especially Class 6 (Shirt) and Class 2 (Pullover)."
   ]
  },
  {
   "cell_type": "markdown",
   "metadata": {
    "_uuid": "1b45e3422fb9507da66ce7af67a97b54e7fa7683"
   },
   "source": [
    "\n",
    "# <a id=\"8\">References</a>\n",
    "\n",
    "[1] Fashion MNIST, An MNIST-like dataset of 70,000 28x28 labeled fashion images, https://www.kaggle.com/zalando-research/fashionmnist  \n",
    "[2] DanB, CollinMoris, Deep Learning From Scratch, https://www.kaggle.com/dansbecker/deep-learning-from-scratch  \n",
    "[3] DanB, Dropout and Strides for Larger Models, https://www.kaggle.com/dansbecker/dropout-and-strides-for-larger-models  \n",
    "[4] BGO, CNN with Keras, https://www.kaggle.com/bugraokcu/cnn-with-keras    \n",
    "[5] NAIN, EagerFMINST, https://www.kaggle.com/aakashnain/eagerfmnist  \n",
    "[6] Why Dropounts prevent overfitting in Deep Neural Networks, https://medium.com/@vivek.yadav/why-dropouts-prevent-overfitting-in-deep-neural-networks-937e2543a701  \n",
    "[7] Dropout: A Simple Way to Prevent Neural Networks from Overfitting, https://www.cs.toronto.edu/~hinton/absps/JMLRdropout.pdf  "
   ]
  }
 ],
 "metadata": {
  "kernelspec": {
   "display_name": "Python 3",
   "language": "python",
   "name": "python3"
  },
  "language_info": {
   "codemirror_mode": {
    "name": "ipython",
    "version": 3
   },
   "file_extension": ".py",
   "mimetype": "text/x-python",
   "name": "python",
   "nbconvert_exporter": "python",
   "pygments_lexer": "ipython3",
   "version": "3.6.6"
  }
 },
 "nbformat": 4,
 "nbformat_minor": 4
}
